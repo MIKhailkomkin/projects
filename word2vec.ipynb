{
  "cells": [
    {
      "cell_type": "markdown",
      "metadata": {
        "id": "view-in-github",
        "colab_type": "text"
      },
      "source": [
        "<a href=\"https://colab.research.google.com/github/MIKhailkomkin/projects/blob/main/word2vec.ipynb\" target=\"_parent\"><img src=\"https://colab.research.google.com/assets/colab-badge.svg\" alt=\"Open In Colab\"/></a>"
      ]
    },
    {
      "cell_type": "code",
      "execution_count": null,
      "metadata": {
        "id": "Oipe2DU8qfm7",
        "colab": {
          "base_uri": "https://localhost:8080/"
        },
        "outputId": "a38e1f1e-66fe-487c-b094-066ed5cab546"
      },
      "outputs": [
        {
          "output_type": "stream",
          "name": "stdout",
          "text": [
            "Requirement already satisfied: nltk in /usr/local/lib/python3.11/dist-packages (3.9.1)\n",
            "Requirement already satisfied: bokeh in /usr/local/lib/python3.11/dist-packages (3.6.3)\n",
            "Collecting umap-learn\n",
            "  Downloading umap_learn-0.5.7-py3-none-any.whl.metadata (21 kB)\n",
            "Requirement already satisfied: click in /usr/local/lib/python3.11/dist-packages (from nltk) (8.1.8)\n",
            "Requirement already satisfied: joblib in /usr/local/lib/python3.11/dist-packages (from nltk) (1.4.2)\n",
            "Requirement already satisfied: regex>=2021.8.3 in /usr/local/lib/python3.11/dist-packages (from nltk) (2024.11.6)\n",
            "Requirement already satisfied: tqdm in /usr/local/lib/python3.11/dist-packages (from nltk) (4.67.1)\n",
            "Requirement already satisfied: Jinja2>=2.9 in /usr/local/lib/python3.11/dist-packages (from bokeh) (3.1.5)\n",
            "Requirement already satisfied: contourpy>=1.2 in /usr/local/lib/python3.11/dist-packages (from bokeh) (1.3.1)\n",
            "Requirement already satisfied: numpy>=1.16 in /usr/local/lib/python3.11/dist-packages (from bokeh) (1.26.4)\n",
            "Requirement already satisfied: packaging>=16.8 in /usr/local/lib/python3.11/dist-packages (from bokeh) (24.2)\n",
            "Requirement already satisfied: pandas>=1.2 in /usr/local/lib/python3.11/dist-packages (from bokeh) (2.2.2)\n",
            "Requirement already satisfied: pillow>=7.1.0 in /usr/local/lib/python3.11/dist-packages (from bokeh) (11.1.0)\n",
            "Requirement already satisfied: PyYAML>=3.10 in /usr/local/lib/python3.11/dist-packages (from bokeh) (6.0.2)\n",
            "Requirement already satisfied: tornado>=6.2 in /usr/local/lib/python3.11/dist-packages (from bokeh) (6.4.2)\n",
            "Requirement already satisfied: xyzservices>=2021.09.1 in /usr/local/lib/python3.11/dist-packages (from bokeh) (2025.1.0)\n",
            "Requirement already satisfied: scipy>=1.3.1 in /usr/local/lib/python3.11/dist-packages (from umap-learn) (1.13.1)\n",
            "Requirement already satisfied: scikit-learn>=0.22 in /usr/local/lib/python3.11/dist-packages (from umap-learn) (1.6.1)\n",
            "Requirement already satisfied: numba>=0.51.2 in /usr/local/lib/python3.11/dist-packages (from umap-learn) (0.61.0)\n",
            "Collecting pynndescent>=0.5 (from umap-learn)\n",
            "  Downloading pynndescent-0.5.13-py3-none-any.whl.metadata (6.8 kB)\n",
            "Requirement already satisfied: MarkupSafe>=2.0 in /usr/local/lib/python3.11/dist-packages (from Jinja2>=2.9->bokeh) (3.0.2)\n",
            "Requirement already satisfied: llvmlite<0.45,>=0.44.0dev0 in /usr/local/lib/python3.11/dist-packages (from numba>=0.51.2->umap-learn) (0.44.0)\n",
            "Requirement already satisfied: python-dateutil>=2.8.2 in /usr/local/lib/python3.11/dist-packages (from pandas>=1.2->bokeh) (2.8.2)\n",
            "Requirement already satisfied: pytz>=2020.1 in /usr/local/lib/python3.11/dist-packages (from pandas>=1.2->bokeh) (2025.1)\n",
            "Requirement already satisfied: tzdata>=2022.7 in /usr/local/lib/python3.11/dist-packages (from pandas>=1.2->bokeh) (2025.1)\n",
            "Requirement already satisfied: threadpoolctl>=3.1.0 in /usr/local/lib/python3.11/dist-packages (from scikit-learn>=0.22->umap-learn) (3.5.0)\n",
            "Requirement already satisfied: six>=1.5 in /usr/local/lib/python3.11/dist-packages (from python-dateutil>=2.8.2->pandas>=1.2->bokeh) (1.17.0)\n",
            "Downloading umap_learn-0.5.7-py3-none-any.whl (88 kB)\n",
            "\u001b[2K   \u001b[90m━━━━━━━━━━━━━━━━━━━━━━━━━━━━━━━━━━━━━━━━\u001b[0m \u001b[32m88.8/88.8 kB\u001b[0m \u001b[31m4.1 MB/s\u001b[0m eta \u001b[36m0:00:00\u001b[0m\n",
            "\u001b[?25hDownloading pynndescent-0.5.13-py3-none-any.whl (56 kB)\n",
            "\u001b[2K   \u001b[90m━━━━━━━━━━━━━━━━━━━━━━━━━━━━━━━━━━━━━━━━\u001b[0m \u001b[32m56.9/56.9 kB\u001b[0m \u001b[31m3.5 MB/s\u001b[0m eta \u001b[36m0:00:00\u001b[0m\n",
            "\u001b[?25hInstalling collected packages: pynndescent, umap-learn\n",
            "Successfully installed pynndescent-0.5.13 umap-learn-0.5.7\n"
          ]
        }
      ],
      "source": [
        "!pip install --upgrade nltk bokeh umap-learn"
      ]
    },
    {
      "cell_type": "code",
      "execution_count": null,
      "metadata": {
        "id": "pqPU4Lu2qU0h"
      },
      "outputs": [],
      "source": [
        "import itertools\n",
        "import random\n",
        "import string\n",
        "from collections import Counter\n",
        "from itertools import chain\n",
        "\n",
        "import matplotlib.pyplot as plt\n",
        "import numpy as np\n",
        "import torch\n",
        "import torch.autograd as autograd\n",
        "import torch.nn as nn\n",
        "import torch.nn.functional as F\n",
        "import torch.optim as optim\n",
        "import umap\n",
        "from IPython.display import clear_output\n",
        "from matplotlib import pyplot as plt\n",
        "from nltk.tokenize import WordPunctTokenizer\n",
        "from torch.optim.lr_scheduler import ReduceLROnPlateau, StepLR\n",
        "from tqdm.auto import tqdm as tqdma"
      ]
    },
    {
      "cell_type": "code",
      "execution_count": null,
      "metadata": {
        "colab": {
          "base_uri": "https://localhost:8080/"
        },
        "id": "8Fbx57z3qU0i",
        "outputId": "4948c1f3-7415-4410-8ea9-197657cb758d"
      },
      "outputs": [
        {
          "output_type": "stream",
          "name": "stdout",
          "text": [
            "--2025-02-25 22:39:31--  https://www.dropbox.com/s/obaitrix9jyu84r/quora.txt?dl=1\n",
            "Resolving www.dropbox.com (www.dropbox.com)... 162.125.65.18, 2620:100:6021:18::a27d:4112\n",
            "Connecting to www.dropbox.com (www.dropbox.com)|162.125.65.18|:443... connected.\n",
            "HTTP request sent, awaiting response... 302 Found\n",
            "Location: https://www.dropbox.com/scl/fi/p0t2dw6oqs6oxpd6zz534/quora.txt?rlkey=bjupppwua4zmd4elz8octecy9&dl=1 [following]\n",
            "--2025-02-25 22:39:32--  https://www.dropbox.com/scl/fi/p0t2dw6oqs6oxpd6zz534/quora.txt?rlkey=bjupppwua4zmd4elz8octecy9&dl=1\n",
            "Reusing existing connection to www.dropbox.com:443.\n",
            "HTTP request sent, awaiting response... 302 Found\n",
            "Location: https://uc20baced6f638fe02ef58661c66.dl.dropboxusercontent.com/cd/0/inline/Ck2T007Qxu0bIMyAx7tNfTvYsSNpADswHMV5LhOme1Bu0Fp6ZaNUcRGu6AvhtK-PE4HkXVYFwdrXOD1hjUkUjpvFlM2kFpWlmHHncsKI5OEfajlw82k0nAzwnbwEadEDgwE/file?dl=1# [following]\n",
            "--2025-02-25 22:39:32--  https://uc20baced6f638fe02ef58661c66.dl.dropboxusercontent.com/cd/0/inline/Ck2T007Qxu0bIMyAx7tNfTvYsSNpADswHMV5LhOme1Bu0Fp6ZaNUcRGu6AvhtK-PE4HkXVYFwdrXOD1hjUkUjpvFlM2kFpWlmHHncsKI5OEfajlw82k0nAzwnbwEadEDgwE/file?dl=1\n",
            "Resolving uc20baced6f638fe02ef58661c66.dl.dropboxusercontent.com (uc20baced6f638fe02ef58661c66.dl.dropboxusercontent.com)... 162.125.65.15, 2620:100:6017:15::a27d:20f\n",
            "Connecting to uc20baced6f638fe02ef58661c66.dl.dropboxusercontent.com (uc20baced6f638fe02ef58661c66.dl.dropboxusercontent.com)|162.125.65.15|:443... connected.\n",
            "HTTP request sent, awaiting response... 200 OK\n",
            "Length: 33813903 (32M) [application/binary]\n",
            "Saving to: ‘./quora.txt’\n",
            "\n",
            "./quora.txt         100%[===================>]  32.25M  14.7MB/s    in 2.2s    \n",
            "\n",
            "2025-02-25 22:39:36 (14.7 MB/s) - ‘./quora.txt’ saved [33813903/33813903]\n",
            "\n"
          ]
        }
      ],
      "source": [
        "# download the data:\n",
        "!wget https://www.dropbox.com/s/obaitrix9jyu84r/quora.txt?dl=1 -O ./quora.txt -nc\n",
        "# alternative download link: https://yadi.sk/i/BPQrUu1NaTduEw"
      ]
    },
    {
      "cell_type": "code",
      "execution_count": null,
      "metadata": {
        "colab": {
          "base_uri": "https://localhost:8080/",
          "height": 36
        },
        "id": "8EYy5dQpqU0i",
        "outputId": "665059b5-f35e-423d-97dd-3c07caccba7f",
        "scrolled": false
      },
      "outputs": [
        {
          "output_type": "execute_result",
          "data": {
            "text/plain": [
              "\"What TV shows or books help you read people's body language?\\n\""
            ],
            "application/vnd.google.colaboratory.intrinsic+json": {
              "type": "string"
            }
          },
          "metadata": {},
          "execution_count": 4
        }
      ],
      "source": [
        "data = list(open(\"./quora.txt\", encoding=\"utf-8\"))\n",
        "data[50]"
      ]
    },
    {
      "cell_type": "markdown",
      "metadata": {
        "id": "feBEGI2eqU0j"
      },
      "source": [
        "Начнем с токенизации"
      ]
    },
    {
      "cell_type": "code",
      "execution_count": null,
      "metadata": {
        "colab": {
          "base_uri": "https://localhost:8080/"
        },
        "id": "7mWTvm50qU0j",
        "outputId": "42a8951e-5bb8-41aa-acdf-de3da9579e27"
      },
      "outputs": [
        {
          "output_type": "stream",
          "name": "stdout",
          "text": [
            "['What', 'TV', 'shows', 'or', 'books', 'help', 'you', 'read', 'people', \"'\", 's', 'body', 'language', '?']\n"
          ]
        }
      ],
      "source": [
        "tokenizer = WordPunctTokenizer()\n",
        "\n",
        "print(tokenizer.tokenize(data[50]))"
      ]
    },
    {
      "cell_type": "code",
      "execution_count": null,
      "metadata": {
        "id": "HzC05EHWqU0j"
      },
      "outputs": [],
      "source": [
        "data_tok = [\n",
        "    tokenizer.tokenize(\n",
        "        line.translate(str.maketrans(\"\", \"\", string.punctuation)).lower()\n",
        "    )\n",
        "    for line in data\n",
        "]\n",
        "data_tok = [x for x in data_tok if len(x) >= 3]"
      ]
    },
    {
      "cell_type": "markdown",
      "metadata": {
        "id": "6azRAgHIqU0k"
      },
      "source": [
        "Несколько проверок:"
      ]
    },
    {
      "cell_type": "code",
      "execution_count": null,
      "metadata": {
        "id": "Cp8UpxdWqU0k"
      },
      "outputs": [],
      "source": [
        "assert all(\n",
        "    isinstance(row, (list, tuple)) for row in data_tok\n",
        "), \"please convert each line into a list of tokens (strings)\"\n",
        "assert all(\n",
        "    all(isinstance(tok, str) for tok in row) for row in data_tok\n",
        "), \"please convert each line into a list of tokens (strings)\"\n",
        "is_latin = lambda tok: all(\"a\" <= x.lower() <= \"z\" for x in tok)\n",
        "assert all(\n",
        "    map(lambda l: not is_latin(l) or l.islower(), map(\" \".join, data_tok))\n",
        "), \"please make sure to lowercase the data\""
      ]
    },
    {
      "cell_type": "code",
      "execution_count": null,
      "metadata": {
        "id": "fugc1IomqU0x"
      },
      "outputs": [],
      "source": [
        "min_count = 5\n",
        "window_radius = 5"
      ]
    },
    {
      "cell_type": "code",
      "execution_count": null,
      "metadata": {
        "id": "a7LAYpDQv51Y"
      },
      "outputs": [],
      "source": [
        "vocabulary_with_counter = Counter(chain.from_iterable(data_tok))\n",
        "\n",
        "word_count_dict = dict()\n",
        "for word, counter in vocabulary_with_counter.items():\n",
        "    if counter >= min_count:\n",
        "        word_count_dict[word] = counter\n",
        "\n",
        "vocabulary = set(word_count_dict.keys())\n",
        "del vocabulary_with_counter"
      ]
    },
    {
      "cell_type": "code",
      "execution_count": null,
      "metadata": {
        "id": "8TEzYK5Uv51Z"
      },
      "outputs": [],
      "source": [
        "word_to_index = {word: index for index, word in enumerate(vocabulary)}\n",
        "index_to_word = {index: word for word, index in word_to_index.items()}"
      ]
    },
    {
      "cell_type": "markdown",
      "metadata": {
        "id": "4Y8rlBfqqU0x"
      },
      "source": [
        "Пары `(слово, контекст)`"
      ]
    },
    {
      "cell_type": "code",
      "execution_count": null,
      "metadata": {
        "id": "h2-aqyyaqU0x",
        "colab": {
          "base_uri": "https://localhost:8080/"
        },
        "outputId": "23a3a03a-0052-47d6-df18-24727c331c90"
      },
      "outputs": [
        {
          "output_type": "stream",
          "name": "stdout",
          "text": [
            "Generated 40220313 pairs of target and context words.\n"
          ]
        }
      ],
      "source": [
        "context_pairs = []\n",
        "\n",
        "for text in data_tok:\n",
        "    for i, central_word in enumerate(text):\n",
        "        context_indices = range(\n",
        "            max(0, i - window_radius), min(i + window_radius, len(text))\n",
        "        )\n",
        "        for j in context_indices:\n",
        "            if j == i:\n",
        "                continue\n",
        "            context_word = text[j]\n",
        "            if central_word in vocabulary and context_word in vocabulary:\n",
        "                context_pairs.append(\n",
        "                    (word_to_index[central_word], word_to_index[context_word])\n",
        "                )\n",
        "\n",
        "print(f\"Generated {len(context_pairs)} pairs of target and context words.\")"
      ]
    },
    {
      "cell_type": "markdown",
      "metadata": {
        "id": "HzYc4TUZv51Z"
      },
      "source": [
        "#### Подзадача №1: subsampling\n",
        "Для того, чтобы сгладить разницу в частоте встречаемсости слов, необходимо реализовать механизм subsampling'а.\n",
        "Для этого вам необходимо реализовать функцию ниже.\n",
        "\n",
        "Вероятность **исключить** слово из обучения (на фиксированном шаге) вычисляется как\n",
        "$$\n",
        "P_\\text{drop}(w_i)=1 - \\sqrt{\\frac{t}{f(w_i)}},\n",
        "$$\n",
        "где $f(w_i)$ – нормированная частота встречаемости слова, а $t$ – заданный порог (threshold)."
      ]
    },
    {
      "cell_type": "code",
      "source": [
        "from math import sqrt"
      ],
      "metadata": {
        "id": "daWLa-k04MVz"
      },
      "execution_count": null,
      "outputs": []
    },
    {
      "cell_type": "code",
      "execution_count": null,
      "metadata": {
        "id": "8p9R9bEav51Z"
      },
      "outputs": [],
      "source": [
        "def subsample_frequent_words(word_count_dict, threshold=1e-5):\n",
        "    \"\"\"\n",
        "    Calculates the subsampling probabilities for words based on their frequencies.\n",
        "\n",
        "    Parameters:\n",
        "    - word_count_dict (dict): A dictionary where keys are words and values are the counts of those words.\n",
        "    - threshold (float, optional): A threshold parameter for subsampling. Defaults to 1e-5.\n",
        "\n",
        "    Returns:\n",
        "    - dict: A dictionary where keys are words and values are the probabilities of keeping each word.\n",
        "    \"\"\"\n",
        "    total_count = sum(word_count_dict.values())  # Общее количество слов в корпусе\n",
        "\n",
        "    keep_prob_dict = {}\n",
        "    for word, count in word_count_dict.items():\n",
        "        freq = count / total_count  # Частота слова\n",
        "        prob = max(0, min(1, (threshold / freq) ** 0.5))  # Оставляем слово с этой вероятностью\n",
        "        keep_prob_dict[word] = prob\n",
        "\n",
        "    return keep_prob_dict\n"
      ]
    },
    {
      "cell_type": "markdown",
      "metadata": {
        "id": "ToLSmW7Wv51Z"
      },
      "source": [
        "#### Подзадача №2: negative sampling\n",
        "Для более эффективного обучения необходимо не только предсказывать высокие вероятности для слов из контекста, но и предсказывать низкие для слов, не встреченных в контексте. Для этого вам необходимо вычислить вероятност использовать слово в качестве negative sample, реализовав функцию ниже.\n",
        "\n",
        "В оригинальной статье предлагается оценивать вероятность слов выступать в качестве negative sample согласно распределению $P_n(w)$\n",
        "$$\n",
        "P_n(w) = \\frac{U(w)^{3/4}}{Z},\n",
        "$$\n",
        "\n",
        "где $U(w)$ распределение слов по частоте (или, как его еще называют, по униграммам), а $Z$ – нормировочная константа, чтобы общая мера была равна $1$."
      ]
    },
    {
      "cell_type": "code",
      "execution_count": null,
      "metadata": {
        "id": "t9iVRjx8v51Z"
      },
      "outputs": [],
      "source": [
        "def get_negative_sampling_prob(word_count_dict):\n",
        "\n",
        "    z = 0\n",
        "    for i in word_count_dict.keys():\n",
        "      z +=  word_count_dict[i] ** 0.75\n",
        "\n",
        "    negative_sampling_prob_dict = {\n",
        "        word: ((word_count_dict[word] ** 0.75)/z) for word in word_count_dict.keys()\n",
        "    }\n",
        "    return negative_sampling_prob_dict"
      ]
    },
    {
      "cell_type": "markdown",
      "metadata": {
        "id": "nGt5HCznv51Z"
      },
      "source": [
        "Для удобства, преобразуем полученные словари в массивы (т.к. все слова все равно уже пронумерованы)."
      ]
    },
    {
      "cell_type": "code",
      "execution_count": null,
      "metadata": {
        "id": "cJHraauOv51Z"
      },
      "outputs": [],
      "source": [
        "keep_prob_dict = subsample_frequent_words(word_count_dict)\n",
        "assert keep_prob_dict.keys() == word_count_dict.keys()"
      ]
    },
    {
      "cell_type": "code",
      "execution_count": null,
      "metadata": {
        "id": "IxrMlhxcv51Z"
      },
      "outputs": [],
      "source": [
        "negative_sampling_prob_dict = get_negative_sampling_prob(word_count_dict)\n",
        "assert negative_sampling_prob_dict.keys() == negative_sampling_prob_dict.keys()\n",
        "assert np.allclose(sum(negative_sampling_prob_dict.values()), 1)"
      ]
    },
    {
      "cell_type": "code",
      "execution_count": null,
      "metadata": {
        "id": "8JubP3YEv51Z"
      },
      "outputs": [],
      "source": [
        "keep_prob_array = np.array(\n",
        "    [keep_prob_dict[index_to_word[idx]] for idx in range(len(word_to_index))]\n",
        ")\n",
        "negative_sampling_prob_array = np.array(\n",
        "    [\n",
        "        negative_sampling_prob_dict[index_to_word[idx]]\n",
        "        for idx in range(len(word_to_index))\n",
        "    ]\n",
        ")"
      ]
    },
    {
      "cell_type": "markdown",
      "metadata": {
        "id": "6YneXgt1v51Z"
      },
      "source": [
        "Если все прошло успешно, функция ниже поможет вам с генерацией подвыборок (батчей)."
      ]
    },
    {
      "cell_type": "code",
      "execution_count": null,
      "metadata": {
        "id": "82js90srv51Z"
      },
      "outputs": [],
      "source": [
        "def generate_batch_with_neg_samples(\n",
        "    context_pairs,\n",
        "    batch_size,\n",
        "    keep_prob_array,\n",
        "    word_to_index,\n",
        "    num_negatives,\n",
        "    negative_sampling_prob_array,\n",
        "):\n",
        "    batch = []\n",
        "    neg_samples = []\n",
        "\n",
        "    while len(batch) < batch_size:\n",
        "        center, context = random.choice(context_pairs)\n",
        "        if random.random() < keep_prob_array[center]:\n",
        "            batch.append((center, context))\n",
        "            neg_sample = np.random.choice(\n",
        "                range(len(negative_sampling_prob_array)),\n",
        "                size=num_negatives,\n",
        "                p=negative_sampling_prob_array,\n",
        "            )\n",
        "            neg_samples.append(neg_sample)\n",
        "    batch = np.array(batch)\n",
        "    neg_samples = np.vstack(neg_samples)\n",
        "    return batch, neg_samples"
      ]
    },
    {
      "cell_type": "code",
      "execution_count": null,
      "metadata": {
        "id": "XV8ZlwbUv51Z"
      },
      "outputs": [],
      "source": [
        "batch_size = 4\n",
        "num_negatives = 15\n",
        "batch, neg_samples = generate_batch_with_neg_samples(\n",
        "    context_pairs,\n",
        "    batch_size,\n",
        "    keep_prob_array,\n",
        "    word_to_index,\n",
        "    num_negatives,\n",
        "    negative_sampling_prob_array,\n",
        ")"
      ]
    },
    {
      "cell_type": "markdown",
      "metadata": {
        "id": "poseW0FUv51a"
      },
      "source": [
        "Наконец, время реализовать модель. Обращаем ваше внимание, использование линейных слоев (`nn.Linear`) далеко не всегда оправданно!\n",
        "\n",
        "Напомним, что в случае negative sampling решается задача максимизации следующего функционала:\n",
        "\n",
        "$$\n",
        "\\mathcal{L} = \\log \\sigma({\\mathbf{v}'_{w_O}}^\\top \\mathbf{v}_{w_I}) + \\sum_{i=1}^{k} \\mathbb{E}_{w_i \\sim P_n(w)} \\left[ \\log \\sigma({-\\mathbf{v}'_{w_i}}^\\top \\mathbf{v}_{w_I}) \\right],\n",
        "$$\n",
        "\n",
        "где:\n",
        "- $\\mathbf{v}_{w_I}$ – вектор центрального слова $w_I$,\n",
        "- $\\mathbf{v}'_{w_O}$ – вектор слова из контекста $w_O$,\n",
        "- $k$ – число negative samplesЮ,\n",
        "- $P_n(w)$ – распределение negative samples, заданное выше,\n",
        "- $\\sigma$ – сигмоида."
      ]
    },
    {
      "cell_type": "code",
      "execution_count": null,
      "metadata": {
        "id": "Dgeq1wUOv51a"
      },
      "outputs": [],
      "source": [
        "class SkipGramModelWithNegSampling(nn.Module):\n",
        "    def __init__(self, vocab_size, embedding_dim):\n",
        "        super(SkipGramModelWithNegSampling, self).__init__()\n",
        "        self.center_embeddings = nn.Embedding(vocab_size, embedding_dim)\n",
        "        self.context_embeddings = nn.Embedding(vocab_size, embedding_dim)\n",
        "\n",
        "    def forward(self, center_words, pos_context_words, neg_context_words):\n",
        "        center_embeds = self.center_embeddings(center_words)\n",
        "\n",
        "        pos_context_embeds = self.context_embeddings(pos_context_words)\n",
        "        pos_scores = torch.sum(center_embeds * pos_context_embeds, dim=1)\n",
        "\n",
        "        neg_context_embeds = self.context_embeddings(neg_context_words)\n",
        "        neg_scores = torch.bmm(neg_context_embeds, center_embeds.unsqueeze(2)).squeeze()\n",
        "\n",
        "        return pos_scores, neg_scores"
      ]
    },
    {
      "cell_type": "code",
      "execution_count": null,
      "metadata": {
        "id": "yuwtTK1av51a"
      },
      "outputs": [],
      "source": [
        "device = torch.device(\"cpu\")"
      ]
    },
    {
      "cell_type": "code",
      "execution_count": null,
      "metadata": {
        "id": "qqDooA4Cv51a"
      },
      "outputs": [],
      "source": [
        "vocab_size = len(word_to_index)\n",
        "embedding_dim = 32\n",
        "num_negatives = 15\n",
        "\n",
        "model = SkipGramModelWithNegSampling(vocab_size, embedding_dim).to(device)\n",
        "optimizer = optim.Adam(model.parameters(), lr=0.05)\n",
        "lr_scheduler = ReduceLROnPlateau(optimizer, factor=0.5, patience=150)\n",
        "criterion = nn.BCEWithLogitsLoss()"
      ]
    },
    {
      "cell_type": "code",
      "execution_count": null,
      "metadata": {
        "id": "XfKs5vOIv51a"
      },
      "outputs": [],
      "source": [
        "params_counter = 0\n",
        "for weights in model.parameters():\n",
        "    params_counter += weights.shape.numel()\n",
        "assert params_counter == len(word_to_index) * embedding_dim * 2"
      ]
    },
    {
      "cell_type": "code",
      "execution_count": null,
      "metadata": {
        "id": "OcekgYuHv51a"
      },
      "outputs": [],
      "source": [
        "def train_skipgram_with_neg_sampling(\n",
        "    model,\n",
        "    context_pairs,\n",
        "    keep_prob_array,\n",
        "    word_to_index,\n",
        "    batch_size,\n",
        "    num_negatives,\n",
        "    negative_sampling_prob_array,\n",
        "    steps,\n",
        "    optimizer=optimizer,\n",
        "    lr_scheduler=lr_scheduler,\n",
        "    device=device,\n",
        "):\n",
        "    pos_labels = torch.ones(batch_size).to(device)\n",
        "    neg_labels = torch.zeros(batch_size, num_negatives).to(device)\n",
        "    loss_history = []\n",
        "    for step in tqdma(range(steps)):\n",
        "        batch, neg_samples = generate_batch_with_neg_samples(\n",
        "            context_pairs,\n",
        "            batch_size,\n",
        "            keep_prob_array,\n",
        "            word_to_index,\n",
        "            num_negatives,\n",
        "            negative_sampling_prob_array,\n",
        "        )\n",
        "        center_words = torch.tensor([pair[0] for pair in batch], dtype=torch.long).to(\n",
        "            device\n",
        "        )\n",
        "        pos_context_words = torch.tensor(\n",
        "            [pair[1] for pair in batch], dtype=torch.long\n",
        "        ).to(device)\n",
        "        neg_context_words = torch.tensor(neg_samples, dtype=torch.long).to(device)\n",
        "\n",
        "        optimizer.zero_grad()\n",
        "        pos_scores, neg_scores = model(\n",
        "            center_words, pos_context_words, neg_context_words\n",
        "        )\n",
        "\n",
        "        loss_pos = criterion(pos_scores, pos_labels)\n",
        "        loss_neg = criterion(neg_scores, neg_labels)\n",
        "\n",
        "        loss = loss_pos + loss_neg\n",
        "        loss.backward()\n",
        "        optimizer.step()\n",
        "\n",
        "        loss_history.append(loss.item())\n",
        "        lr_scheduler.step(loss_history[-1])\n",
        "\n",
        "        if step % 100 == 0:\n",
        "            print(\n",
        "                f\"Step {step}, Loss: {np.mean(loss_history[-100:])}, learning rate: {lr_scheduler._last_lr}\"\n",
        "            )"
      ]
    },
    {
      "cell_type": "code",
      "execution_count": null,
      "metadata": {
        "colab": {
          "base_uri": "https://localhost:8080/",
          "height": 483,
          "referenced_widgets": [
            "9a1001fd56904c2cad6da2437cedc223",
            "168ea4fc0b77459196c39bf00302231e",
            "146dc53f50094f2ea81bda978b952c3a",
            "4059397cba414fcbbdd84187cfc32396",
            "a3c3de8736e84fb1b5d1af7aac649994",
            "b2bfd48aa50c4c8b8248d4c205cf806d",
            "e59d9f29a9364239a1bf095a17425ddf",
            "4b91b46c6b664d569a8111ee0cd0d7e6",
            "9bb0f40d14054ae2817fd03aee6a170a",
            "6718b75eec8b409ca2a8147315a9e72d",
            "6ead59d3ee6240d0b2be71fb15458daf"
          ]
        },
        "id": "F6HFv_Usv51a",
        "outputId": "f2bd4521-538c-4d38-fed0-7cac4c21c4ab"
      },
      "outputs": [
        {
          "output_type": "display_data",
          "data": {
            "text/plain": [
              "  0%|          | 0/2500 [00:00<?, ?it/s]"
            ],
            "application/vnd.jupyter.widget-view+json": {
              "version_major": 2,
              "version_minor": 0,
              "model_id": "9a1001fd56904c2cad6da2437cedc223"
            }
          },
          "metadata": {}
        },
        {
          "output_type": "stream",
          "name": "stdout",
          "text": [
            "Step 0, Loss: 4.620698928833008, learning rate: [0.05]\n",
            "Step 100, Loss: 3.4839864492416384, learning rate: [0.05]\n",
            "Step 200, Loss: 2.5637421083450316, learning rate: [0.05]\n",
            "Step 300, Loss: 2.2778302311897276, learning rate: [0.05]\n",
            "Step 400, Loss: 2.1342208516597747, learning rate: [0.05]\n",
            "Step 500, Loss: 2.058230230808258, learning rate: [0.05]\n",
            "Step 600, Loss: 2.039719873666763, learning rate: [0.05]\n",
            "Step 700, Loss: 2.0492016577720644, learning rate: [0.05]\n",
            "Step 800, Loss: 2.071471757888794, learning rate: [0.025]\n",
            "Step 900, Loss: 2.0360199666023253, learning rate: [0.025]\n",
            "Step 1000, Loss: 1.9154148423671722, learning rate: [0.025]\n",
            "Step 1100, Loss: 1.8542496263980865, learning rate: [0.025]\n",
            "Step 1200, Loss: 1.827534716129303, learning rate: [0.025]\n",
            "Step 1300, Loss: 1.7915497243404388, learning rate: [0.025]\n",
            "Step 1400, Loss: 1.7531190359592437, learning rate: [0.025]\n",
            "Step 1500, Loss: 1.7326696276664735, learning rate: [0.025]\n",
            "Step 1600, Loss: 1.704175627231598, learning rate: [0.0125]\n",
            "Step 1700, Loss: 1.6503919529914857, learning rate: [0.0125]\n",
            "Step 1800, Loss: 1.6222077751159667, learning rate: [0.0125]\n",
            "Step 1900, Loss: 1.599241429567337, learning rate: [0.00625]\n",
            "Step 2000, Loss: 1.5763889145851135, learning rate: [0.00625]\n",
            "Step 2100, Loss: 1.5620003831386566, learning rate: [0.00625]\n",
            "Step 2200, Loss: 1.5508517694473267, learning rate: [0.003125]\n",
            "Step 2300, Loss: 1.5319957411289216, learning rate: [0.003125]\n",
            "Step 2400, Loss: 1.536425758600235, learning rate: [0.003125]\n"
          ]
        }
      ],
      "source": [
        "steps = 2500\n",
        "batch_size = 512\n",
        "train_skipgram_with_neg_sampling(\n",
        "    model,\n",
        "    context_pairs,\n",
        "    keep_prob_array,\n",
        "    word_to_index,\n",
        "    batch_size,\n",
        "    num_negatives,\n",
        "    negative_sampling_prob_array,\n",
        "    steps,\n",
        ")"
      ]
    },
    {
      "cell_type": "markdown",
      "metadata": {
        "id": "bIz593tTv51a"
      },
      "source": [
        "используем матрицу декодера для получения вектороного представления слов"
      ]
    },
    {
      "cell_type": "code",
      "execution_count": null,
      "metadata": {
        "id": "3B8jiHVnv51a"
      },
      "outputs": [],
      "source": [
        "_model_parameters = model.parameters()\n",
        "embedding_matrix_center = next(\n",
        "    _model_parameters\n",
        ").detach()  # Assuming that first matrix was for central word\n",
        "embedding_matrix_context = next(\n",
        "    _model_parameters\n",
        ").detach()  # Assuming that second matrix was for context word"
      ]
    },
    {
      "cell_type": "code",
      "execution_count": null,
      "metadata": {
        "id": "CJ4-ORlEv51a"
      },
      "outputs": [],
      "source": [
        "def get_word_vector(word, embedding_matrix, word_to_index=word_to_index):\n",
        "    return embedding_matrix[word_to_index[word]]"
      ]
    },
    {
      "cell_type": "markdown",
      "metadata": {
        "id": "_FQoRNhYv51a"
      },
      "source": [
        "Простые проверки:"
      ]
    },
    {
      "cell_type": "code",
      "execution_count": null,
      "metadata": {
        "id": "H9FdAh9uv51i"
      },
      "outputs": [],
      "source": [
        "similarity_1 = F.cosine_similarity(\n",
        "    get_word_vector(\"iphone\", embedding_matrix_context)[None, :],\n",
        "    get_word_vector(\"apple\", embedding_matrix_context)[None, :],\n",
        ")\n",
        "similarity_2 = F.cosine_similarity(\n",
        "    get_word_vector(\"iphone\", embedding_matrix_context)[None, :],\n",
        "    get_word_vector(\"dell\", embedding_matrix_context)[None, :],\n",
        ")\n",
        "assert similarity_1 > similarity_2"
      ]
    },
    {
      "cell_type": "code",
      "execution_count": null,
      "metadata": {
        "id": "m-xtAHwOv51i"
      },
      "outputs": [],
      "source": [
        "similarity_1 = F.cosine_similarity(\n",
        "    get_word_vector(\"windows\", embedding_matrix_context)[None, :],\n",
        "    get_word_vector(\"laptop\", embedding_matrix_context)[None, :],\n",
        ")\n",
        "similarity_2 = F.cosine_similarity(\n",
        "    get_word_vector(\"windows\", embedding_matrix_context)[None, :],\n",
        "    get_word_vector(\"macbook\", embedding_matrix_context)[None, :],\n",
        ")\n",
        "assert similarity_1 > similarity_2"
      ]
    },
    {
      "cell_type": "markdown",
      "metadata": {
        "id": "01lRkHPCv51i"
      },
      "source": [
        "функция реализующая косинусную меру\n"
      ]
    },
    {
      "cell_type": "code",
      "execution_count": null,
      "metadata": {
        "id": "dA0V6rOYtsLk"
      },
      "outputs": [],
      "source": [
        "def find_nearest(word, embedding_matrix, word_to_index=word_to_index, k=10):\n",
        "    word_vector = get_word_vector(word, embedding_matrix)[None, :]\n",
        "    dists = F.cosine_similarity(embedding_matrix, word_vector)\n",
        "    index_sorted = torch.argsort(dists)\n",
        "    top_k = index_sorted[-k:]\n",
        "    return [(index_to_word[x], dists[x].item()) for x in top_k.numpy()]"
      ]
    },
    {
      "cell_type": "code",
      "execution_count": null,
      "metadata": {
        "colab": {
          "base_uri": "https://localhost:8080/"
        },
        "id": "MXgjRFg7v51j",
        "outputId": "4a8ee98b-32c2-4b8c-8519-40bc266fc32f"
      },
      "outputs": [
        {
          "output_type": "execute_result",
          "data": {
            "text/plain": [
              "[('florida', 0.6470646262168884),\n",
              " ('convergence', 0.6473078727722168),\n",
              " ('raman', 0.6496073007583618),\n",
              " ('cheekbones', 0.6519052982330322),\n",
              " ('deliberately', 0.6544923782348633),\n",
              " ('framework', 0.6556873917579651),\n",
              " ('rj', 0.6620022058486938),\n",
              " ('ui', 0.6890098452568054),\n",
              " ('flash', 0.6953314542770386),\n",
              " ('python', 1.0)]"
            ]
          },
          "metadata": {},
          "execution_count": 83
        }
      ],
      "source": [
        "find_nearest(\"python  \", embedding_matrix_context, k=10)"
      ]
    },
    {
      "cell_type": "markdown",
      "metadata": {
        "id": "Uix9Jrc_v51j"
      },
      "source": [
        "визуализация"
      ]
    },
    {
      "cell_type": "code",
      "execution_count": null,
      "metadata": {
        "id": "xh2MBreHv51j"
      },
      "outputs": [],
      "source": [
        "top_k = 5000\n",
        "_top_words = sorted([x for x in word_count_dict.items()], key=lambda x: x[1])[\n",
        "    -top_k - 100 : -100\n",
        "]  # ignoring 100 most frequent words\n",
        "top_words = [x[0] for x in _top_words]\n",
        "del _top_words"
      ]
    },
    {
      "cell_type": "code",
      "execution_count": null,
      "metadata": {
        "id": "6bQ229BDv51j"
      },
      "outputs": [],
      "source": [
        "word_embeddings = torch.cat(\n",
        "    [embedding_matrix_context[word_to_index[x]][None, :] for x in top_words], dim=0\n",
        ").numpy()"
      ]
    },
    {
      "cell_type": "code",
      "execution_count": null,
      "metadata": {
        "id": "i8V9lmRDv51j"
      },
      "outputs": [],
      "source": [
        "import bokeh.models as bm\n",
        "import bokeh.plotting as pl\n",
        "from bokeh.io import output_notebook\n",
        "\n",
        "output_notebook()\n",
        "\n",
        "\n",
        "def draw_vectors(\n",
        "    x,\n",
        "    y,\n",
        "    radius=10,\n",
        "    alpha=0.25,\n",
        "    color=\"blue\",\n",
        "    width=600,\n",
        "    height=400,\n",
        "    show=True,\n",
        "    **kwargs,\n",
        "):\n",
        "    \"\"\"draws an interactive plot for data points with auxilirary info on hover\"\"\"\n",
        "    if isinstance(color, str):\n",
        "        color = [color] * len(x)\n",
        "    data_source = bm.ColumnDataSource({\"x\": x, \"y\": y, \"color\": color, **kwargs})\n",
        "\n",
        "    fig = pl.figure(active_scroll=\"wheel_zoom\", width=width, height=height)\n",
        "    fig.scatter(\"x\", \"y\", size=radius, color=\"color\", alpha=alpha, source=data_source)\n",
        "\n",
        "    fig.add_tools(bm.HoverTool(tooltips=[(key, \"@\" + key) for key in kwargs.keys()]))\n",
        "    if show:\n",
        "        pl.show(fig)\n",
        "    return fig"
      ]
    },
    {
      "cell_type": "code",
      "execution_count": null,
      "metadata": {
        "colab": {
          "base_uri": "https://localhost:8080/"
        },
        "id": "Vq0ZlBsiv51j",
        "outputId": "26a7f659-3f5a-4928-fd1c-d17590aca6cb"
      },
      "outputs": [
        {
          "output_type": "stream",
          "name": "stderr",
          "text": [
            "/usr/local/lib/python3.11/dist-packages/sklearn/utils/deprecation.py:151: FutureWarning: 'force_all_finite' was renamed to 'ensure_all_finite' in 1.6 and will be removed in 1.8.\n",
            "  warnings.warn(\n"
          ]
        }
      ],
      "source": [
        "embedding = umap.UMAP(n_neighbors=5).fit_transform(word_embeddings)"
      ]
    },
    {
      "cell_type": "code",
      "source": [
        "draw_vectors(embedding[:, 0], embedding[:, 1], token=top_words)"
      ],
      "metadata": {
        "colab": {
          "base_uri": "https://localhost:8080/",
          "height": 434
        },
        "id": "81gagOI6JAeY",
        "outputId": "fce2b319-a00d-45f6-b9fb-4da22000e968"
      },
      "execution_count": null,
      "outputs": [
        {
          "output_type": "display_data",
          "data": {
            "application/javascript": [
              "'use strict';\n",
              "(function(root) {\n",
              "  function now() {\n",
              "    return new Date();\n",
              "  }\n",
              "\n",
              "  const force = true;\n",
              "\n",
              "  if (typeof root._bokeh_onload_callbacks === \"undefined\" || force === true) {\n",
              "    root._bokeh_onload_callbacks = [];\n",
              "    root._bokeh_is_loading = undefined;\n",
              "  }\n",
              "\n",
              "const JS_MIME_TYPE = 'application/javascript';\n",
              "  const HTML_MIME_TYPE = 'text/html';\n",
              "  const EXEC_MIME_TYPE = 'application/vnd.bokehjs_exec.v0+json';\n",
              "  const CLASS_NAME = 'output_bokeh rendered_html';\n",
              "\n",
              "  /**\n",
              "   * Render data to the DOM node\n",
              "   */\n",
              "  function render(props, node) {\n",
              "    const script = document.createElement(\"script\");\n",
              "    node.appendChild(script);\n",
              "  }\n",
              "\n",
              "  /**\n",
              "   * Handle when an output is cleared or removed\n",
              "   */\n",
              "  function handleClearOutput(event, handle) {\n",
              "    function drop(id) {\n",
              "      const view = Bokeh.index.get_by_id(id)\n",
              "      if (view != null) {\n",
              "        view.model.document.clear()\n",
              "        Bokeh.index.delete(view)\n",
              "      }\n",
              "    }\n",
              "\n",
              "    const cell = handle.cell;\n",
              "\n",
              "    const id = cell.output_area._bokeh_element_id;\n",
              "    const server_id = cell.output_area._bokeh_server_id;\n",
              "\n",
              "    // Clean up Bokeh references\n",
              "    if (id != null) {\n",
              "      drop(id)\n",
              "    }\n",
              "\n",
              "    if (server_id !== undefined) {\n",
              "      // Clean up Bokeh references\n",
              "      const cmd_clean = \"from bokeh.io.state import curstate; print(curstate().uuid_to_server['\" + server_id + \"'].get_sessions()[0].document.roots[0]._id)\";\n",
              "      cell.notebook.kernel.execute(cmd_clean, {\n",
              "        iopub: {\n",
              "          output: function(msg) {\n",
              "            const id = msg.content.text.trim()\n",
              "            drop(id)\n",
              "          }\n",
              "        }\n",
              "      });\n",
              "      // Destroy server and session\n",
              "      const cmd_destroy = \"import bokeh.io.notebook as ion; ion.destroy_server('\" + server_id + \"')\";\n",
              "      cell.notebook.kernel.execute(cmd_destroy);\n",
              "    }\n",
              "  }\n",
              "\n",
              "  /**\n",
              "   * Handle when a new output is added\n",
              "   */\n",
              "  function handleAddOutput(event, handle) {\n",
              "    const output_area = handle.output_area;\n",
              "    const output = handle.output;\n",
              "\n",
              "    // limit handleAddOutput to display_data with EXEC_MIME_TYPE content only\n",
              "    if ((output.output_type != \"display_data\") || (!Object.prototype.hasOwnProperty.call(output.data, EXEC_MIME_TYPE))) {\n",
              "      return\n",
              "    }\n",
              "\n",
              "    const toinsert = output_area.element.find(\".\" + CLASS_NAME.split(' ')[0]);\n",
              "\n",
              "    if (output.metadata[EXEC_MIME_TYPE][\"id\"] !== undefined) {\n",
              "      toinsert[toinsert.length - 1].firstChild.textContent = output.data[JS_MIME_TYPE];\n",
              "      // store reference to embed id on output_area\n",
              "      output_area._bokeh_element_id = output.metadata[EXEC_MIME_TYPE][\"id\"];\n",
              "    }\n",
              "    if (output.metadata[EXEC_MIME_TYPE][\"server_id\"] !== undefined) {\n",
              "      const bk_div = document.createElement(\"div\");\n",
              "      bk_div.innerHTML = output.data[HTML_MIME_TYPE];\n",
              "      const script_attrs = bk_div.children[0].attributes;\n",
              "      for (let i = 0; i < script_attrs.length; i++) {\n",
              "        toinsert[toinsert.length - 1].firstChild.setAttribute(script_attrs[i].name, script_attrs[i].value);\n",
              "        toinsert[toinsert.length - 1].firstChild.textContent = bk_div.children[0].textContent\n",
              "      }\n",
              "      // store reference to server id on output_area\n",
              "      output_area._bokeh_server_id = output.metadata[EXEC_MIME_TYPE][\"server_id\"];\n",
              "    }\n",
              "  }\n",
              "\n",
              "  function register_renderer(events, OutputArea) {\n",
              "\n",
              "    function append_mime(data, metadata, element) {\n",
              "      // create a DOM node to render to\n",
              "      const toinsert = this.create_output_subarea(\n",
              "        metadata,\n",
              "        CLASS_NAME,\n",
              "        EXEC_MIME_TYPE\n",
              "      );\n",
              "      this.keyboard_manager.register_events(toinsert);\n",
              "      // Render to node\n",
              "      const props = {data: data, metadata: metadata[EXEC_MIME_TYPE]};\n",
              "      render(props, toinsert[toinsert.length - 1]);\n",
              "      element.append(toinsert);\n",
              "      return toinsert\n",
              "    }\n",
              "\n",
              "    /* Handle when an output is cleared or removed */\n",
              "    events.on('clear_output.CodeCell', handleClearOutput);\n",
              "    events.on('delete.Cell', handleClearOutput);\n",
              "\n",
              "    /* Handle when a new output is added */\n",
              "    events.on('output_added.OutputArea', handleAddOutput);\n",
              "\n",
              "    /**\n",
              "     * Register the mime type and append_mime function with output_area\n",
              "     */\n",
              "    OutputArea.prototype.register_mime_type(EXEC_MIME_TYPE, append_mime, {\n",
              "      /* Is output safe? */\n",
              "      safe: true,\n",
              "      /* Index of renderer in `output_area.display_order` */\n",
              "      index: 0\n",
              "    });\n",
              "  }\n",
              "\n",
              "  // register the mime type if in Jupyter Notebook environment and previously unregistered\n",
              "  if (root.Jupyter !== undefined) {\n",
              "    const events = require('base/js/events');\n",
              "    const OutputArea = require('notebook/js/outputarea').OutputArea;\n",
              "\n",
              "    if (OutputArea.prototype.mime_types().indexOf(EXEC_MIME_TYPE) == -1) {\n",
              "      register_renderer(events, OutputArea);\n",
              "    }\n",
              "  }\n",
              "  if (typeof (root._bokeh_timeout) === \"undefined\" || force === true) {\n",
              "    root._bokeh_timeout = Date.now() + 5000;\n",
              "    root._bokeh_failed_load = false;\n",
              "  }\n",
              "\n",
              "  const NB_LOAD_WARNING = {'data': {'text/html':\n",
              "     \"<div style='background-color: #fdd'>\\n\"+\n",
              "     \"<p>\\n\"+\n",
              "     \"BokehJS does not appear to have successfully loaded. If loading BokehJS from CDN, this \\n\"+\n",
              "     \"may be due to a slow or bad network connection. Possible fixes:\\n\"+\n",
              "     \"</p>\\n\"+\n",
              "     \"<ul>\\n\"+\n",
              "     \"<li>re-rerun `output_notebook()` to attempt to load from CDN again, or</li>\\n\"+\n",
              "     \"<li>use INLINE resources instead, as so:</li>\\n\"+\n",
              "     \"</ul>\\n\"+\n",
              "     \"<code>\\n\"+\n",
              "     \"from bokeh.resources import INLINE\\n\"+\n",
              "     \"output_notebook(resources=INLINE)\\n\"+\n",
              "     \"</code>\\n\"+\n",
              "     \"</div>\"}};\n",
              "\n",
              "  function display_loaded(error = null) {\n",
              "    const el = document.getElementById(null);\n",
              "    if (el != null) {\n",
              "      const html = (() => {\n",
              "        if (typeof root.Bokeh === \"undefined\") {\n",
              "          if (error == null) {\n",
              "            return \"BokehJS is loading ...\";\n",
              "          } else {\n",
              "            return \"BokehJS failed to load.\";\n",
              "          }\n",
              "        } else {\n",
              "          const prefix = `BokehJS ${root.Bokeh.version}`;\n",
              "          if (error == null) {\n",
              "            return `${prefix} successfully loaded.`;\n",
              "          } else {\n",
              "            return `${prefix} <b>encountered errors</b> while loading and may not function as expected.`;\n",
              "          }\n",
              "        }\n",
              "      })();\n",
              "      el.innerHTML = html;\n",
              "\n",
              "      if (error != null) {\n",
              "        const wrapper = document.createElement(\"div\");\n",
              "        wrapper.style.overflow = \"auto\";\n",
              "        wrapper.style.height = \"5em\";\n",
              "        wrapper.style.resize = \"vertical\";\n",
              "        const content = document.createElement(\"div\");\n",
              "        content.style.fontFamily = \"monospace\";\n",
              "        content.style.whiteSpace = \"pre-wrap\";\n",
              "        content.style.backgroundColor = \"rgb(255, 221, 221)\";\n",
              "        content.textContent = error.stack ?? error.toString();\n",
              "        wrapper.append(content);\n",
              "        el.append(wrapper);\n",
              "      }\n",
              "    } else if (Date.now() < root._bokeh_timeout) {\n",
              "      setTimeout(() => display_loaded(error), 100);\n",
              "    }\n",
              "  }\n",
              "\n",
              "  function run_callbacks() {\n",
              "    try {\n",
              "      root._bokeh_onload_callbacks.forEach(function(callback) {\n",
              "        if (callback != null)\n",
              "          callback();\n",
              "      });\n",
              "    } finally {\n",
              "      delete root._bokeh_onload_callbacks\n",
              "    }\n",
              "    console.debug(\"Bokeh: all callbacks have finished\");\n",
              "  }\n",
              "\n",
              "  function load_libs(css_urls, js_urls, callback) {\n",
              "    if (css_urls == null) css_urls = [];\n",
              "    if (js_urls == null) js_urls = [];\n",
              "\n",
              "    root._bokeh_onload_callbacks.push(callback);\n",
              "    if (root._bokeh_is_loading > 0) {\n",
              "      console.debug(\"Bokeh: BokehJS is being loaded, scheduling callback at\", now());\n",
              "      return null;\n",
              "    }\n",
              "    if (js_urls == null || js_urls.length === 0) {\n",
              "      run_callbacks();\n",
              "      return null;\n",
              "    }\n",
              "    console.debug(\"Bokeh: BokehJS not loaded, scheduling load and callback at\", now());\n",
              "    root._bokeh_is_loading = css_urls.length + js_urls.length;\n",
              "\n",
              "    function on_load() {\n",
              "      root._bokeh_is_loading--;\n",
              "      if (root._bokeh_is_loading === 0) {\n",
              "        console.debug(\"Bokeh: all BokehJS libraries/stylesheets loaded\");\n",
              "        run_callbacks()\n",
              "      }\n",
              "    }\n",
              "\n",
              "    function on_error(url) {\n",
              "      console.error(\"failed to load \" + url);\n",
              "    }\n",
              "\n",
              "    for (let i = 0; i < css_urls.length; i++) {\n",
              "      const url = css_urls[i];\n",
              "      const element = document.createElement(\"link\");\n",
              "      element.onload = on_load;\n",
              "      element.onerror = on_error.bind(null, url);\n",
              "      element.rel = \"stylesheet\";\n",
              "      element.type = \"text/css\";\n",
              "      element.href = url;\n",
              "      console.debug(\"Bokeh: injecting link tag for BokehJS stylesheet: \", url);\n",
              "      document.body.appendChild(element);\n",
              "    }\n",
              "\n",
              "    for (let i = 0; i < js_urls.length; i++) {\n",
              "      const url = js_urls[i];\n",
              "      const element = document.createElement('script');\n",
              "      element.onload = on_load;\n",
              "      element.onerror = on_error.bind(null, url);\n",
              "      element.async = false;\n",
              "      element.src = url;\n",
              "      console.debug(\"Bokeh: injecting script tag for BokehJS library: \", url);\n",
              "      document.head.appendChild(element);\n",
              "    }\n",
              "  };\n",
              "\n",
              "  function inject_raw_css(css) {\n",
              "    const element = document.createElement(\"style\");\n",
              "    element.appendChild(document.createTextNode(css));\n",
              "    document.body.appendChild(element);\n",
              "  }\n",
              "\n",
              "  const js_urls = [\"https://cdn.bokeh.org/bokeh/release/bokeh-3.6.3.min.js\", \"https://cdn.bokeh.org/bokeh/release/bokeh-gl-3.6.3.min.js\", \"https://cdn.bokeh.org/bokeh/release/bokeh-widgets-3.6.3.min.js\", \"https://cdn.bokeh.org/bokeh/release/bokeh-tables-3.6.3.min.js\", \"https://cdn.bokeh.org/bokeh/release/bokeh-mathjax-3.6.3.min.js\"];\n",
              "  const css_urls = [];\n",
              "\n",
              "  const inline_js = [    function(Bokeh) {\n",
              "      Bokeh.set_log_level(\"info\");\n",
              "    },\n",
              "function(Bokeh) {\n",
              "    }\n",
              "  ];\n",
              "\n",
              "  function run_inline_js() {\n",
              "    if (root.Bokeh !== undefined || force === true) {\n",
              "      try {\n",
              "            for (let i = 0; i < inline_js.length; i++) {\n",
              "      inline_js[i].call(root, root.Bokeh);\n",
              "    }\n",
              "\n",
              "      } catch (error) {throw error;\n",
              "      }} else if (Date.now() < root._bokeh_timeout) {\n",
              "      setTimeout(run_inline_js, 100);\n",
              "    } else if (!root._bokeh_failed_load) {\n",
              "      console.log(\"Bokeh: BokehJS failed to load within specified timeout.\");\n",
              "      root._bokeh_failed_load = true;\n",
              "    } else if (force !== true) {\n",
              "      const cell = $(document.getElementById(null)).parents('.cell').data().cell;\n",
              "      cell.output_area.append_execute_result(NB_LOAD_WARNING)\n",
              "    }\n",
              "  }\n",
              "\n",
              "  if (root._bokeh_is_loading === 0) {\n",
              "    console.debug(\"Bokeh: BokehJS loaded, going straight to plotting\");\n",
              "    run_inline_js();\n",
              "  } else {\n",
              "    load_libs(css_urls, js_urls, function() {\n",
              "      console.debug(\"Bokeh: BokehJS plotting callback run at\", now());\n",
              "      run_inline_js();\n",
              "    });\n",
              "  }\n",
              "}(window));"
            ],
            "application/vnd.bokehjs_load.v0+json": "'use strict';\n(function(root) {\n  function now() {\n    return new Date();\n  }\n\n  const force = true;\n\n  if (typeof root._bokeh_onload_callbacks === \"undefined\" || force === true) {\n    root._bokeh_onload_callbacks = [];\n    root._bokeh_is_loading = undefined;\n  }\n\n\n  if (typeof (root._bokeh_timeout) === \"undefined\" || force === true) {\n    root._bokeh_timeout = Date.now() + 5000;\n    root._bokeh_failed_load = false;\n  }\n\n  const NB_LOAD_WARNING = {'data': {'text/html':\n     \"<div style='background-color: #fdd'>\\n\"+\n     \"<p>\\n\"+\n     \"BokehJS does not appear to have successfully loaded. If loading BokehJS from CDN, this \\n\"+\n     \"may be due to a slow or bad network connection. Possible fixes:\\n\"+\n     \"</p>\\n\"+\n     \"<ul>\\n\"+\n     \"<li>re-rerun `output_notebook()` to attempt to load from CDN again, or</li>\\n\"+\n     \"<li>use INLINE resources instead, as so:</li>\\n\"+\n     \"</ul>\\n\"+\n     \"<code>\\n\"+\n     \"from bokeh.resources import INLINE\\n\"+\n     \"output_notebook(resources=INLINE)\\n\"+\n     \"</code>\\n\"+\n     \"</div>\"}};\n\n  function display_loaded(error = null) {\n    const el = document.getElementById(null);\n    if (el != null) {\n      const html = (() => {\n        if (typeof root.Bokeh === \"undefined\") {\n          if (error == null) {\n            return \"BokehJS is loading ...\";\n          } else {\n            return \"BokehJS failed to load.\";\n          }\n        } else {\n          const prefix = `BokehJS ${root.Bokeh.version}`;\n          if (error == null) {\n            return `${prefix} successfully loaded.`;\n          } else {\n            return `${prefix} <b>encountered errors</b> while loading and may not function as expected.`;\n          }\n        }\n      })();\n      el.innerHTML = html;\n\n      if (error != null) {\n        const wrapper = document.createElement(\"div\");\n        wrapper.style.overflow = \"auto\";\n        wrapper.style.height = \"5em\";\n        wrapper.style.resize = \"vertical\";\n        const content = document.createElement(\"div\");\n        content.style.fontFamily = \"monospace\";\n        content.style.whiteSpace = \"pre-wrap\";\n        content.style.backgroundColor = \"rgb(255, 221, 221)\";\n        content.textContent = error.stack ?? error.toString();\n        wrapper.append(content);\n        el.append(wrapper);\n      }\n    } else if (Date.now() < root._bokeh_timeout) {\n      setTimeout(() => display_loaded(error), 100);\n    }\n  }\n\n  function run_callbacks() {\n    try {\n      root._bokeh_onload_callbacks.forEach(function(callback) {\n        if (callback != null)\n          callback();\n      });\n    } finally {\n      delete root._bokeh_onload_callbacks\n    }\n    console.debug(\"Bokeh: all callbacks have finished\");\n  }\n\n  function load_libs(css_urls, js_urls, callback) {\n    if (css_urls == null) css_urls = [];\n    if (js_urls == null) js_urls = [];\n\n    root._bokeh_onload_callbacks.push(callback);\n    if (root._bokeh_is_loading > 0) {\n      console.debug(\"Bokeh: BokehJS is being loaded, scheduling callback at\", now());\n      return null;\n    }\n    if (js_urls == null || js_urls.length === 0) {\n      run_callbacks();\n      return null;\n    }\n    console.debug(\"Bokeh: BokehJS not loaded, scheduling load and callback at\", now());\n    root._bokeh_is_loading = css_urls.length + js_urls.length;\n\n    function on_load() {\n      root._bokeh_is_loading--;\n      if (root._bokeh_is_loading === 0) {\n        console.debug(\"Bokeh: all BokehJS libraries/stylesheets loaded\");\n        run_callbacks()\n      }\n    }\n\n    function on_error(url) {\n      console.error(\"failed to load \" + url);\n    }\n\n    for (let i = 0; i < css_urls.length; i++) {\n      const url = css_urls[i];\n      const element = document.createElement(\"link\");\n      element.onload = on_load;\n      element.onerror = on_error.bind(null, url);\n      element.rel = \"stylesheet\";\n      element.type = \"text/css\";\n      element.href = url;\n      console.debug(\"Bokeh: injecting link tag for BokehJS stylesheet: \", url);\n      document.body.appendChild(element);\n    }\n\n    for (let i = 0; i < js_urls.length; i++) {\n      const url = js_urls[i];\n      const element = document.createElement('script');\n      element.onload = on_load;\n      element.onerror = on_error.bind(null, url);\n      element.async = false;\n      element.src = url;\n      console.debug(\"Bokeh: injecting script tag for BokehJS library: \", url);\n      document.head.appendChild(element);\n    }\n  };\n\n  function inject_raw_css(css) {\n    const element = document.createElement(\"style\");\n    element.appendChild(document.createTextNode(css));\n    document.body.appendChild(element);\n  }\n\n  const js_urls = [\"https://cdn.bokeh.org/bokeh/release/bokeh-3.6.3.min.js\", \"https://cdn.bokeh.org/bokeh/release/bokeh-gl-3.6.3.min.js\", \"https://cdn.bokeh.org/bokeh/release/bokeh-widgets-3.6.3.min.js\", \"https://cdn.bokeh.org/bokeh/release/bokeh-tables-3.6.3.min.js\", \"https://cdn.bokeh.org/bokeh/release/bokeh-mathjax-3.6.3.min.js\"];\n  const css_urls = [];\n\n  const inline_js = [    function(Bokeh) {\n      Bokeh.set_log_level(\"info\");\n    },\nfunction(Bokeh) {\n    }\n  ];\n\n  function run_inline_js() {\n    if (root.Bokeh !== undefined || force === true) {\n      try {\n            for (let i = 0; i < inline_js.length; i++) {\n      inline_js[i].call(root, root.Bokeh);\n    }\n\n      } catch (error) {throw error;\n      }} else if (Date.now() < root._bokeh_timeout) {\n      setTimeout(run_inline_js, 100);\n    } else if (!root._bokeh_failed_load) {\n      console.log(\"Bokeh: BokehJS failed to load within specified timeout.\");\n      root._bokeh_failed_load = true;\n    } else if (force !== true) {\n      const cell = $(document.getElementById(null)).parents('.cell').data().cell;\n      cell.output_area.append_execute_result(NB_LOAD_WARNING)\n    }\n  }\n\n  if (root._bokeh_is_loading === 0) {\n    console.debug(\"Bokeh: BokehJS loaded, going straight to plotting\");\n    run_inline_js();\n  } else {\n    load_libs(css_urls, js_urls, function() {\n      console.debug(\"Bokeh: BokehJS plotting callback run at\", now());\n      run_inline_js();\n    });\n  }\n}(window));"
          },
          "metadata": {}
        },
        {
          "output_type": "display_data",
          "data": {
            "text/html": [
              "\n",
              "  <div id=\"e3292d78-d3ad-48b5-beb2-fea97354aba0\" data-root-id=\"p1055\" style=\"display: contents;\"></div>\n"
            ]
          },
          "metadata": {}
        },
        {
          "output_type": "display_data",
          "data": {
            "application/javascript": [
              "(function(root) {\n",
              "  function embed_document(root) {\n",
              "  const docs_json = {\"afce9644-7b94-441f-bf0b-6eeb3a9c53c0\":{\"version\":\"3.6.3\",\"title\":\"Bokeh Application\",\"roots\":[{\"type\":\"object\",\"name\":\"Figure\",\"id\":\"p1055\",\"attributes\":{\"height\":400,\"x_range\":{\"type\":\"object\",\"name\":\"DataRange1d\",\"id\":\"p1056\"},\"y_range\":{\"type\":\"object\",\"name\":\"DataRange1d\",\"id\":\"p1057\"},\"x_scale\":{\"type\":\"object\",\"name\":\"LinearScale\",\"id\":\"p1064\"},\"y_scale\":{\"type\":\"object\",\"name\":\"LinearScale\",\"id\":\"p1065\"},\"title\":{\"type\":\"object\",\"name\":\"Title\",\"id\":\"p1062\"},\"renderers\":[{\"type\":\"object\",\"name\":\"GlyphRenderer\",\"id\":\"p1095\",\"attributes\":{\"data_source\":{\"type\":\"object\",\"name\":\"ColumnDataSource\",\"id\":\"p1052\",\"attributes\":{\"selected\":{\"type\":\"object\",\"name\":\"Selection\",\"id\":\"p1053\",\"attributes\":{\"indices\":[],\"line_indices\":[]}},\"selection_policy\":{\"type\":\"object\",\"name\":\"UnionRenderers\",\"id\":\"p1054\"},\"data\":{\"type\":\"map\",\"entries\":[[\"x\",{\"type\":\"ndarray\",\"array\":{\"type\":\"bytes\",\"data\":\"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\"},\"shape\":[5000],\"dtype\":\"float32\",\"order\":\"little\"}],[\"y\",{\"type\":\"ndarray\",\"array\":{\"type\":\"bytes\",\"data\":\"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\"},\"shape\":[5000],\"dtype\":\"float32\",\"order\":\"little\"}],[\"color\",[\"blue\",\"blue\",\"blue\",\"blue\",\"blue\",\"blue\",\"blue\",\"blue\",\"blue\",\"blue\",\"blue\",\"blue\",\"blue\",\"blue\",\"blue\",\"blue\",\"blue\",\"blue\",\"blue\",\"blue\",\"blue\",\"blue\",\"blue\",\"blue\",\"blue\",\"blue\",\"blue\",\"blue\",\"blue\",\"blue\",\"blue\",\"blue\",\"blue\",\"blue\",\"blue\",\"blue\",\"blue\",\"blue\",\"blue\",\"blue\",\"blue\",\"blue\",\"blue\",\"blue\",\"blue\",\"blue\",\"blue\",\"blue\",\"blue\",\"blue\",\"blue\",\"blue\",\"blue\",\"blue\",\"blue\",\"blue\",\"blue\",\"blue\",\"blue\",\"blue\",\"blue\",\"blue\",\"blue\",\"blue\",\"blue\",\"blue\",\"blue\",\"blue\",\"blue\",\"blue\",\"blue\",\"blue\",\"blue\",\"blue\",\"blue\",\"blue\",\"blue\",\"blue\",\"blue\",\"blue\",\"blue\",\"blue\",\"blue\",\"blue\",\"blue\",\"blue\",\"blue\",\"blue\",\"blue\",\"blue\",\"blue\",\"blue\",\"blue\",\"blue\",\"blue\",\"blue\",\"blue\",\"blue\",\"blue\",\"blue\",\"blue\",\"blue\",\"blue\",\"blue\",\"blue\",\"blue\",\"blue\",\"blue\",\"blue\",\"blue\",\"blue\",\"blue\",\"blue\",\"blue\",\"blue\",\"blue\",\"blue\",\"blue\",\"blue\",\"blue\",\"blue\",\"blue\",\"blue\",\"blue\",\"blue\",\"blue\",\"blue\",\"blue\",\"blue\",\"blue\",\"blue\",\"blue\",\"blue\",\"blue\",\"blue\",\"blue\",\"blue\",\"blue\",\"blue\",\"blue\",\"blue\",\"blue\",\"blue\",\"blue\",\"blue\",\"blue\",\"blue\",\"blue\",\"blue\",\"blue\",\"blue\",\"blue\",\"blue\",\"blue\",\"blue\",\"blue\",\"blue\",\"blue\",\"blue\",\"blue\",\"blue\",\"blue\",\"blue\",\"blue\",\"blue\",\"blue\",\"blue\",\"blue\",\"blue\",\"blue\",\"blue\",\"blue\",\"blue\",\"blue\",\"blue\",\"blue\",\"blue\",\"blue\",\"blue\",\"blue\",\"blue\",\"blue\",\"blue\",\"blue\",\"blue\",\"blue\",\"blue\",\"blue\",\"blue\",\"blue\",\"blue\",\"blue\",\"blue\",\"blue\",\"blue\",\"blue\",\"blue\",\"blue\",\"blue\",\"blue\",\"blue\",\"blue\",\"blue\",\"blue\",\"blue\",\"blue\",\"blue\",\"blue\",\"blue\",\"blue\",\"blue\",\"blue\",\"blue\",\"blue\",\"blue\",\"blue\",\"blue\",\"blue\",\"blue\",\"blue\",\"blue\",\"blue\",\"blue\",\"blue\",\"blue\",\"blue\",\"blue\",\"blue\",\"blue\",\"blue\",\"blue\",\"blue\",\"blue\",\"blue\",\"blue\",\"blue\",\"blue\",\"blue\",\"blue\",\"blue\",\"blue\",\"blue\",\"blue\",\"blue\",\"blue\",\"blue\",\"blue\",\"blue\",\"blue\",\"blue\",\"blue\",\"blue\",\"blue\",\"blue\",\"blue\",\"blue\",\"blue\",\"blue\",\"blue\",\"blue\",\"blue\",\"blue\",\"blue\",\"blue\",\"blue\",\"blue\",\"blue\",\"blue\",\"blue\",\"blue\",\"blue\",\"blue\",\"blue\",\"blue\",\"blue\",\"blue\",\"blue\",\"blue\",\"blue\",\"blue\",\"blue\",\"blue\",\"blue\",\"blue\",\"blue\",\"blue\",\"blue\",\"blue\",\"blue\",\"blue\",\"blue\",\"blue\",\"blue\",\"blue\",\"blue\",\"blue\",\"blue\",\"blue\",\"blue\",\"blue\",\"blue\",\"blue\",\"blue\",\"blue\",\"blue\",\"blue\",\"blue\",\"blue\",\"blue\",\"blue\",\"blue\",\"blue\",\"blue\",\"blue\",\"blue\",\"blue\",\"blue\",\"blue\",\"blue\",\"blue\",\"blue\",\"blue\",\"blue\",\"blue\",\"blue\",\"blue\",\"blue\",\"blue\",\"blue\",\"blue\",\"blue\",\"blue\",\"blue\",\"blue\",\"blue\",\"blue\",\"blue\",\"blue\",\"blue\",\"blue\",\"blue\",\"blue\",\"blue\",\"blue\",\"blue\",\"blue\",\"blue\",\"blue\",\"blue\",\"blue\",\"blue\",\"blue\",\"blue\",\"blue\",\"blue\",\"blue\",\"blue\",\"blue\",\"blue\",\"blue\",\"blue\",\"blue\",\"blue\",\"blue\",\"blue\",\"blue\",\"blue\",\"blue\",\"blue\",\"blue\",\"blue\",\"blue\",\"blue\",\"blue\",\"blue\",\"blue\",\"blue\",\"blue\",\"blue\",\"blue\",\"blue\",\"blue\",\"blue\",\"blue\",\"blue\",\"blue\",\"blue\",\"blue\",\"blue\",\"blue\",\"blue\",\"blue\",\"blue\",\"blue\",\"blue\",\"blue\",\"blue\",\"blue\",\"blue\",\"blue\",\"blue\",\"blue\",\"blue\",\"blue\",\"blue\",\"blue\",\"blue\",\"blue\",\"blue\",\"blue\",\"blue\",\"blue\",\"blue\",\"blue\",\"blue\",\"blue\",\"blue\",\"blue\",\"blue\",\"blue\",\"blue\",\"blue\",\"blue\",\"blue\",\"blue\",\"blue\",\"blue\",\"blue\",\"blue\",\"blue\",\"blue\",\"blue\",\"blue\",\"blue\",\"blue\",\"blue\",\"blue\",\"blue\",\"blue\",\"blue\",\"blue\",\"blue\",\"blue\",\"blue\",\"blue\",\"blue\",\"blue\",\"blue\",\"blue\",\"blue\",\"blue\",\"blue\",\"blue\",\"blue\",\"blue\",\"blue\",\"blue\",\"blue\",\"blue\",\"blue\",\"blue\",\"blue\",\"blue\",\"blue\",\"blue\",\"blue\",\"blue\",\"blue\",\"blue\",\"blue\",\"blue\",\"blue\",\"blue\",\"blue\",\"blue\",\"blue\",\"blue\",\"blue\",\"blue\",\"blue\",\"blue\",\"blue\",\"blue\",\"blue\",\"blue\",\"blue\",\"blue\",\"blue\",\"blue\",\"blue\",\"blue\",\"blue\",\"blue\",\"blue\",\"blue\",\"blue\",\"blue\",\"blue\",\"blue\",\"blue\",\"blue\",\"blue\",\"blue\",\"blue\",\"blue\",\"blue\",\"blue\",\"blue\",\"blue\",\"blue\",\"blue\",\"blue\",\"blue\",\"blue\",\"blue\",\"blue\",\"blue\",\"blue\",\"blue\",\"blue\",\"blue\",\"blue\",\"blue\",\"blue\",\"blue\",\"blue\",\"blue\",\"blue\",\"blue\",\"blue\",\"blue\",\"blue\",\"blue\",\"blue\",\"blue\",\"blue\",\"blue\",\"blue\",\"blue\",\"blue\",\"blue\",\"blue\",\"blue\",\"blue\",\"blue\",\"blue\",\"blue\",\"blue\",\"blue\",\"blue\",\"blue\",\"blue\",\"blue\",\"blue\",\"blue\",\"blue\",\"blue\",\"blue\",\"blue\",\"blue\",\"blue\",\"blue\",\"blue\",\"blue\",\"blue\",\"blue\",\"blue\",\"blue\",\"blue\",\"blue\",\"blue\",\"blue\",\"blue\",\"blue\",\"blue\",\"blue\",\"blue\",\"blue\",\"blue\",\"blue\",\"blue\",\"blue\",\"blue\",\"blue\",\"blue\",\"blue\",\"blue\",\"blue\",\"blue\",\"blue\",\"blue\",\"blue\",\"blue\",\"blue\",\"blue\",\"blue\",\"blue\",\"blue\",\"blue\",\"blue\",\"blue\",\"blue\",\"blue\",\"blue\",\"blue\",\"blue\",\"blue\",\"blue\",\"blue\",\"blue\",\"blue\",\"blue\",\"blue\",\"blue\",\"blue\",\"blue\",\"blue\",\"blue\",\"blue\",\"blue\",\"blue\",\"blue\",\"blue\",\"blue\",\"blue\",\"blue\",\"blue\",\"blue\",\"blue\",\"blue\",\"blue\",\"blue\",\"blue\",\"blue\",\"blue\",\"blue\",\"blue\",\"blue\",\"blue\",\"blue\",\"blue\",\"blue\",\"blue\",\"blue\",\"blue\",\"blue\",\"blue\",\"blue\",\"blue\",\"blue\",\"blue\",\"blue\",\"blue\",\"blue\",\"blue\",\"blue\",\"blue\",\"blue\",\"blue\",\"blue\",\"blue\",\"blue\",\"blue\",\"blue\",\"blue\",\"blue\",\"blue\",\"blue\",\"blue\",\"blue\",\"blue\",\"blue\",\"blue\",\"blue\",\"blue\",\"blue\",\"blue\",\"blue\",\"blue\",\"blue\",\"blue\",\"blue\",\"blue\",\"blue\",\"blue\",\"blue\",\"blue\",\"blue\",\"blue\",\"blue\",\"blue\",\"blue\",\"blue\",\"blue\",\"blue\",\"blue\",\"blue\",\"blue\",\"blue\",\"blue\",\"blue\",\"blue\",\"blue\",\"blue\",\"blue\",\"blue\",\"blue\",\"blue\",\"blue\",\"blue\",\"blue\",\"blue\",\"blue\",\"blue\",\"blue\",\"blue\",\"blue\",\"blue\",\"blue\",\"blue\",\"blue\",\"blue\",\"blue\",\"blue\",\"blue\",\"blue\",\"blue\",\"blue\",\"blue\",\"blue\",\"blue\",\"blue\",\"blue\",\"blue\",\"blue\",\"blue\",\"blue\",\"blue\",\"blue\",\"blue\",\"blue\",\"blue\",\"blue\",\"blue\",\"blue\",\"blue\",\"blue\",\"blue\",\"blue\",\"blue\",\"blue\",\"blue\",\"blue\",\"blue\",\"blue\",\"blue\",\"blue\",\"blue\",\"blue\",\"blue\",\"blue\",\"blue\",\"blue\",\"blue\",\"blue\",\"blue\",\"blue\",\"blue\",\"blue\",\"blue\",\"blue\",\"blue\",\"blue\",\"blue\",\"blue\",\"blue\",\"blue\",\"blue\",\"blue\",\"blue\",\"blue\",\"blue\",\"blue\",\"blue\",\"blue\",\"blue\",\"blue\",\"blue\",\"blue\",\"blue\",\"blue\",\"blue\",\"blue\",\"blue\",\"blue\",\"blue\",\"blue\",\"blue\",\"blue\",\"blue\",\"blue\",\"blue\",\"blue\",\"blue\",\"blue\",\"blue\",\"blue\",\"blue\",\"blue\",\"blue\",\"blue\",\"blue\",\"blue\",\"blue\",\"blue\",\"blue\",\"blue\",\"blue\",\"blue\",\"blue\",\"blue\",\"blue\",\"blue\",\"blue\",\"blue\",\"blue\",\"blue\",\"blue\",\"blue\",\"blue\",\"blue\",\"blue\",\"blue\",\"blue\",\"blue\",\"blue\",\"blue\",\"blue\",\"blue\",\"blue\",\"blue\",\"blue\",\"blue\",\"blue\",\"blue\",\"blue\",\"blue\",\"blue\",\"blue\",\"blue\",\"blue\",\"blue\",\"blue\",\"blue\",\"blue\",\"blue\",\"blue\",\"blue\",\"blue\",\"blue\",\"blue\",\"blue\",\"blue\",\"blue\",\"blue\",\"blue\",\"blue\",\"blue\",\"blue\",\"blue\",\"blue\",\"blue\",\"blue\",\"blue\",\"blue\",\"blue\",\"blue\",\"blue\",\"blue\",\"blue\",\"blue\",\"blue\",\"blue\",\"blue\",\"blue\",\"blue\",\"blue\",\"blue\",\"blue\",\"blue\",\"blue\",\"blue\",\"blue\",\"blue\",\"blue\",\"blue\",\"blue\",\"blue\",\"blue\",\"blue\",\"blue\",\"blue\",\"blue\",\"blue\",\"blue\",\"blue\",\"blue\",\"blue\",\"blue\",\"blue\",\"blue\",\"blue\",\"blue\",\"blue\",\"blue\",\"blue\",\"blue\",\"blue\",\"blue\",\"blue\",\"blue\",\"blue\",\"blue\",\"blue\",\"blue\",\"blue\",\"blue\",\"blue\",\"blue\",\"blue\",\"blue\",\"blue\",\"blue\",\"blue\",\"blue\",\"blue\",\"blue\",\"blue\",\"blue\",\"blue\",\"blue\",\"blue\",\"blue\",\"blue\",\"blue\",\"blue\",\"blue\",\"blue\",\"blue\",\"blue\",\"blue\",\"blue\",\"blue\",\"blue\",\"blue\",\"blue\",\"blue\",\"blue\",\"blue\",\"blue\",\"blue\",\"blue\",\"blue\",\"blue\",\"blue\",\"blue\",\"blue\",\"blue\",\"blue\",\"blue\",\"blue\",\"blue\",\"blue\",\"blue\",\"blue\",\"blue\",\"blue\",\"blue\",\"blue\",\"blue\",\"blue\",\"blue\",\"blue\",\"blue\",\"blue\",\"blue\",\"blue\",\"blue\",\"blue\",\"blue\",\"blue\",\"blue\",\"blue\",\"blue\",\"blue\",\"blue\",\"blue\",\"blue\",\"blue\",\"blue\",\"blue\",\"blue\",\"blue\",\"blue\",\"blue\",\"blue\",\"blue\",\"blue\",\"blue\",\"blue\",\"blue\",\"blue\",\"blue\",\"blue\",\"blue\",\"blue\",\"blue\",\"blue\",\"blue\",\"blue\",\"blue\",\"blue\",\"blue\",\"blue\",\"blue\",\"blue\",\"blue\",\"blue\",\"blue\",\"blue\",\"blue\",\"blue\",\"blue\",\"blue\",\"blue\",\"blue\",\"blue\",\"blue\",\"blue\",\"blue\",\"blue\",\"blue\",\"blue\",\"blue\",\"blue\",\"blue\",\"blue\",\"blue\",\"blue\",\"blue\",\"blue\",\"blue\",\"blue\",\"blue\",\"blue\",\"blue\",\"blue\",\"blue\",\"blue\",\"blue\",\"blue\",\"blue\",\"blue\",\"blue\",\"blue\",\"blue\",\"blue\",\"blue\",\"blue\",\"blue\",\"blue\",\"blue\",\"blue\",\"blue\",\"blue\",\"blue\",\"blue\",\"blue\",\"blue\",\"blue\",\"blue\",\"blue\",\"blue\",\"blue\",\"blue\",\"blue\",\"blue\",\"blue\",\"blue\",\"blue\",\"blue\",\"blue\",\"blue\",\"blue\",\"blue\",\"blue\",\"blue\",\"blue\",\"blue\",\"blue\",\"blue\",\"blue\",\"blue\",\"blue\",\"blue\",\"blue\",\"blue\",\"blue\",\"blue\",\"blue\",\"blue\",\"blue\",\"blue\",\"blue\",\"blue\",\"blue\",\"blue\",\"blue\",\"blue\",\"blue\",\"blue\",\"blue\",\"blue\",\"blue\",\"blue\",\"blue\",\"blue\",\"blue\",\"blue\",\"blue\",\"blue\",\"blue\",\"blue\",\"blue\",\"blue\",\"blue\",\"blue\",\"blue\",\"blue\",\"blue\",\"blue\",\"blue\",\"blue\",\"blue\",\"blue\",\"blue\",\"blue\",\"blue\",\"blue\",\"blue\",\"blue\",\"blue\",\"blue\",\"blue\",\"blue\",\"blue\",\"blue\",\"blue\",\"blue\",\"blue\",\"blue\",\"blue\",\"blue\",\"blue\",\"blue\",\"blue\",\"blue\",\"blue\",\"blue\",\"blue\",\"blue\",\"blue\",\"blue\",\"blue\",\"blue\",\"blue\",\"blue\",\"blue\",\"blue\",\"blue\",\"blue\",\"blue\",\"blue\",\"blue\",\"blue\",\"blue\",\"blue\",\"blue\",\"blue\",\"blue\",\"blue\",\"blue\",\"blue\",\"blue\",\"blue\",\"blue\",\"blue\",\"blue\",\"blue\",\"blue\",\"blue\",\"blue\",\"blue\",\"blue\",\"blue\",\"blue\",\"blue\",\"blue\",\"blue\",\"blue\",\"blue\",\"blue\",\"blue\",\"blue\",\"blue\",\"blue\",\"blue\",\"blue\",\"blue\",\"blue\",\"blue\",\"blue\",\"blue\",\"blue\",\"blue\",\"blue\",\"blue\",\"blue\",\"blue\",\"blue\",\"blue\",\"blue\",\"blue\",\"blue\",\"blue\",\"blue\",\"blue\",\"blue\",\"blue\",\"blue\",\"blue\",\"blue\",\"blue\",\"blue\",\"blue\",\"blue\",\"blue\",\"blue\",\"blue\",\"blue\",\"blue\",\"blue\",\"blue\",\"blue\",\"blue\",\"blue\",\"blue\",\"blue\",\"blue\",\"blue\",\"blue\",\"blue\",\"blue\",\"blue\",\"blue\",\"blue\",\"blue\",\"blue\",\"blue\",\"blue\",\"blue\",\"blue\",\"blue\",\"blue\",\"blue\",\"blue\",\"blue\",\"blue\",\"blue\",\"blue\",\"blue\",\"blue\",\"blue\",\"blue\",\"blue\",\"blue\",\"blue\",\"blue\",\"blue\",\"blue\",\"blue\",\"blue\",\"blue\",\"blue\",\"blue\",\"blue\",\"blue\",\"blue\",\"blue\",\"blue\",\"blue\",\"blue\",\"blue\",\"blue\",\"blue\",\"blue\",\"blue\",\"blue\",\"blue\",\"blue\",\"blue\",\"blue\",\"blue\",\"blue\",\"blue\",\"blue\",\"blue\",\"blue\",\"blue\",\"blue\",\"blue\",\"blue\",\"blue\",\"blue\",\"blue\",\"blue\",\"blue\",\"blue\",\"blue\",\"blue\",\"blue\",\"blue\",\"blue\",\"blue\",\"blue\",\"blue\",\"blue\",\"blue\",\"blue\",\"blue\",\"blue\",\"blue\",\"blue\",\"blue\",\"blue\",\"blue\",\"blue\",\"blue\",\"blue\",\"blue\",\"blue\",\"blue\",\"blue\",\"blue\",\"blue\",\"blue\",\"blue\",\"blue\",\"blue\",\"blue\",\"blue\",\"blue\",\"blue\",\"blue\",\"blue\",\"blue\",\"blue\",\"blue\",\"blue\",\"blue\",\"blue\",\"blue\",\"blue\",\"blue\",\"blue\",\"blue\",\"blue\",\"blue\",\"blue\",\"blue\",\"blue\",\"blue\",\"blue\",\"blue\",\"blue\",\"blue\",\"blue\",\"blue\",\"blue\",\"blue\",\"blue\",\"blue\",\"blue\",\"blue\",\"blue\",\"blue\",\"blue\",\"blue\",\"blue\",\"blue\",\"blue\",\"blue\",\"blue\",\"blue\",\"blue\",\"blue\",\"blue\",\"blue\",\"blue\",\"blue\",\"blue\",\"blue\",\"blue\",\"blue\",\"blue\",\"blue\",\"blue\",\"blue\",\"blue\",\"blue\",\"blue\",\"blue\",\"blue\",\"blue\",\"blue\",\"blue\",\"blue\",\"blue\",\"blue\",\"blue\",\"blue\",\"blue\",\"blue\",\"blue\",\"blue\",\"blue\",\"blue\",\"blue\",\"blue\",\"blue\",\"blue\",\"blue\",\"blue\",\"blue\",\"blue\",\"blue\",\"blue\",\"blue\",\"blue\",\"blue\",\"blue\",\"blue\",\"blue\",\"blue\",\"blue\",\"blue\",\"blue\",\"blue\",\"blue\",\"blue\",\"blue\",\"blue\",\"blue\",\"blue\",\"blue\",\"blue\",\"blue\",\"blue\",\"blue\",\"blue\",\"blue\",\"blue\",\"blue\",\"blue\",\"blue\",\"blue\",\"blue\",\"blue\",\"blue\",\"blue\",\"blue\",\"blue\",\"blue\",\"blue\",\"blue\",\"blue\",\"blue\",\"blue\",\"blue\",\"blue\",\"blue\",\"blue\",\"blue\",\"blue\",\"blue\",\"blue\",\"blue\",\"blue\",\"blue\",\"blue\",\"blue\",\"blue\",\"blue\",\"blue\",\"blue\",\"blue\",\"blue\",\"blue\",\"blue\",\"blue\",\"blue\",\"blue\",\"blue\",\"blue\",\"blue\",\"blue\",\"blue\",\"blue\",\"blue\",\"blue\",\"blue\",\"blue\",\"blue\",\"blue\",\"blue\",\"blue\",\"blue\",\"blue\",\"blue\",\"blue\",\"blue\",\"blue\",\"blue\",\"blue\",\"blue\",\"blue\",\"blue\",\"blue\",\"blue\",\"blue\",\"blue\",\"blue\",\"blue\",\"blue\",\"blue\",\"blue\",\"blue\",\"blue\",\"blue\",\"blue\",\"blue\",\"blue\",\"blue\",\"blue\",\"blue\",\"blue\",\"blue\",\"blue\",\"blue\",\"blue\",\"blue\",\"blue\",\"blue\",\"blue\",\"blue\",\"blue\",\"blue\",\"blue\",\"blue\",\"blue\",\"blue\",\"blue\",\"blue\",\"blue\",\"blue\",\"blue\",\"blue\",\"blue\",\"blue\",\"blue\",\"blue\",\"blue\",\"blue\",\"blue\",\"blue\",\"blue\",\"blue\",\"blue\",\"blue\",\"blue\",\"blue\",\"blue\",\"blue\",\"blue\",\"blue\",\"blue\",\"blue\",\"blue\",\"blue\",\"blue\",\"blue\",\"blue\",\"blue\",\"blue\",\"blue\",\"blue\",\"blue\",\"blue\",\"blue\",\"blue\",\"blue\",\"blue\",\"blue\",\"blue\",\"blue\",\"blue\",\"blue\",\"blue\",\"blue\",\"blue\",\"blue\",\"blue\",\"blue\",\"blue\",\"blue\",\"blue\",\"blue\",\"blue\",\"blue\",\"blue\",\"blue\",\"blue\",\"blue\",\"blue\",\"blue\",\"blue\",\"blue\",\"blue\",\"blue\",\"blue\",\"blue\",\"blue\",\"blue\",\"blue\",\"blue\",\"blue\",\"blue\",\"blue\",\"blue\",\"blue\",\"blue\",\"blue\",\"blue\",\"blue\",\"blue\",\"blue\",\"blue\",\"blue\",\"blue\",\"blue\",\"blue\",\"blue\",\"blue\",\"blue\",\"blue\",\"blue\",\"blue\",\"blue\",\"blue\",\"blue\",\"blue\",\"blue\",\"blue\",\"blue\",\"blue\",\"blue\",\"blue\",\"blue\",\"blue\",\"blue\",\"blue\",\"blue\",\"blue\",\"blue\",\"blue\",\"blue\",\"blue\",\"blue\",\"blue\",\"blue\",\"blue\",\"blue\",\"blue\",\"blue\",\"blue\",\"blue\",\"blue\",\"blue\",\"blue\",\"blue\",\"blue\",\"blue\",\"blue\",\"blue\",\"blue\",\"blue\",\"blue\",\"blue\",\"blue\",\"blue\",\"blue\",\"blue\",\"blue\",\"blue\",\"blue\",\"blue\",\"blue\",\"blue\",\"blue\",\"blue\",\"blue\",\"blue\",\"blue\",\"blue\",\"blue\",\"blue\",\"blue\",\"blue\",\"blue\",\"blue\",\"blue\",\"blue\",\"blue\",\"blue\",\"blue\",\"blue\",\"blue\",\"blue\",\"blue\",\"blue\",\"blue\",\"blue\",\"blue\",\"blue\",\"blue\",\"blue\",\"blue\",\"blue\",\"blue\",\"blue\",\"blue\",\"blue\",\"blue\",\"blue\",\"blue\",\"blue\",\"blue\",\"blue\",\"blue\",\"blue\",\"blue\",\"blue\",\"blue\",\"blue\",\"blue\",\"blue\",\"blue\",\"blue\",\"blue\",\"blue\",\"blue\",\"blue\",\"blue\",\"blue\",\"blue\",\"blue\",\"blue\",\"blue\",\"blue\",\"blue\",\"blue\",\"blue\",\"blue\",\"blue\",\"blue\",\"blue\",\"blue\",\"blue\",\"blue\",\"blue\",\"blue\",\"blue\",\"blue\",\"blue\",\"blue\",\"blue\",\"blue\",\"blue\",\"blue\",\"blue\",\"blue\",\"blue\",\"blue\",\"blue\",\"blue\",\"blue\",\"blue\",\"blue\",\"blue\",\"blue\",\"blue\",\"blue\",\"blue\",\"blue\",\"blue\",\"blue\",\"blue\",\"blue\",\"blue\",\"blue\",\"blue\",\"blue\",\"blue\",\"blue\",\"blue\",\"blue\",\"blue\",\"blue\",\"blue\",\"blue\",\"blue\",\"blue\",\"blue\",\"blue\",\"blue\",\"blue\",\"blue\",\"blue\",\"blue\",\"blue\",\"blue\",\"blue\",\"blue\",\"blue\",\"blue\",\"blue\",\"blue\",\"blue\",\"blue\",\"blue\",\"blue\",\"blue\",\"blue\",\"blue\",\"blue\",\"blue\",\"blue\",\"blue\",\"blue\",\"blue\",\"blue\",\"blue\",\"blue\",\"blue\",\"blue\",\"blue\",\"blue\",\"blue\",\"blue\",\"blue\",\"blue\",\"blue\",\"blue\",\"blue\",\"blue\",\"blue\",\"blue\",\"blue\",\"blue\",\"blue\",\"blue\",\"blue\",\"blue\",\"blue\",\"blue\",\"blue\",\"blue\",\"blue\",\"blue\",\"blue\",\"blue\",\"blue\",\"blue\",\"blue\",\"blue\",\"blue\",\"blue\",\"blue\",\"blue\",\"blue\",\"blue\",\"blue\",\"blue\",\"blue\",\"blue\",\"blue\",\"blue\",\"blue\",\"blue\",\"blue\",\"blue\",\"blue\",\"blue\",\"blue\",\"blue\",\"blue\",\"blue\",\"blue\",\"blue\",\"blue\",\"blue\",\"blue\",\"blue\",\"blue\",\"blue\",\"blue\",\"blue\",\"blue\",\"blue\",\"blue\",\"blue\",\"blue\",\"blue\",\"blue\",\"blue\",\"blue\",\"blue\",\"blue\",\"blue\",\"blue\",\"blue\",\"blue\",\"blue\",\"blue\",\"blue\",\"blue\",\"blue\",\"blue\",\"blue\",\"blue\",\"blue\",\"blue\",\"blue\",\"blue\",\"blue\",\"blue\",\"blue\",\"blue\",\"blue\",\"blue\",\"blue\",\"blue\",\"blue\",\"blue\",\"blue\",\"blue\",\"blue\",\"blue\",\"blue\",\"blue\",\"blue\",\"blue\",\"blue\",\"blue\",\"blue\",\"blue\",\"blue\",\"blue\",\"blue\",\"blue\",\"blue\",\"blue\",\"blue\",\"blue\",\"blue\",\"blue\",\"blue\",\"blue\",\"blue\",\"blue\",\"blue\",\"blue\",\"blue\",\"blue\",\"blue\",\"blue\",\"blue\",\"blue\",\"blue\",\"blue\",\"blue\",\"blue\",\"blue\",\"blue\",\"blue\",\"blue\",\"blue\",\"blue\",\"blue\",\"blue\",\"blue\",\"blue\",\"blue\",\"blue\",\"blue\",\"blue\",\"blue\",\"blue\",\"blue\",\"blue\",\"blue\",\"blue\",\"blue\",\"blue\",\"blue\",\"blue\",\"blue\",\"blue\",\"blue\",\"blue\",\"blue\",\"blue\",\"blue\",\"blue\",\"blue\",\"blue\",\"blue\",\"blue\",\"blue\",\"blue\",\"blue\",\"blue\",\"blue\",\"blue\",\"blue\",\"blue\",\"blue\",\"blue\",\"blue\",\"blue\",\"blue\",\"blue\",\"blue\",\"blue\",\"blue\",\"blue\",\"blue\",\"blue\",\"blue\",\"blue\",\"blue\",\"blue\",\"blue\",\"blue\",\"blue\",\"blue\",\"blue\",\"blue\",\"blue\",\"blue\",\"blue\",\"blue\",\"blue\",\"blue\",\"blue\",\"blue\",\"blue\",\"blue\",\"blue\",\"blue\",\"blue\",\"blue\",\"blue\",\"blue\",\"blue\",\"blue\",\"blue\",\"blue\",\"blue\",\"blue\",\"blue\",\"blue\",\"blue\",\"blue\",\"blue\",\"blue\",\"blue\",\"blue\",\"blue\",\"blue\",\"blue\",\"blue\",\"blue\",\"blue\",\"blue\",\"blue\",\"blue\",\"blue\",\"blue\",\"blue\",\"blue\",\"blue\",\"blue\",\"blue\",\"blue\",\"blue\",\"blue\",\"blue\",\"blue\",\"blue\",\"blue\",\"blue\",\"blue\",\"blue\",\"blue\",\"blue\",\"blue\",\"blue\",\"blue\",\"blue\",\"blue\",\"blue\",\"blue\",\"blue\",\"blue\",\"blue\",\"blue\",\"blue\",\"blue\",\"blue\",\"blue\",\"blue\",\"blue\",\"blue\",\"blue\",\"blue\",\"blue\",\"blue\",\"blue\",\"blue\",\"blue\",\"blue\",\"blue\",\"blue\",\"blue\",\"blue\",\"blue\",\"blue\",\"blue\",\"blue\",\"blue\",\"blue\",\"blue\",\"blue\",\"blue\",\"blue\",\"blue\",\"blue\",\"blue\",\"blue\",\"blue\",\"blue\",\"blue\",\"blue\",\"blue\",\"blue\",\"blue\",\"blue\",\"blue\",\"blue\",\"blue\",\"blue\",\"blue\",\"blue\",\"blue\",\"blue\",\"blue\",\"blue\",\"blue\",\"blue\",\"blue\",\"blue\",\"blue\",\"blue\",\"blue\",\"blue\",\"blue\",\"blue\",\"blue\",\"blue\",\"blue\",\"blue\",\"blue\",\"blue\",\"blue\",\"blue\",\"blue\",\"blue\",\"blue\",\"blue\",\"blue\",\"blue\",\"blue\",\"blue\",\"blue\",\"blue\",\"blue\",\"blue\",\"blue\",\"blue\",\"blue\",\"blue\",\"blue\",\"blue\",\"blue\",\"blue\",\"blue\",\"blue\",\"blue\",\"blue\",\"blue\",\"blue\",\"blue\",\"blue\",\"blue\",\"blue\",\"blue\",\"blue\",\"blue\",\"blue\",\"blue\",\"blue\",\"blue\",\"blue\",\"blue\",\"blue\",\"blue\",\"blue\",\"blue\",\"blue\",\"blue\",\"blue\",\"blue\",\"blue\",\"blue\",\"blue\",\"blue\",\"blue\",\"blue\",\"blue\",\"blue\",\"blue\",\"blue\",\"blue\",\"blue\",\"blue\",\"blue\",\"blue\",\"blue\",\"blue\",\"blue\",\"blue\",\"blue\",\"blue\",\"blue\",\"blue\",\"blue\",\"blue\",\"blue\",\"blue\",\"blue\",\"blue\",\"blue\",\"blue\",\"blue\",\"blue\",\"blue\",\"blue\",\"blue\",\"blue\",\"blue\",\"blue\",\"blue\",\"blue\",\"blue\",\"blue\",\"blue\",\"blue\",\"blue\",\"blue\",\"blue\",\"blue\",\"blue\",\"blue\",\"blue\",\"blue\",\"blue\",\"blue\",\"blue\",\"blue\",\"blue\",\"blue\",\"blue\",\"blue\",\"blue\",\"blue\",\"blue\",\"blue\",\"blue\",\"blue\",\"blue\",\"blue\",\"blue\",\"blue\",\"blue\",\"blue\",\"blue\",\"blue\",\"blue\",\"blue\",\"blue\",\"blue\",\"blue\",\"blue\",\"blue\",\"blue\",\"blue\",\"blue\",\"blue\",\"blue\",\"blue\",\"blue\",\"blue\",\"blue\",\"blue\",\"blue\",\"blue\",\"blue\",\"blue\",\"blue\",\"blue\",\"blue\",\"blue\",\"blue\",\"blue\",\"blue\",\"blue\",\"blue\",\"blue\",\"blue\",\"blue\",\"blue\",\"blue\",\"blue\",\"blue\",\"blue\",\"blue\",\"blue\",\"blue\",\"blue\",\"blue\",\"blue\",\"blue\",\"blue\",\"blue\",\"blue\",\"blue\",\"blue\",\"blue\",\"blue\",\"blue\",\"blue\",\"blue\",\"blue\",\"blue\",\"blue\",\"blue\",\"blue\",\"blue\",\"blue\",\"blue\",\"blue\",\"blue\",\"blue\",\"blue\",\"blue\",\"blue\",\"blue\",\"blue\",\"blue\",\"blue\",\"blue\",\"blue\",\"blue\",\"blue\",\"blue\",\"blue\",\"blue\",\"blue\",\"blue\",\"blue\",\"blue\",\"blue\",\"blue\",\"blue\",\"blue\",\"blue\",\"blue\",\"blue\",\"blue\",\"blue\",\"blue\",\"blue\",\"blue\",\"blue\",\"blue\",\"blue\",\"blue\",\"blue\",\"blue\",\"blue\",\"blue\",\"blue\",\"blue\",\"blue\",\"blue\",\"blue\",\"blue\",\"blue\",\"blue\",\"blue\",\"blue\",\"blue\",\"blue\",\"blue\",\"blue\",\"blue\",\"blue\",\"blue\",\"blue\",\"blue\",\"blue\",\"blue\",\"blue\",\"blue\",\"blue\",\"blue\",\"blue\",\"blue\",\"blue\",\"blue\",\"blue\",\"blue\",\"blue\",\"blue\",\"blue\",\"blue\",\"blue\",\"blue\",\"blue\",\"blue\",\"blue\",\"blue\",\"blue\",\"blue\",\"blue\",\"blue\",\"blue\",\"blue\",\"blue\",\"blue\",\"blue\",\"blue\",\"blue\",\"blue\",\"blue\",\"blue\",\"blue\",\"blue\",\"blue\",\"blue\",\"blue\",\"blue\",\"blue\",\"blue\",\"blue\",\"blue\",\"blue\",\"blue\",\"blue\",\"blue\",\"blue\",\"blue\",\"blue\",\"blue\",\"blue\",\"blue\",\"blue\",\"blue\",\"blue\",\"blue\",\"blue\",\"blue\",\"blue\",\"blue\",\"blue\",\"blue\",\"blue\",\"blue\",\"blue\",\"blue\",\"blue\",\"blue\",\"blue\",\"blue\",\"blue\",\"blue\",\"blue\",\"blue\",\"blue\",\"blue\",\"blue\",\"blue\",\"blue\",\"blue\",\"blue\",\"blue\",\"blue\",\"blue\",\"blue\",\"blue\",\"blue\",\"blue\",\"blue\",\"blue\",\"blue\",\"blue\",\"blue\",\"blue\",\"blue\",\"blue\",\"blue\",\"blue\",\"blue\",\"blue\",\"blue\",\"blue\",\"blue\",\"blue\",\"blue\",\"blue\",\"blue\",\"blue\",\"blue\",\"blue\",\"blue\",\"blue\",\"blue\",\"blue\",\"blue\",\"blue\",\"blue\",\"blue\",\"blue\",\"blue\",\"blue\",\"blue\",\"blue\",\"blue\",\"blue\",\"blue\",\"blue\",\"blue\",\"blue\",\"blue\",\"blue\",\"blue\",\"blue\",\"blue\",\"blue\",\"blue\",\"blue\",\"blue\",\"blue\",\"blue\",\"blue\",\"blue\",\"blue\",\"blue\",\"blue\",\"blue\",\"blue\",\"blue\",\"blue\",\"blue\",\"blue\",\"blue\",\"blue\",\"blue\",\"blue\",\"blue\",\"blue\",\"blue\",\"blue\",\"blue\",\"blue\",\"blue\",\"blue\",\"blue\",\"blue\",\"blue\",\"blue\",\"blue\",\"blue\",\"blue\",\"blue\",\"blue\",\"blue\",\"blue\",\"blue\",\"blue\",\"blue\",\"blue\",\"blue\",\"blue\",\"blue\",\"blue\",\"blue\",\"blue\",\"blue\",\"blue\",\"blue\",\"blue\",\"blue\",\"blue\",\"blue\",\"blue\",\"blue\",\"blue\",\"blue\",\"blue\",\"blue\",\"blue\",\"blue\",\"blue\",\"blue\",\"blue\",\"blue\",\"blue\",\"blue\",\"blue\",\"blue\",\"blue\",\"blue\",\"blue\",\"blue\",\"blue\",\"blue\",\"blue\",\"blue\",\"blue\",\"blue\",\"blue\",\"blue\",\"blue\",\"blue\",\"blue\",\"blue\",\"blue\",\"blue\",\"blue\",\"blue\",\"blue\",\"blue\",\"blue\",\"blue\",\"blue\",\"blue\",\"blue\",\"blue\",\"blue\",\"blue\",\"blue\",\"blue\",\"blue\",\"blue\",\"blue\",\"blue\",\"blue\",\"blue\",\"blue\",\"blue\",\"blue\",\"blue\",\"blue\",\"blue\",\"blue\",\"blue\",\"blue\",\"blue\",\"blue\",\"blue\",\"blue\",\"blue\",\"blue\",\"blue\",\"blue\",\"blue\",\"blue\",\"blue\",\"blue\",\"blue\",\"blue\",\"blue\",\"blue\",\"blue\",\"blue\",\"blue\",\"blue\",\"blue\",\"blue\",\"blue\",\"blue\",\"blue\",\"blue\",\"blue\",\"blue\",\"blue\",\"blue\",\"blue\",\"blue\",\"blue\",\"blue\",\"blue\",\"blue\",\"blue\",\"blue\",\"blue\",\"blue\",\"blue\",\"blue\",\"blue\",\"blue\",\"blue\",\"blue\",\"blue\",\"blue\",\"blue\",\"blue\",\"blue\",\"blue\",\"blue\",\"blue\",\"blue\",\"blue\",\"blue\",\"blue\",\"blue\",\"blue\",\"blue\",\"blue\",\"blue\",\"blue\",\"blue\",\"blue\",\"blue\",\"blue\",\"blue\",\"blue\",\"blue\",\"blue\",\"blue\",\"blue\",\"blue\",\"blue\",\"blue\",\"blue\",\"blue\",\"blue\",\"blue\",\"blue\",\"blue\",\"blue\",\"blue\",\"blue\",\"blue\",\"blue\",\"blue\",\"blue\",\"blue\",\"blue\",\"blue\",\"blue\",\"blue\",\"blue\",\"blue\",\"blue\",\"blue\",\"blue\",\"blue\",\"blue\",\"blue\",\"blue\",\"blue\",\"blue\",\"blue\",\"blue\",\"blue\",\"blue\",\"blue\",\"blue\",\"blue\",\"blue\",\"blue\",\"blue\",\"blue\",\"blue\",\"blue\",\"blue\",\"blue\",\"blue\",\"blue\",\"blue\",\"blue\",\"blue\",\"blue\",\"blue\",\"blue\",\"blue\",\"blue\",\"blue\",\"blue\",\"blue\",\"blue\",\"blue\",\"blue\",\"blue\",\"blue\",\"blue\",\"blue\",\"blue\",\"blue\",\"blue\",\"blue\",\"blue\",\"blue\",\"blue\",\"blue\",\"blue\",\"blue\",\"blue\",\"blue\",\"blue\",\"blue\",\"blue\",\"blue\",\"blue\",\"blue\",\"blue\",\"blue\",\"blue\",\"blue\",\"blue\",\"blue\",\"blue\",\"blue\",\"blue\",\"blue\",\"blue\",\"blue\",\"blue\",\"blue\",\"blue\",\"blue\",\"blue\",\"blue\",\"blue\",\"blue\",\"blue\",\"blue\",\"blue\",\"blue\",\"blue\",\"blue\",\"blue\",\"blue\",\"blue\",\"blue\",\"blue\",\"blue\",\"blue\",\"blue\",\"blue\",\"blue\",\"blue\",\"blue\",\"blue\",\"blue\",\"blue\",\"blue\",\"blue\",\"blue\",\"blue\",\"blue\",\"blue\",\"blue\",\"blue\",\"blue\",\"blue\",\"blue\",\"blue\",\"blue\",\"blue\",\"blue\",\"blue\",\"blue\",\"blue\",\"blue\",\"blue\",\"blue\",\"blue\",\"blue\",\"blue\",\"blue\",\"blue\",\"blue\",\"blue\",\"blue\",\"blue\",\"blue\",\"blue\",\"blue\",\"blue\",\"blue\",\"blue\",\"blue\",\"blue\",\"blue\",\"blue\",\"blue\",\"blue\",\"blue\",\"blue\",\"blue\",\"blue\",\"blue\",\"blue\",\"blue\",\"blue\",\"blue\",\"blue\",\"blue\",\"blue\",\"blue\",\"blue\",\"blue\",\"blue\",\"blue\",\"blue\",\"blue\",\"blue\",\"blue\",\"blue\",\"blue\",\"blue\",\"blue\",\"blue\",\"blue\",\"blue\",\"blue\",\"blue\",\"blue\",\"blue\",\"blue\",\"blue\",\"blue\",\"blue\",\"blue\",\"blue\",\"blue\",\"blue\",\"blue\",\"blue\",\"blue\",\"blue\",\"blue\",\"blue\",\"blue\",\"blue\",\"blue\",\"blue\",\"blue\",\"blue\",\"blue\",\"blue\",\"blue\",\"blue\",\"blue\",\"blue\",\"blue\",\"blue\",\"blue\",\"blue\",\"blue\",\"blue\",\"blue\",\"blue\",\"blue\",\"blue\",\"blue\",\"blue\",\"blue\",\"blue\",\"blue\",\"blue\",\"blue\",\"blue\",\"blue\",\"blue\",\"blue\",\"blue\",\"blue\",\"blue\",\"blue\",\"blue\",\"blue\",\"blue\",\"blue\",\"blue\",\"blue\",\"blue\",\"blue\",\"blue\",\"blue\",\"blue\",\"blue\",\"blue\",\"blue\",\"blue\",\"blue\",\"blue\",\"blue\",\"blue\",\"blue\",\"blue\",\"blue\",\"blue\",\"blue\",\"blue\",\"blue\",\"blue\",\"blue\",\"blue\",\"blue\",\"blue\",\"blue\",\"blue\",\"blue\",\"blue\",\"blue\",\"blue\",\"blue\",\"blue\",\"blue\",\"blue\",\"blue\",\"blue\",\"blue\",\"blue\",\"blue\",\"blue\",\"blue\",\"blue\",\"blue\",\"blue\",\"blue\",\"blue\",\"blue\",\"blue\",\"blue\",\"blue\",\"blue\",\"blue\",\"blue\",\"blue\",\"blue\",\"blue\",\"blue\",\"blue\",\"blue\",\"blue\",\"blue\",\"blue\",\"blue\",\"blue\",\"blue\",\"blue\",\"blue\",\"blue\",\"blue\",\"blue\",\"blue\",\"blue\",\"blue\",\"blue\",\"blue\",\"blue\",\"blue\",\"blue\",\"blue\",\"blue\",\"blue\",\"blue\",\"blue\",\"blue\",\"blue\",\"blue\",\"blue\",\"blue\",\"blue\",\"blue\",\"blue\",\"blue\",\"blue\",\"blue\",\"blue\",\"blue\",\"blue\",\"blue\",\"blue\",\"blue\",\"blue\",\"blue\",\"blue\",\"blue\",\"blue\",\"blue\",\"blue\",\"blue\",\"blue\",\"blue\",\"blue\",\"blue\",\"blue\",\"blue\",\"blue\",\"blue\",\"blue\",\"blue\",\"blue\",\"blue\",\"blue\",\"blue\",\"blue\",\"blue\",\"blue\",\"blue\",\"blue\",\"blue\",\"blue\",\"blue\",\"blue\",\"blue\",\"blue\",\"blue\",\"blue\",\"blue\",\"blue\",\"blue\",\"blue\",\"blue\",\"blue\",\"blue\",\"blue\",\"blue\",\"blue\",\"blue\",\"blue\",\"blue\",\"blue\",\"blue\",\"blue\",\"blue\",\"blue\",\"blue\",\"blue\",\"blue\",\"blue\",\"blue\",\"blue\",\"blue\",\"blue\",\"blue\",\"blue\",\"blue\",\"blue\",\"blue\",\"blue\",\"blue\",\"blue\",\"blue\",\"blue\",\"blue\",\"blue\",\"blue\",\"blue\",\"blue\",\"blue\",\"blue\",\"blue\",\"blue\",\"blue\",\"blue\",\"blue\",\"blue\",\"blue\",\"blue\",\"blue\",\"blue\",\"blue\",\"blue\",\"blue\",\"blue\",\"blue\",\"blue\",\"blue\",\"blue\",\"blue\",\"blue\",\"blue\",\"blue\",\"blue\",\"blue\",\"blue\",\"blue\",\"blue\",\"blue\",\"blue\",\"blue\",\"blue\",\"blue\",\"blue\",\"blue\",\"blue\",\"blue\",\"blue\",\"blue\",\"blue\",\"blue\",\"blue\",\"blue\",\"blue\",\"blue\",\"blue\",\"blue\",\"blue\",\"blue\",\"blue\",\"blue\",\"blue\",\"blue\",\"blue\",\"blue\",\"blue\",\"blue\",\"blue\",\"blue\",\"blue\",\"blue\",\"blue\",\"blue\",\"blue\",\"blue\",\"blue\",\"blue\",\"blue\",\"blue\",\"blue\",\"blue\",\"blue\",\"blue\",\"blue\",\"blue\",\"blue\",\"blue\",\"blue\",\"blue\",\"blue\",\"blue\",\"blue\",\"blue\",\"blue\",\"blue\",\"blue\",\"blue\",\"blue\",\"blue\",\"blue\",\"blue\",\"blue\",\"blue\",\"blue\",\"blue\",\"blue\",\"blue\",\"blue\",\"blue\",\"blue\",\"blue\",\"blue\",\"blue\",\"blue\",\"blue\",\"blue\",\"blue\",\"blue\",\"blue\",\"blue\",\"blue\",\"blue\",\"blue\",\"blue\",\"blue\",\"blue\",\"blue\",\"blue\",\"blue\",\"blue\",\"blue\",\"blue\",\"blue\",\"blue\",\"blue\",\"blue\",\"blue\",\"blue\",\"blue\",\"blue\",\"blue\",\"blue\",\"blue\",\"blue\",\"blue\",\"blue\",\"blue\",\"blue\",\"blue\",\"blue\",\"blue\",\"blue\",\"blue\",\"blue\",\"blue\",\"blue\",\"blue\",\"blue\",\"blue\",\"blue\",\"blue\",\"blue\",\"blue\",\"blue\",\"blue\",\"blue\",\"blue\",\"blue\",\"blue\",\"blue\",\"blue\",\"blue\",\"blue\",\"blue\",\"blue\",\"blue\",\"blue\",\"blue\",\"blue\",\"blue\",\"blue\",\"blue\",\"blue\",\"blue\",\"blue\",\"blue\",\"blue\",\"blue\",\"blue\",\"blue\",\"blue\",\"blue\",\"blue\",\"blue\",\"blue\",\"blue\",\"blue\",\"blue\",\"blue\",\"blue\",\"blue\",\"blue\",\"blue\",\"blue\",\"blue\",\"blue\",\"blue\",\"blue\",\"blue\",\"blue\",\"blue\",\"blue\",\"blue\",\"blue\",\"blue\",\"blue\",\"blue\",\"blue\",\"blue\",\"blue\",\"blue\",\"blue\",\"blue\",\"blue\",\"blue\",\"blue\",\"blue\",\"blue\",\"blue\",\"blue\",\"blue\",\"blue\",\"blue\",\"blue\",\"blue\",\"blue\",\"blue\",\"blue\",\"blue\",\"blue\",\"blue\",\"blue\",\"blue\",\"blue\",\"blue\",\"blue\",\"blue\",\"blue\",\"blue\",\"blue\",\"blue\",\"blue\",\"blue\",\"blue\",\"blue\",\"blue\",\"blue\",\"blue\",\"blue\",\"blue\",\"blue\",\"blue\",\"blue\",\"blue\",\"blue\",\"blue\",\"blue\",\"blue\",\"blue\",\"blue\",\"blue\",\"blue\",\"blue\",\"blue\",\"blue\",\"blue\",\"blue\",\"blue\",\"blue\",\"blue\",\"blue\",\"blue\",\"blue\",\"blue\",\"blue\",\"blue\",\"blue\",\"blue\",\"blue\",\"blue\",\"blue\",\"blue\",\"blue\",\"blue\",\"blue\",\"blue\",\"blue\",\"blue\",\"blue\",\"blue\",\"blue\",\"blue\",\"blue\",\"blue\",\"blue\",\"blue\",\"blue\",\"blue\",\"blue\",\"blue\",\"blue\",\"blue\",\"blue\",\"blue\",\"blue\",\"blue\",\"blue\",\"blue\",\"blue\",\"blue\",\"blue\",\"blue\",\"blue\",\"blue\",\"blue\",\"blue\",\"blue\",\"blue\",\"blue\",\"blue\",\"blue\",\"blue\",\"blue\",\"blue\",\"blue\",\"blue\",\"blue\",\"blue\",\"blue\",\"blue\",\"blue\",\"blue\",\"blue\",\"blue\",\"blue\",\"blue\",\"blue\",\"blue\",\"blue\",\"blue\",\"blue\",\"blue\",\"blue\",\"blue\",\"blue\",\"blue\",\"blue\",\"blue\",\"blue\",\"blue\",\"blue\",\"blue\",\"blue\",\"blue\",\"blue\",\"blue\",\"blue\",\"blue\",\"blue\",\"blue\",\"blue\",\"blue\",\"blue\",\"blue\",\"blue\",\"blue\",\"blue\",\"blue\",\"blue\",\"blue\",\"blue\",\"blue\",\"blue\",\"blue\",\"blue\",\"blue\",\"blue\",\"blue\",\"blue\",\"blue\",\"blue\",\"blue\",\"blue\",\"blue\",\"blue\",\"blue\",\"blue\",\"blue\",\"blue\",\"blue\",\"blue\",\"blue\",\"blue\",\"blue\",\"blue\",\"blue\",\"blue\",\"blue\",\"blue\",\"blue\",\"blue\",\"blue\",\"blue\",\"blue\",\"blue\",\"blue\",\"blue\",\"blue\",\"blue\",\"blue\",\"blue\",\"blue\",\"blue\",\"blue\",\"blue\",\"blue\",\"blue\",\"blue\",\"blue\",\"blue\",\"blue\",\"blue\",\"blue\",\"blue\",\"blue\",\"blue\",\"blue\",\"blue\",\"blue\",\"blue\",\"blue\",\"blue\",\"blue\",\"blue\",\"blue\",\"blue\",\"blue\",\"blue\",\"blue\",\"blue\",\"blue\",\"blue\",\"blue\",\"blue\",\"blue\",\"blue\",\"blue\",\"blue\",\"blue\",\"blue\",\"blue\",\"blue\",\"blue\",\"blue\",\"blue\",\"blue\",\"blue\",\"blue\",\"blue\",\"blue\",\"blue\",\"blue\",\"blue\",\"blue\",\"blue\",\"blue\",\"blue\",\"blue\",\"blue\",\"blue\",\"blue\",\"blue\",\"blue\",\"blue\",\"blue\",\"blue\",\"blue\",\"blue\",\"blue\",\"blue\",\"blue\",\"blue\",\"blue\",\"blue\",\"blue\",\"blue\",\"blue\",\"blue\",\"blue\",\"blue\",\"blue\",\"blue\",\"blue\",\"blue\",\"blue\",\"blue\",\"blue\",\"blue\",\"blue\",\"blue\",\"blue\",\"blue\",\"blue\",\"blue\",\"blue\",\"blue\",\"blue\",\"blue\",\"blue\",\"blue\",\"blue\",\"blue\",\"blue\",\"blue\",\"blue\",\"blue\",\"blue\",\"blue\",\"blue\",\"blue\",\"blue\",\"blue\",\"blue\",\"blue\",\"blue\",\"blue\",\"blue\",\"blue\",\"blue\",\"blue\",\"blue\",\"blue\",\"blue\",\"blue\",\"blue\",\"blue\",\"blue\",\"blue\",\"blue\",\"blue\",\"blue\",\"blue\",\"blue\",\"blue\",\"blue\",\"blue\",\"blue\",\"blue\",\"blue\",\"blue\",\"blue\",\"blue\",\"blue\",\"blue\",\"blue\",\"blue\",\"blue\",\"blue\",\"blue\",\"blue\",\"blue\",\"blue\",\"blue\",\"blue\",\"blue\",\"blue\",\"blue\",\"blue\",\"blue\",\"blue\",\"blue\",\"blue\",\"blue\",\"blue\",\"blue\",\"blue\",\"blue\",\"blue\",\"blue\",\"blue\",\"blue\",\"blue\",\"blue\",\"blue\",\"blue\",\"blue\",\"blue\",\"blue\",\"blue\",\"blue\",\"blue\",\"blue\",\"blue\",\"blue\",\"blue\",\"blue\",\"blue\",\"blue\",\"blue\",\"blue\",\"blue\",\"blue\",\"blue\",\"blue\",\"blue\",\"blue\",\"blue\",\"blue\",\"blue\",\"blue\",\"blue\",\"blue\",\"blue\",\"blue\",\"blue\",\"blue\",\"blue\",\"blue\",\"blue\",\"blue\",\"blue\",\"blue\",\"blue\",\"blue\",\"blue\",\"blue\",\"blue\",\"blue\",\"blue\",\"blue\",\"blue\",\"blue\",\"blue\",\"blue\",\"blue\",\"blue\",\"blue\",\"blue\",\"blue\",\"blue\",\"blue\",\"blue\",\"blue\",\"blue\",\"blue\",\"blue\",\"blue\",\"blue\",\"blue\",\"blue\",\"blue\",\"blue\",\"blue\",\"blue\",\"blue\",\"blue\",\"blue\",\"blue\",\"blue\",\"blue\",\"blue\",\"blue\",\"blue\",\"blue\",\"blue\",\"blue\",\"blue\",\"blue\",\"blue\",\"blue\",\"blue\",\"blue\",\"blue\",\"blue\",\"blue\",\"blue\",\"blue\",\"blue\",\"blue\",\"blue\",\"blue\",\"blue\",\"blue\",\"blue\",\"blue\",\"blue\",\"blue\",\"blue\",\"blue\",\"blue\",\"blue\",\"blue\",\"blue\",\"blue\",\"blue\",\"blue\",\"blue\",\"blue\",\"blue\",\"blue\",\"blue\",\"blue\",\"blue\",\"blue\",\"blue\",\"blue\",\"blue\",\"blue\",\"blue\",\"blue\",\"blue\",\"blue\",\"blue\",\"blue\",\"blue\",\"blue\",\"blue\",\"blue\",\"blue\",\"blue\",\"blue\",\"blue\",\"blue\",\"blue\",\"blue\",\"blue\",\"blue\",\"blue\",\"blue\",\"blue\",\"blue\",\"blue\",\"blue\",\"blue\",\"blue\",\"blue\",\"blue\",\"blue\",\"blue\",\"blue\",\"blue\",\"blue\",\"blue\",\"blue\",\"blue\",\"blue\",\"blue\",\"blue\",\"blue\",\"blue\",\"blue\",\"blue\",\"blue\",\"blue\",\"blue\",\"blue\",\"blue\",\"blue\",\"blue\",\"blue\",\"blue\",\"blue\",\"blue\",\"blue\",\"blue\",\"blue\",\"blue\",\"blue\",\"blue\",\"blue\",\"blue\",\"blue\",\"blue\",\"blue\",\"blue\",\"blue\",\"blue\",\"blue\",\"blue\",\"blue\",\"blue\",\"blue\",\"blue\",\"blue\",\"blue\",\"blue\",\"blue\",\"blue\",\"blue\",\"blue\",\"blue\",\"blue\",\"blue\",\"blue\",\"blue\",\"blue\",\"blue\",\"blue\",\"blue\",\"blue\",\"blue\",\"blue\",\"blue\",\"blue\",\"blue\",\"blue\",\"blue\",\"blue\",\"blue\",\"blue\",\"blue\",\"blue\",\"blue\",\"blue\",\"blue\",\"blue\",\"blue\",\"blue\",\"blue\",\"blue\",\"blue\",\"blue\",\"blue\",\"blue\",\"blue\",\"blue\",\"blue\",\"blue\",\"blue\",\"blue\",\"blue\",\"blue\",\"blue\",\"blue\",\"blue\",\"blue\",\"blue\",\"blue\",\"blue\",\"blue\",\"blue\",\"blue\",\"blue\",\"blue\",\"blue\",\"blue\",\"blue\",\"blue\",\"blue\",\"blue\",\"blue\",\"blue\",\"blue\",\"blue\",\"blue\",\"blue\",\"blue\",\"blue\",\"blue\",\"blue\",\"blue\",\"blue\",\"blue\",\"blue\",\"blue\",\"blue\",\"blue\",\"blue\",\"blue\",\"blue\",\"blue\",\"blue\",\"blue\",\"blue\",\"blue\",\"blue\",\"blue\",\"blue\",\"blue\",\"blue\",\"blue\",\"blue\",\"blue\",\"blue\",\"blue\",\"blue\",\"blue\",\"blue\",\"blue\",\"blue\",\"blue\",\"blue\",\"blue\",\"blue\",\"blue\",\"blue\",\"blue\",\"blue\",\"blue\",\"blue\",\"blue\",\"blue\",\"blue\",\"blue\",\"blue\",\"blue\",\"blue\",\"blue\",\"blue\",\"blue\",\"blue\",\"blue\",\"blue\",\"blue\",\"blue\",\"blue\",\"blue\",\"blue\",\"blue\",\"blue\",\"blue\",\"blue\",\"blue\",\"blue\",\"blue\",\"blue\",\"blue\",\"blue\",\"blue\",\"blue\",\"blue\",\"blue\",\"blue\",\"blue\",\"blue\",\"blue\",\"blue\",\"blue\",\"blue\",\"blue\",\"blue\",\"blue\",\"blue\",\"blue\",\"blue\",\"blue\",\"blue\",\"blue\",\"blue\",\"blue\",\"blue\",\"blue\",\"blue\",\"blue\",\"blue\",\"blue\",\"blue\",\"blue\",\"blue\",\"blue\",\"blue\",\"blue\",\"blue\",\"blue\",\"blue\",\"blue\",\"blue\",\"blue\",\"blue\",\"blue\",\"blue\",\"blue\",\"blue\",\"blue\",\"blue\",\"blue\",\"blue\",\"blue\",\"blue\",\"blue\",\"blue\",\"blue\",\"blue\",\"blue\",\"blue\",\"blue\",\"blue\",\"blue\",\"blue\",\"blue\",\"blue\",\"blue\",\"blue\",\"blue\",\"blue\",\"blue\",\"blue\",\"blue\",\"blue\",\"blue\",\"blue\",\"blue\",\"blue\",\"blue\",\"blue\",\"blue\",\"blue\",\"blue\",\"blue\",\"blue\",\"blue\",\"blue\",\"blue\",\"blue\",\"blue\",\"blue\",\"blue\",\"blue\",\"blue\",\"blue\",\"blue\",\"blue\",\"blue\",\"blue\",\"blue\",\"blue\",\"blue\",\"blue\",\"blue\",\"blue\",\"blue\",\"blue\",\"blue\",\"blue\",\"blue\",\"blue\",\"blue\",\"blue\",\"blue\",\"blue\",\"blue\",\"blue\",\"blue\",\"blue\",\"blue\",\"blue\",\"blue\",\"blue\",\"blue\",\"blue\",\"blue\",\"blue\",\"blue\",\"blue\",\"blue\",\"blue\",\"blue\",\"blue\",\"blue\",\"blue\",\"blue\",\"blue\",\"blue\",\"blue\",\"blue\",\"blue\",\"blue\",\"blue\",\"blue\",\"blue\",\"blue\",\"blue\",\"blue\",\"blue\",\"blue\",\"blue\",\"blue\",\"blue\",\"blue\",\"blue\",\"blue\",\"blue\",\"blue\",\"blue\",\"blue\",\"blue\",\"blue\",\"blue\",\"blue\",\"blue\",\"blue\",\"blue\",\"blue\",\"blue\",\"blue\",\"blue\",\"blue\",\"blue\",\"blue\",\"blue\",\"blue\",\"blue\",\"blue\",\"blue\",\"blue\",\"blue\",\"blue\",\"blue\",\"blue\",\"blue\",\"blue\",\"blue\",\"blue\",\"blue\",\"blue\",\"blue\",\"blue\",\"blue\",\"blue\",\"blue\",\"blue\",\"blue\",\"blue\",\"blue\",\"blue\",\"blue\",\"blue\",\"blue\",\"blue\",\"blue\",\"blue\",\"blue\",\"blue\",\"blue\",\"blue\",\"blue\",\"blue\",\"blue\",\"blue\",\"blue\",\"blue\",\"blue\",\"blue\",\"blue\",\"blue\",\"blue\",\"blue\",\"blue\",\"blue\",\"blue\",\"blue\",\"blue\",\"blue\",\"blue\",\"blue\",\"blue\",\"blue\",\"blue\",\"blue\",\"blue\",\"blue\",\"blue\",\"blue\",\"blue\",\"blue\",\"blue\",\"blue\",\"blue\",\"blue\",\"blue\",\"blue\",\"blue\",\"blue\",\"blue\",\"blue\",\"blue\",\"blue\",\"blue\",\"blue\",\"blue\",\"blue\",\"blue\",\"blue\",\"blue\",\"blue\",\"blue\",\"blue\",\"blue\",\"blue\",\"blue\",\"blue\",\"blue\",\"blue\",\"blue\",\"blue\",\"blue\",\"blue\",\"blue\",\"blue\",\"blue\",\"blue\",\"blue\",\"blue\",\"blue\",\"blue\",\"blue\",\"blue\",\"blue\",\"blue\",\"blue\",\"blue\",\"blue\",\"blue\",\"blue\",\"blue\",\"blue\",\"blue\",\"blue\",\"blue\",\"blue\",\"blue\",\"blue\",\"blue\",\"blue\",\"blue\",\"blue\",\"blue\",\"blue\",\"blue\",\"blue\",\"blue\",\"blue\",\"blue\",\"blue\",\"blue\",\"blue\",\"blue\",\"blue\",\"blue\",\"blue\",\"blue\",\"blue\",\"blue\",\"blue\",\"blue\",\"blue\",\"blue\",\"blue\",\"blue\",\"blue\",\"blue\",\"blue\",\"blue\",\"blue\",\"blue\",\"blue\",\"blue\",\"blue\",\"blue\",\"blue\",\"blue\",\"blue\",\"blue\",\"blue\",\"blue\",\"blue\",\"blue\",\"blue\",\"blue\",\"blue\",\"blue\",\"blue\",\"blue\",\"blue\",\"blue\",\"blue\",\"blue\",\"blue\",\"blue\",\"blue\",\"blue\",\"blue\",\"blue\",\"blue\",\"blue\",\"blue\",\"blue\",\"blue\",\"blue\",\"blue\",\"blue\",\"blue\",\"blue\",\"blue\",\"blue\",\"blue\",\"blue\",\"blue\",\"blue\",\"blue\",\"blue\",\"blue\",\"blue\",\"blue\",\"blue\",\"blue\",\"blue\",\"blue\",\"blue\",\"blue\",\"blue\",\"blue\",\"blue\",\"blue\",\"blue\",\"blue\",\"blue\",\"blue\",\"blue\",\"blue\",\"blue\",\"blue\",\"blue\",\"blue\",\"blue\",\"blue\",\"blue\",\"blue\",\"blue\",\"blue\",\"blue\",\"blue\",\"blue\",\"blue\",\"blue\",\"blue\",\"blue\",\"blue\",\"blue\",\"blue\",\"blue\",\"blue\",\"blue\",\"blue\",\"blue\",\"blue\",\"blue\",\"blue\",\"blue\",\"blue\",\"blue\",\"blue\",\"blue\",\"blue\",\"blue\",\"blue\",\"blue\",\"blue\",\"blue\",\"blue\",\"blue\",\"blue\",\"blue\",\"blue\",\"blue\",\"blue\",\"blue\",\"blue\",\"blue\",\"blue\",\"blue\",\"blue\",\"blue\",\"blue\",\"blue\",\"blue\",\"blue\",\"blue\",\"blue\",\"blue\",\"blue\",\"blue\",\"blue\",\"blue\",\"blue\",\"blue\",\"blue\",\"blue\",\"blue\",\"blue\",\"blue\",\"blue\",\"blue\",\"blue\",\"blue\",\"blue\",\"blue\",\"blue\",\"blue\",\"blue\",\"blue\",\"blue\",\"blue\",\"blue\",\"blue\",\"blue\",\"blue\",\"blue\",\"blue\",\"blue\",\"blue\",\"blue\",\"blue\",\"blue\",\"blue\",\"blue\",\"blue\",\"blue\",\"blue\",\"blue\",\"blue\",\"blue\",\"blue\",\"blue\",\"blue\",\"blue\",\"blue\",\"blue\",\"blue\",\"blue\",\"blue\",\"blue\",\"blue\",\"blue\",\"blue\",\"blue\",\"blue\",\"blue\",\"blue\",\"blue\",\"blue\",\"blue\",\"blue\",\"blue\",\"blue\",\"blue\",\"blue\",\"blue\",\"blue\",\"blue\",\"blue\",\"blue\",\"blue\",\"blue\",\"blue\",\"blue\",\"blue\",\"blue\",\"blue\",\"blue\",\"blue\",\"blue\",\"blue\",\"blue\",\"blue\",\"blue\",\"blue\",\"blue\",\"blue\",\"blue\",\"blue\",\"blue\",\"blue\",\"blue\",\"blue\",\"blue\",\"blue\",\"blue\",\"blue\",\"blue\",\"blue\",\"blue\",\"blue\",\"blue\",\"blue\",\"blue\",\"blue\",\"blue\",\"blue\",\"blue\",\"blue\",\"blue\",\"blue\",\"blue\",\"blue\",\"blue\",\"blue\",\"blue\",\"blue\",\"blue\",\"blue\",\"blue\",\"blue\",\"blue\",\"blue\",\"blue\",\"blue\",\"blue\",\"blue\",\"blue\",\"blue\",\"blue\",\"blue\",\"blue\",\"blue\",\"blue\",\"blue\",\"blue\",\"blue\",\"blue\",\"blue\",\"blue\",\"blue\",\"blue\",\"blue\",\"blue\",\"blue\",\"blue\",\"blue\",\"blue\",\"blue\",\"blue\",\"blue\",\"blue\",\"blue\",\"blue\",\"blue\",\"blue\",\"blue\",\"blue\",\"blue\",\"blue\",\"blue\",\"blue\",\"blue\",\"blue\",\"blue\",\"blue\",\"blue\",\"blue\",\"blue\",\"blue\",\"blue\",\"blue\",\"blue\",\"blue\",\"blue\",\"blue\",\"blue\",\"blue\",\"blue\",\"blue\",\"blue\",\"blue\",\"blue\",\"blue\",\"blue\",\"blue\",\"blue\",\"blue\",\"blue\",\"blue\",\"blue\",\"blue\",\"blue\",\"blue\",\"blue\",\"blue\",\"blue\",\"blue\",\"blue\",\"blue\",\"blue\",\"blue\",\"blue\",\"blue\",\"blue\",\"blue\",\"blue\",\"blue\",\"blue\",\"blue\",\"blue\",\"blue\",\"blue\",\"blue\",\"blue\",\"blue\",\"blue\",\"blue\",\"blue\",\"blue\",\"blue\",\"blue\",\"blue\",\"blue\",\"blue\",\"blue\",\"blue\",\"blue\",\"blue\",\"blue\",\"blue\",\"blue\",\"blue\",\"blue\",\"blue\",\"blue\",\"blue\",\"blue\",\"blue\",\"blue\",\"blue\",\"blue\",\"blue\",\"blue\",\"blue\",\"blue\",\"blue\",\"blue\",\"blue\",\"blue\",\"blue\",\"blue\",\"blue\",\"blue\",\"blue\",\"blue\",\"blue\",\"blue\",\"blue\",\"blue\",\"blue\",\"blue\",\"blue\",\"blue\",\"blue\",\"blue\",\"blue\",\"blue\",\"blue\",\"blue\",\"blue\",\"blue\",\"blue\",\"blue\",\"blue\",\"blue\",\"blue\",\"blue\",\"blue\",\"blue\",\"blue\",\"blue\",\"blue\",\"blue\",\"blue\",\"blue\",\"blue\",\"blue\",\"blue\",\"blue\",\"blue\",\"blue\",\"blue\",\"blue\",\"blue\",\"blue\",\"blue\",\"blue\",\"blue\",\"blue\",\"blue\",\"blue\",\"blue\",\"blue\",\"blue\",\"blue\",\"blue\",\"blue\",\"blue\",\"blue\",\"blue\",\"blue\",\"blue\",\"blue\",\"blue\",\"blue\",\"blue\",\"blue\",\"blue\",\"blue\",\"blue\",\"blue\",\"blue\",\"blue\",\"blue\",\"blue\",\"blue\",\"blue\",\"blue\",\"blue\",\"blue\",\"blue\",\"blue\",\"blue\",\"blue\",\"blue\",\"blue\",\"blue\",\"blue\",\"blue\",\"blue\",\"blue\",\"blue\",\"blue\",\"blue\",\"blue\",\"blue\",\"blue\",\"blue\",\"blue\",\"blue\",\"blue\",\"blue\",\"blue\",\"blue\",\"blue\",\"blue\",\"blue\",\"blue\",\"blue\",\"blue\",\"blue\",\"blue\",\"blue\",\"blue\",\"blue\",\"blue\",\"blue\",\"blue\",\"blue\",\"blue\",\"blue\",\"blue\",\"blue\",\"blue\",\"blue\",\"blue\",\"blue\",\"blue\",\"blue\",\"blue\",\"blue\",\"blue\",\"blue\",\"blue\",\"blue\",\"blue\",\"blue\",\"blue\",\"blue\",\"blue\",\"blue\",\"blue\",\"blue\",\"blue\",\"blue\",\"blue\",\"blue\",\"blue\",\"blue\"]],[\"token\",[\"verified\",\"2gb\",\"illinois\",\"jazz\",\"checking\",\"telescope\",\"seasons\",\"astrologer\",\"contribution\",\"homemade\",\"heroes\",\"warcraft\",\"kumar\",\"tester\",\"politically\",\"conquer\",\"columbia\",\"quiet\",\"repeat\",\"kapil\",\"involve\",\"mckinsey\",\"switched\",\"att\",\"instance\",\"innocent\",\"portuguese\",\"subscribers\",\"cabinet\",\"terror\",\"85\",\"rotation\",\"shirts\",\"drawn\",\"bi\",\"aspergers\",\"inspiration\",\"beats\",\"\\u00a3\",\"approximately\",\"asset\",\"empathy\",\"rooting\",\"ia\",\"dandruff\",\"slab\",\"operator\",\"horrible\",\"dominant\",\"ocd\",\"spacetime\",\"blow\",\"installing\",\"learnt\",\"separation\",\"institution\",\"temples\",\"hons\",\"pound\",\"removing\",\"unemployment\",\"greenlit\",\"audit\",\"supplement\",\"roller\",\"dota\",\"tiny\",\"equally\",\"braces\",\"aggressive\",\"corn\",\"camps\",\"additional\",\"consent\",\"granted\",\"welfare\",\"myths\",\"stations\",\"timeline\",\"psychologist\",\"nagpur\",\"herself\",\"cooper\",\"exgirlfriend\",\"intercourse\",\"flip\",\"hurts\",\"lpa\",\"nerve\",\"tvs\",\"halloween\",\"screenshot\",\"biomedical\",\"covered\",\"milky\",\"onsite\",\"aside\",\"meaningful\",\"stretch\",\"joker\",\"encounter\",\"tone\",\"founders\",\"talked\",\"respectively\",\"downloads\",\"cocaine\",\"toxic\",\"sword\",\"fuck\",\"trainer\",\"partition\",\"boxing\",\"grid\",\"practicing\",\"menu\",\"cms\",\"indore\",\"ate\",\"volunteer\",\"misconceptions\",\"pics\",\"flies\",\"instantly\",\"trans\",\"friday\",\"sociopaths\",\"ctc\",\"hoax\",\"detailed\",\"sizes\",\"rejection\",\"limitations\",\"bharat\",\"kissing\",\"renewable\",\"oriented\",\"countrys\",\"dumps\",\"spiders\",\"technological\",\"advertisement\",\"headache\",\"zodiac\",\"accommodation\",\"venus\",\"calcium\",\"passenger\",\"falls\",\"overnight\",\"pickup\",\"gary\",\"transportation\",\"odds\",\"jupiter\",\"purchasing\",\"fluently\",\"flu\",\"photons\",\"conductor\",\"ohio\",\"balaji\",\"mcdonalds\",\"betting\",\"irrational\",\"sachin\",\"deactivate\",\"estimate\",\"hairs\",\"fluent\",\"errors\",\"remaining\",\"marriages\",\"medieval\",\"charles\",\"spider\",\"oxford\",\"gita\",\"races\",\"liquor\",\"poland\",\"lease\",\"co2\",\"selenium\",\"attempts\",\"crystal\",\"manaphy\",\"knight\",\"collapsed\",\"wheels\",\"behaviour\",\"bitcoins\",\"parliament\",\"himher\",\"handsome\",\"thousands\",\"caring\",\"kings\",\"lucky\",\"workplace\",\"condom\",\"intuitive\",\"chronic\",\"eyesight\",\"simulation\",\"prank\",\"quickest\",\"concert\",\"popularity\",\"connections\",\"disorders\",\"scripting\",\"appearance\",\"js\",\"depth\",\"cheque\",\"longterm\",\"documentaries\",\"dioxide\",\"bright\",\"info\",\"diseases\",\"appeal\",\"snap\",\"smoked\",\"singers\",\"boil\",\"probably\",\"temperatures\",\"appearing\",\"olive\",\"ntse\",\"telecom\",\"brief\",\"discrimination\",\"ethnic\",\"cache\",\"passionate\",\"shoulder\",\"assault\",\"marshmallow\",\"momentum\",\"yr\",\"migrate\",\"retire\",\"cet\",\"canvas\",\"vietnamese\",\"institutions\",\"meter\",\"roots\",\"integer\",\"imported\",\"ants\",\"lyft\",\"piercing\",\"il\",\"poop\",\"organisms\",\"ve\",\"entropy\",\"calm\",\"saddest\",\"toward\",\"myth\",\"sight\",\"filling\",\"hdmi\",\"satisfied\",\"transactions\",\"pharmacy\",\"nursing\",\"correlation\",\"regression\",\"awake\",\"md\",\"nri\",\"recommendations\",\"bin\",\"finland\",\"multi\",\"voted\",\"discovery\",\"edward\",\"touching\",\"immigrant\",\"geometry\",\"indicate\",\"ourselves\",\"texting\",\"seek\",\"expecting\",\"dj\",\"brake\",\"helicopter\",\"blonde\",\"triple\",\"ladies\",\"vivekananda\",\"switching\",\"prostitution\",\"banana\",\"magazines\",\"shippuden\",\"lucknow\",\"2019\",\"failing\",\"elizabeth\",\"irish\",\"ebook\",\"temporary\",\"governor\",\"wasting\",\"weekends\",\"cpt\",\"wax\",\"labor\",\"instruments\",\"instrumentation\",\"hates\",\"hip\",\"arnab\",\"bubble\",\"employers\",\"aadhaar\",\"boyfriends\",\"jake\",\"explained\",\"yesterday\",\"beta\",\"extrovert\",\"andhra\",\"micromax\",\"vertical\",\"lay\",\"nonprofit\",\"dubbed\",\"typing\",\"automotive\",\"thomas\",\"procedures\",\"priority\",\"funded\",\"arabs\",\"siblings\",\"guinea\",\"missile\",\"luck\",\"strategic\",\"defend\",\"module\",\"tuition\",\"acids\",\"controller\",\"committee\",\"housing\",\"integral\",\"peaceful\",\"refugees\",\"prescription\",\"interns\",\"supported\",\"womans\",\"dentist\",\"wives\",\"village\",\"affecting\",\"lte\",\"beaches\",\"austin\",\"substance\",\"engagement\",\"trainee\",\"measures\",\"trailer\",\"purchased\",\"15000\",\"uttar\",\"glue\",\"dtu\",\"medal\",\"photon\",\"engg\",\"violin\",\"column\",\"somehow\",\"rotate\",\"3000\",\"virat\",\"forgotten\",\"fingers\",\"slim\",\"arrest\",\"covalent\",\"ncert\",\"kernel\",\"da\",\"alarm\",\"ngo\",\"4gb\",\"productivity\",\"planned\",\"district\",\"berlin\",\"lists\",\"leads\",\"slang\",\"defence\",\"aspiring\",\"56\",\"enemy\",\"farming\",\"muller\",\"pays\",\"liver\",\"membrane\",\"secretly\",\"plug\",\"gum\",\"eclipse\",\"chewing\",\"labs\",\"zombie\",\"authority\",\"males\",\"argentina\",\"tasks\",\"fell\",\"nails\",\"palestine\",\"tanks\",\"identical\",\"deck\",\"qualification\",\"leadership\",\"kohli\",\"pronunciation\",\"hello\",\"violent\",\"sabha\",\"respiration\",\"transform\",\"warranty\",\"faculty\",\"adolf\",\"expenses\",\"jersey\",\"mercury\",\"whiskey\",\"tackle\",\"tweet\",\"blame\",\"cruise\",\"mahindra\",\"discharge\",\"reduced\",\"vodka\",\"mahatma\",\"bass\",\"compete\",\"stains\",\"pill\",\"swim\",\"ali\",\"gf\",\"ford\",\"prince\",\"sweat\",\"performing\",\"limits\",\"leonardo\",\"cow\",\"resolve\",\"matters\",\"pharmaceutical\",\"ray\",\"remotely\",\"pf\",\"clinical\",\"bpo\",\"homeless\",\"husbands\",\"rising\",\"newtons\",\"outcome\",\"derivative\",\"alpha\",\"grown\",\"capitalism\",\"astronaut\",\"hybrid\",\"palm\",\"teens\",\"hits\",\"airplanes\",\"none\",\"admin\",\"applicable\",\"amcat\",\"spam\",\"neutrality\",\"pixel\",\"festival\",\"faces\",\"molar\",\"snakes\",\"sip\",\"kik\",\"farm\",\"ltd\",\"votes\",\"publishing\",\"comfort\",\"frontend\",\"spin\",\"diagnosed\",\"buildings\",\"\\u00b0\",\"cashless\",\"addictive\",\"extinct\",\"ugc\",\"coke\",\"llb\",\"phrases\",\"struggle\",\"drives\",\"fiber\",\"grocery\",\"achieved\",\"penny\",\"bath\",\"allies\",\"uninstall\",\"ny\",\"appears\",\"effort\",\"satellites\",\"confirmed\",\"loneliness\",\"illuminati\",\"uri\",\"lucid\",\"preferably\",\"neither\",\"\\u221a\",\"pacific\",\"americas\",\"bs\",\"graduated\",\"bills\",\"tube\",\"germans\",\"assume\",\"cleared\",\"mate\",\"divide\",\"versions\",\"fallen\",\"journey\",\"anthem\",\"certificates\",\"looked\",\"sponsor\",\"useless\",\"dependent\",\"invite\",\"guru\",\"keyword\",\"aipmt\",\"clone\",\"kgs\",\"chip\",\"origins\",\"wide\",\"motivational\",\"elite\",\"wanna\",\"unity\",\"cough\",\"connecting\",\"mystery\",\"kim\",\"syrian\",\"voldemort\",\"responsibilities\",\"molecules\",\"boobs\",\"holidays\",\"tutorial\",\"circumstances\",\"fiitjee\",\"islands\",\"bypass\",\"slowly\",\"mixture\",\"aluminum\",\"salesforce\",\"twin\",\"iot\",\"remedy\",\"sheets\",\"pole\",\"hated\",\"females\",\"protected\",\"irs\",\"insecure\",\"entering\",\"neuroscience\",\"offices\",\"delta\",\"suggestion\",\"snapdeal\",\"backstory\",\"periodic\",\"cancelled\",\"mans\",\"complicated\",\"bitsat\",\"pleasure\",\"loop\",\"dropbox\",\"selfish\",\"nude\",\"20000\",\"voter\",\"variables\",\"victory\",\"closest\",\"compensation\",\"extended\",\"locations\",\"cracked\",\"perks\",\"ended\",\"exit\",\"awareness\",\"pakistanis\",\"ebooks\",\"bull\",\"unblock\",\"100000\",\"entrepreneurship\",\"infrastructure\",\"scotland\",\"guest\",\"attacked\",\"hurting\",\"lion\",\"reject\",\"purposes\",\"knife\",\"thai\",\"ipl\",\"knee\",\"accepting\",\"spent\",\"punjabi\",\"tab\",\"quoras\",\"caffeine\",\"athletes\",\"ink\",\"cooked\",\"improving\",\"invaded\",\"allah\",\"thermodynamics\",\"mortgage\",\"firsttime\",\"achievements\",\"issued\",\"breath\",\"award\",\"llc\",\"legends\",\"mood\",\"influenced\",\"proteins\",\"holy\",\"performed\",\"pee\",\"blocks\",\"molecule\",\"interests\",\"imei\",\"requires\",\"cisco\",\"moves\",\"marrying\",\"mca\",\"perfectly\",\"iisc\",\"corporation\",\"shiva\",\"viruses\",\"difficulty\",\"50000\",\"volte\",\"shampoo\",\"secular\",\"transplant\",\"ghz\",\"ahead\",\"crew\",\"interact\",\"depend\",\"hawaii\",\"hiv\",\"evening\",\"vegetable\",\"revenge\",\"suppose\",\"busy\",\"label\",\"rogue\",\"rational\",\"hillstation\",\"brains\",\"urdu\",\"imagine\",\"salaries\",\"survey\",\"g4\",\"butt\",\"manufacturers\",\"saas\",\"residency\",\"recommendation\",\"purple\",\"fault\",\"aadhar\",\"aging\",\"bhopal\",\"conducted\",\"loses\",\"infection\",\"forest\",\"impacts\",\"collection\",\"fridge\",\"diamond\",\"mis\",\"recorded\",\"march\",\"conditioner\",\"signature\",\"listed\",\"branches\",\"manchester\",\"wanting\",\"perception\",\"absolutely\",\"servers\",\"soluble\",\"swami\",\"lumia\",\"directors\",\"52\",\"2008\",\"gaining\",\"stereotypes\",\"homes\",\"vegas\",\"jam\",\"behave\",\"relatively\",\"forum\",\"ib\",\"earphones\",\"facilities\",\"april\",\"finally\",\"tail\",\"capacitor\",\"tiger\",\"deaf\",\"deliver\",\"django\",\"expand\",\"skip\",\"nearly\",\"maybe\",\"task\",\"gateway\",\"strangest\",\"abstract\",\"adding\",\"suck\",\"tim\",\"printed\",\"sigma\",\"immigrate\",\"decline\",\"arrested\",\"95\",\"narcissistic\",\"freelancing\",\"patterns\",\"expired\",\"casual\",\"tablets\",\"patients\",\"lean\",\"pieces\",\"laymans\",\"whatever\",\"polish\",\"lemon\",\"abortion\",\"i3\",\"theorem\",\"h\",\"compulsory\",\"helped\",\"sons\",\"feminism\",\"compiler\",\"tested\",\"enhance\",\"adhd\",\"manhattan\",\"iii\",\"nail\",\"eee\",\"deals\",\"excellent\",\"ipo\",\"folder\",\"sand\",\"continuous\",\"capable\",\"libraries\",\"aggregate\",\"64\",\"bsnl\",\"profiles\",\"spirit\",\"pulled\",\"owns\",\"deloitte\",\"therapist\",\"acts\",\"millions\",\"authors\",\"marathi\",\"dvd\",\"coconut\",\"swiss\",\"interaction\",\"ncr\",\"kannada\",\"smallest\",\"advisable\",\"smartest\",\"sorry\",\"normally\",\"ends\",\"rome\",\"spectrum\",\"cousin\",\"75\",\"suzuki\",\"nights\",\"cap\",\"enable\",\"counselling\",\"proxy\",\"margin\",\"shops\",\"hackers\",\"tatkal\",\"opened\",\"cinema\",\"consumption\",\"coal\",\"silent\",\"choosing\",\"introduction\",\"electromagnetic\",\"hcl\",\"complaint\",\"puppies\",\"vc\",\"symbols\",\"lenses\",\"username\",\"arrow\",\"adopted\",\"affects\",\"sudden\",\"pcm\",\"gel\",\"affair\",\"pinterest\",\"statements\",\"supplements\",\"justified\",\"turns\",\"santa\",\"shoe\",\"trek\",\"headphone\",\"girlfriends\",\"verizon\",\"rocket\",\"conference\",\"ego\",\"srm\",\"afghanistan\",\"nucleus\",\"generated\",\"chinas\",\"ww1\",\"consultancy\",\"socially\",\"allen\",\"berkeley\",\"missed\",\"crying\",\"introduced\",\"ps3\",\"flour\",\"brought\",\"elder\",\"minecraft\",\"9th\",\"freelancer\",\"circles\",\"scars\",\"entertainment\",\"turbine\",\"deeply\",\"rom\",\"evolved\",\"nato\",\"strengths\",\"ide\",\"tweets\",\"scholarships\",\"mentor\",\"collect\",\"hdfc\",\"mandarin\",\"solo\",\"terrible\",\"influential\",\"professionals\",\"65\",\"recognition\",\"nvidia\",\"cia\",\"designs\",\"10k\",\"creation\",\"tom\",\"rated\",\"introverts\",\"boiling\",\"communism\",\"treaty\",\"whereas\",\"thanks\",\"cigarette\",\"bengaluru\",\"oneplus\",\"reserve\",\"advertise\",\"nits\",\"helping\",\"bruce\",\"mp3\",\"severe\",\"proposal\",\"cultures\",\"tap\",\"animated\",\"planes\",\"hall\",\"cognitive\",\"supports\",\"keys\",\"gotten\",\"feedback\",\"recording\",\"proceed\",\"membership\",\"console\",\"overseas\",\"hows\",\"william\",\"billionaires\",\"updated\",\"pre\",\"organizations\",\"messi\",\"unexpected\",\"nitrogen\",\"hungry\",\"nigeria\",\"sync\",\"arduino\",\"gross\",\"outer\",\"searching\",\"workers\",\"outlook\",\"europeans\",\"founder\",\"lectures\",\"legitimate\",\"camp\",\"ordinary\",\"investments\",\"bone\",\"raising\",\"quite\",\"ages\",\"joint\",\"johnson\",\"destination\",\"concerned\",\"belief\",\"refrigerator\",\"implications\",\"manga\",\"mandatory\",\"obamas\",\"lawyers\",\"bedroom\",\"icon\",\"qualifications\",\"qa\",\"bikes\",\"boston\",\"holding\",\"session\",\"appointment\",\"weaknesses\",\"iphones\",\"motorcycle\",\"schizophrenia\",\"5th\",\"intellectual\",\"eaten\",\"attending\",\"medals\",\"adsense\",\"nda\",\"6th\",\"kali\",\"georgia\",\"wechat\",\"earlier\",\"drone\",\"truck\",\"horse\",\"merchant\",\"torque\",\"seed\",\"backend\",\"holmes\",\"graduating\",\"400\",\"bones\",\"sufficient\",\"participate\",\"rifle\",\"shock\",\"downloaded\",\"earthquake\",\"breasts\",\"secretary\",\"insert\",\"damaged\",\"massive\",\"standing\",\"remainder\",\"programme\",\"holocaust\",\"totally\",\"belt\",\"affairs\",\"nokia\",\"mechanism\",\"pin\",\"scan\",\"fought\",\"superpower\",\"poetry\",\"signals\",\"educated\",\"scariest\",\"trains\",\"closer\",\"weapon\",\"icici\",\"serial\",\"bicycle\",\"terminal\",\"finished\",\"stolen\",\"inspiring\",\"cuisine\",\"spark\",\"sounds\",\"pricing\",\"click\",\"underwear\",\"kidney\",\"bengal\",\"invention\",\"discount\",\"chase\",\"evaluate\",\"distributed\",\"themes\",\"amd\",\"stem\",\"st\",\"genre\",\"vegetables\",\"council\",\"bihar\",\"thick\",\"mouse\",\"worry\",\"newly\",\"updates\",\"candy\",\"prepaid\",\"wet\",\"rap\",\"motors\",\"implemented\",\"theoretical\",\"fabric\",\"mexican\",\"portfolio\",\"technique\",\"icse\",\"expansion\",\"evolutionary\",\"justify\",\"trick\",\"attached\",\"lightning\",\"pitch\",\"armed\",\"einstein\",\"conversion\",\"iitjee\",\"declared\",\"admit\",\"acquisition\",\"innovation\",\"runs\",\"wwe\",\"trial\",\"memories\",\"refuse\",\"netherlands\",\"committed\",\"fraud\",\"jailbreak\",\"settle\",\"badly\",\"approved\",\"eligibility\",\"trend\",\"increases\",\"comic\",\"quorans\",\"cellular\",\"matches\",\"receiving\",\"bmw\",\"vlsi\",\"signed\",\"lakes\",\"350\",\"communications\",\"pork\",\"joined\",\"anyway\",\"differentiate\",\"actresses\",\"29\",\"ethics\",\"premier\",\"hearing\",\"vehicles\",\"drama\",\"instant\",\"lips\",\"dates\",\"july\",\"holiday\",\"coach\",\"malayalam\",\"superior\",\"soviet\",\"plate\",\"throw\",\"worship\",\"bars\",\"sharma\",\"mothers\",\"integrated\",\"clubs\",\"bug\",\"melbourne\",\"co\",\"bisexual\",\"regions\",\"lesson\",\"heads\",\"reader\",\"snake\",\"qualify\",\"paul\",\"causing\",\"disappear\",\"era\",\"lets\",\"qualified\",\"spiritual\",\"wolf\",\"requirement\",\"journalism\",\"studied\",\"lowest\",\"vader\",\"coursera\",\"stark\",\"configuration\",\"verbal\",\"undergrad\",\"dimensions\",\"transition\",\"efficiently\",\"interstellar\",\"locked\",\"summary\",\"chandigarh\",\"ghosts\",\"included\",\"operate\",\"dimension\",\"mount\",\"noticed\",\"rating\",\"somewhere\",\"martin\",\"bra\",\"bird\",\"zuckerberg\",\"sensor\",\"audience\",\"dirty\",\"starbucks\",\"permission\",\"residential\",\"wholesale\",\"assets\",\"clearly\",\"km\",\"invade\",\"ipcc\",\"fb\",\"shell\",\"shave\",\"loud\",\"tip\",\"seeds\",\"sets\",\"polar\",\"although\",\"june\",\"judaism\",\"anti\",\"instrument\",\"seven\",\"shooting\",\"j\",\"portal\",\"tower\",\"github\",\"linked\",\"admitted\",\"punishment\",\"mid\",\"micro\",\"cured\",\"lifestyle\",\"nor\",\"upset\",\"challenge\",\"soap\",\"standards\",\"integration\",\"lottery\",\"lab\",\"williams\",\"odd\",\"soil\",\"sensitive\",\"route\",\"tattoos\",\"coin\",\"declare\",\"frame\",\"differential\",\"bowl\",\"softwares\",\"notifications\",\"maintenance\",\"inner\",\"apples\",\"converted\",\"recruiter\",\"bombay\",\"command\",\"posting\",\"controlled\",\"balls\",\"personally\",\"poker\",\"extract\",\"hired\",\"bugs\",\"providers\",\"loans\",\"calculator\",\"attractions\",\"torrents\",\"keywords\",\"profession\",\"blogging\",\"transport\",\"sue\",\"anonymously\",\"compounds\",\"robot\",\"buddhism\",\"sweet\",\"defense\",\"nobody\",\"uc\",\"defined\",\"division\",\"bags\",\"epic\",\"unhealthy\",\"craziest\",\"urban\",\"combination\",\"pair\",\"laugh\",\"cv\",\"usd\",\"launched\",\"usps\",\"visited\",\"nexus\",\"regularly\",\"brothers\",\"broker\",\"concentrate\",\"agreement\",\"nervous\",\"frozen\",\"detail\",\"sir\",\"situations\",\"borderline\",\"angularjs\",\"abusive\",\"tourism\",\"relate\",\"august\",\"communist\",\"accountant\",\"dumb\",\"arab\",\"b2b\",\"du\",\"thermal\",\"asians\",\"threat\",\"karma\",\"passive\",\"homosexuality\",\"putting\",\"quantitative\",\"relativity\",\"sanskrit\",\"opinions\",\"verify\",\"bear\",\"roll\",\"expanding\",\"teenage\",\"jeans\",\"providing\",\"shared\",\"extreme\",\"mi\",\"vr\",\"progress\",\"greece\",\"cpu\",\"ips\",\"merge\",\"reputation\",\"loving\",\"salman\",\"iss\",\"warm\",\"dental\",\"extension\",\"attraction\",\"fictional\",\"journal\",\"login\",\"secondary\",\"recognize\",\"southern\",\"ph\",\"lunch\",\"wallet\",\"ronaldo\",\"larger\",\"actions\",\"fathers\",\"adopt\",\"claims\",\"bottom\",\"therapy\",\"patient\",\"described\",\"virginity\",\"functional\",\"ionic\",\"chartered\",\"discover\",\"55\",\"21st\",\"biased\",\"mad\",\"northern\",\"onto\",\"liberals\",\"premium\",\"neutral\",\"detect\",\"diagram\",\"sperm\",\"ga\",\"bleach\",\"spread\",\"contributions\",\"activate\",\"prior\",\"safest\",\"holder\",\"360\",\"aim\",\"rental\",\"families\",\"everybody\",\"shut\",\"payments\",\"150\",\"cube\",\"vegan\",\"newspaper\",\"beef\",\"houses\",\"preferred\",\"simultaneously\",\"marked\",\"reactions\",\"emergency\",\"protection\",\"cab\",\"forex\",\"norway\",\"immigrants\",\"googles\",\"ssb\",\"wing\",\"yrs\",\"ensure\",\"spy\",\"reasoning\",\"strange\",\"forgive\",\"turkish\",\"tag\",\"ranking\",\"platforms\",\"fox\",\"existed\",\"walmart\",\"lazy\",\"ears\",\"clock\",\"beam\",\"rare\",\"bush\",\"2011\",\"stops\",\"batteries\",\"certified\",\"naked\",\"worldwide\",\"staying\",\"lifetime\",\"ted\",\"lake\",\"wealthy\",\"transit\",\"stephen\",\"rural\",\"versa\",\"pets\",\"commonly\",\"adults\",\"ultimate\",\"genius\",\"vinegar\",\"allows\",\"aid\",\"retirement\",\"airtel\",\"sciences\",\"mountain\",\"drinks\",\"tour\",\"wind\",\"seattle\",\"disabled\",\"bodies\",\"lesbian\",\"governments\",\"kinetic\",\"tumblr\",\"absolute\",\"author\",\"toilet\",\"whey\",\"sleepy\",\"molecular\",\"watches\",\"inventions\",\"rain\",\"34\",\"angular\",\"o\",\"dish\",\"however\",\"agents\",\"abs\",\"switzerland\",\"transformer\",\"clearing\",\"consciousness\",\"broadband\",\"uae\",\"automatic\",\"opposed\",\"geography\",\"astronauts\",\"decisions\",\"cement\",\"induction\",\"luxury\",\"upvotes\",\"politicians\",\"posted\",\"toefl\",\"kitchen\",\"noise\",\"radius\",\"dye\",\"miles\",\"risks\",\"scientifically\",\"mnc\",\"propose\",\"prepared\",\"iiit\",\"mention\",\"equipment\",\"darth\",\"january\",\"surname\",\"raised\",\"attitude\",\"gta\",\"david\",\"hike\",\"awkward\",\"proven\",\"productive\",\"lg\",\"filled\",\"atmosphere\",\"lee\",\"irctc\",\"addicted\",\"dynamic\",\"employment\",\"weekend\",\"replacement\",\"singing\",\"owners\",\"bipolar\",\"tomorrow\",\"poems\",\"default\",\"kvpy\",\"sauce\",\"competitors\",\"russians\",\"sample\",\"crimes\",\"hang\",\"inspired\",\"furniture\",\"throughout\",\"presence\",\"efficiency\",\"leg\",\"biological\",\"pilani\",\"conversations\",\"inspirational\",\"bachelor\",\"centers\",\"withdraw\",\"fundamental\",\"comparison\",\"november\",\"fifa\",\"penalty\",\"algebra\",\"joke\",\"htc\",\"pilots\",\"collapse\",\"texts\",\"vocabulary\",\"moved\",\"sc\",\"smile\",\"october\",\"dot\",\"genetic\",\"architect\",\"url\",\"51\",\"sore\",\"uniform\",\"re\",\"rails\",\"smaller\",\"marine\",\"terrorists\",\"nazi\",\"breast\",\"politician\",\"subtitles\",\"chosen\",\"egypt\",\"thin\",\"packages\",\"editor\",\"bands\",\"mythology\",\"reasonable\",\"permit\",\"acceptable\",\"seriously\",\"iraq\",\"fever\",\"visitor\",\"honest\",\"friction\",\"offering\",\"smarter\",\"ahmedabad\",\"replaced\",\"resolution\",\"burning\",\"bridge\",\"catholic\",\"calendar\",\"resident\",\"policies\",\"forced\",\"leading\",\"arm\",\"deserve\",\"context\",\"coolest\",\"arranged\",\"arizona\",\"comics\",\"harm\",\"democrats\",\"jail\",\"breed\",\"anywhere\",\"psu\",\"christ\",\"violence\",\"agriculture\",\"objective\",\"moments\",\"infinity\",\"supporting\",\"critical\",\"trees\",\"beyond\",\"bag\",\"vitamin\",\"assembly\",\"solved\",\"array\",\"perspective\",\"pas\",\"wwii\",\"skinny\",\"contains\",\"lift\",\"cleaning\",\"peter\",\"aap\",\"pimples\",\"initial\",\"lesserknown\",\"sights\",\"principles\",\"realize\",\"millionaire\",\"faux\",\"orbit\",\"desire\",\"hi\",\"prophet\",\"suits\",\"careers\",\"thinks\",\"quantity\",\"spots\",\"wage\",\"asleep\",\"sociology\",\"guard\",\"units\",\"structural\",\"operation\",\"pants\",\"w\",\"bulk\",\"possibly\",\"drunk\",\"fired\",\"accident\",\"inch\",\"bottle\",\"aerospace\",\"narcissist\",\"ux\",\"angeles\",\"wood\",\"index\",\"safely\",\"robotics\",\"edition\",\"metals\",\"practices\",\"scheme\",\"interior\",\"diabetes\",\"nobel\",\"youth\",\"lived\",\"september\",\"chief\",\"proposed\",\"assuming\",\"sin\",\"counter\",\"disable\",\"introduce\",\"restore\",\"swimming\",\"intern\",\"answering\",\"mentioned\",\"crash\",\"laser\",\"teenagers\",\"presentation\",\"quran\",\"classified\",\"demonetisation\",\"communicate\",\"cotton\",\"autism\",\"anger\",\"environmental\",\"stable\",\"7th\",\"bread\",\"invited\",\"wisdom\",\"wrote\",\"widely\",\"minor\",\"formal\",\"dreaming\",\"managers\",\"escape\",\"pollution\",\"taiwan\",\"verification\",\"los\",\"figures\",\"26\",\"illness\",\"sides\",\"compatible\",\"pack\",\"conspiracy\",\"hedge\",\"flights\",\"dropped\",\"former\",\"suffer\",\"aware\",\"designers\",\"mahabharata\",\"evolve\",\"weigh\",\"dies\",\"fruits\",\"cc\",\"butter\",\"sharing\",\"atoms\",\"tongue\",\"transaction\",\"poverty\",\"suffering\",\"presidents\",\"resistance\",\"adam\",\"civilization\",\"mining\",\"toronto\",\"stick\",\"increased\",\"wild\",\"freelance\",\"removal\",\"aws\",\"rio\",\"principle\",\"asus\",\"cute\",\"consumer\",\"pool\",\"variable\",\"tutorials\",\"advance\",\"keeping\",\"visible\",\"cognizant\",\"equations\",\"rooms\",\"krishna\",\"printer\",\"tooth\",\"mentally\",\"realistic\",\"automobile\",\"cake\",\"tie\",\"beach\",\"ghost\",\"comfortable\",\"mysql\",\"oral\",\"closed\",\"helps\",\"maharashtra\",\"admissions\",\"i5\",\"partners\",\"axis\",\"beliefs\",\"neck\",\"clans\",\"hidden\",\"cyber\",\"voting\",\"bacteria\",\"layer\",\"chhattisgarh\",\"5000\",\"sitting\",\"murder\",\"argument\",\"f\",\"privacy\",\"syndrome\",\"2010\",\"bite\",\"vacation\",\"isro\",\"trouble\",\"records\",\"answered\",\"digit\",\"defeat\",\"childhood\",\"5s\",\"gates\",\"f1\",\"town\",\"anal\",\"copper\",\"talks\",\"affiliate\",\"sociopath\",\"installed\",\"static\",\"copyright\",\"animation\",\"donate\",\"stranger\",\"bcom\",\"destroyed\",\"gujarat\",\"foundation\",\"prize\",\"components\",\"foreigner\",\"arms\",\"unlimited\",\"needing\",\"settings\",\"item\",\"eve\",\"competition\",\"landing\",\"beard\",\"patent\",\"ending\",\"2020\",\"incident\",\"petroleum\",\"florida\",\"particularly\",\"ups\",\"generator\",\"leather\",\"heal\",\"experiment\",\"28\",\"passing\",\"talent\",\"remote\",\"300\",\"published\",\"impossible\",\"steam\",\"80\",\"washing\",\"guilty\",\"punjab\",\"70\",\"album\",\"bullet\",\"paris\",\"interface\",\"agencies\",\"mission\",\"digits\",\"modis\",\"recruitment\",\"manipal\",\"telling\",\"meal\",\"orange\",\"stone\",\"links\",\"ab\",\"upper\",\"cameras\",\"p\",\"combat\",\"passion\",\"shower\",\"thailand\",\"beings\",\"grad\",\"27\",\"finger\",\"jump\",\"lights\",\"ui\",\"bba\",\"sweden\",\"arrive\",\"4th\",\"amendment\",\"window\",\"satellite\",\"al\",\"matlab\",\"jokes\",\"muhammad\",\"expression\",\"booking\",\"dinner\",\"skype\",\"lots\",\"2018\",\"teen\",\"finish\",\"dslr\",\"mens\",\"proud\",\"entrepreneurs\",\"ukraine\",\"coins\",\"scenario\",\"transmission\",\"ignore\",\"pride\",\"contribute\",\"grand\",\"curve\",\"false\",\"operations\",\"breakup\",\"eventually\",\"acquire\",\"commission\",\"lies\",\"spoken\",\"pills\",\"masturbating\",\"jackson\",\"airbnb\",\"delivered\",\"disk\",\"radiation\",\"plays\",\"marvel\",\"particle\",\"breakfast\",\"smartphones\",\"relevant\",\"quota\",\"refund\",\"inches\",\"telugu\",\"angel\",\"eastern\",\"inflation\",\"predict\",\"annoying\",\"obc\",\"tough\",\"conduct\",\"originate\",\"notification\",\"backup\",\"harder\",\"richest\",\"pronounce\",\"sri\",\"wheel\",\"wasnt\",\"oldest\",\"sheet\",\"soda\",\"20s\",\"wipro\",\"awesome\",\"facial\",\"z\",\"noida\",\"confident\",\"fbi\",\"corrupt\",\"succeed\",\"reddit\",\"associate\",\"input\",\"guns\",\"rahul\",\"baking\",\"description\",\"musical\",\"apache\",\"nowadays\",\"fluid\",\"capacity\",\"loose\",\"freshman\",\"cfa\",\"optional\",\"theres\",\"ps4\",\"trends\",\"jon\",\"richard\",\"legit\",\"nodejs\",\"document\",\"sexually\",\"particles\",\"singer\",\"printing\",\"captain\",\"valuable\",\"several\",\"aiims\",\"boot\",\"sit\",\"zone\",\"billionaire\",\"floor\",\"gravitational\",\"export\",\"motivation\",\"golden\",\"transgender\",\"healthcare\",\"heaven\",\"81\",\"leaves\",\"listening\",\"overall\",\"press\",\"dishes\",\"railways\",\"warming\",\"enfield\",\"extent\",\"acceleration\",\"afford\",\"bonds\",\"border\",\"registration\",\"cast\",\"hope\",\"shipping\",\"karnataka\",\"specifically\",\"opportunity\",\"arabia\",\"pump\",\"pg\",\"carrier\",\"plot\",\"kingdom\",\"contract\",\"painful\",\"kindle\",\"boring\",\"essential\",\"disney\",\"charger\",\"seconds\",\"measured\",\"honda\",\"ba\",\"makeup\",\"\\u2013\",\"mini\",\"annual\",\"traits\",\"retrieve\",\"willing\",\"swift\",\"consume\",\"hindus\",\"psychopath\",\"tells\",\"solving\",\"conditions\",\"artists\",\"spotify\",\"bomb\",\"integrate\",\"stuck\",\"nikon\",\"gadgets\",\"womens\",\"judge\",\"republicans\",\"vacuum\",\"felt\",\"putin\",\"tennis\",\"concentration\",\"fans\",\"constantly\",\"matrix\",\"secrets\",\"spot\",\"soft\",\"stored\",\"neural\",\"submit\",\"scores\",\"ola\",\"wire\",\"gdp\",\"jaipur\",\"typically\",\"airline\",\"roles\",\"cheaper\",\"machines\",\"shift\",\"impress\",\"basics\",\"32\",\"conservative\",\"birds\",\"tend\",\"duty\",\"setup\",\"rude\",\"pink\",\"church\",\"mine\",\"jack\",\"sending\",\"cooking\",\"versus\",\"expert\",\"olympic\",\"biotechnology\",\"gurgaon\",\"worked\",\"codes\",\"successfully\",\"hardware\",\"faith\",\"pr\",\"television\",\"compound\",\"vit\",\"universal\",\"thank\",\"grammatically\",\"chicago\",\"ivy\",\"worried\",\"enterprise\",\"sodium\",\"railway\",\"remedies\",\"racism\",\"tracking\",\"psychological\",\"apartment\",\"magazine\",\"martial\",\"beauty\",\"waiting\",\"attacks\",\"horror\",\"fantasy\",\"ma\",\"select\",\"increasing\",\"metro\",\"opt\",\"map\",\"watched\",\"gear\",\"icloud\",\"james\",\"comedy\",\"lollipop\",\"ireland\",\"upcoming\",\"italian\",\"oven\",\"emotionally\",\"decided\",\"lakh\",\"grey\",\"kept\",\"produced\",\"mouth\",\"manual\",\"dhoni\",\"fill\",\"throat\",\"shoot\",\"liked\",\"innovative\",\"immediately\",\"lonely\",\"fighting\",\"max\",\"accidentally\",\"schedule\",\"orgasm\",\"rape\",\"ride\",\"muscles\",\"graduates\",\"taller\",\"boost\",\"lakhs\",\"microwave\",\"electrons\",\"upon\",\"attract\",\"ap\",\"abuse\",\"earths\",\"forever\",\"underrated\",\"facing\",\"terrorist\",\"alien\",\"celebrity\",\"frequently\",\"vpn\",\"wales\",\"powder\",\"superman\",\"mixed\",\"caught\",\"goods\",\"beginning\",\"starts\",\"atomic\",\"associated\",\"triangle\",\"parties\",\"banning\",\"k\",\"honey\",\"monitor\",\"graph\",\"leaders\",\"embedded\",\"juice\",\"split\",\"lady\",\"sequence\",\"911\",\"harassment\",\"nepal\",\"pop\",\"habit\",\"setting\",\"edge\",\"ww2\",\"gps\",\"federal\",\"charged\",\"lying\",\"empty\",\"whenever\",\"airplane\",\"jet\",\"destroy\",\"ies\",\"wouldnt\",\"quick\",\"decrease\",\"robert\",\"pradesh\",\"professors\",\"massage\",\"held\",\"spending\",\"markets\",\"objects\",\"chart\",\"mechanics\",\"silver\",\"usage\",\"basketball\",\"gen\",\"periods\",\"identity\",\"individuals\",\"css\",\"soul\",\"ipod\",\"chest\",\"understanding\",\"coast\",\"classic\",\"spain\",\"babies\",\"sd\",\"hostel\",\"shirt\",\"further\",\"logical\",\"franchise\",\"obtain\",\"foreigners\",\"fully\",\"region\",\"designed\",\"cheated\",\"beneficial\",\"shes\",\"accent\",\"couldnt\",\"queen\",\"sick\",\"blowing\",\"properly\",\"stronger\",\"returns\",\"condition\",\"musk\",\"ugly\",\"teams\",\"filter\",\"snow\",\"glasses\",\"employer\",\"solid\",\"followed\",\"embarrassing\",\"auto\",\"meeting\",\"belong\",\"strike\",\"internships\",\"bachelors\",\"administration\",\"temple\",\"wealth\",\"retail\",\"speakers\",\"electoral\",\"headphones\",\"streaming\",\"mirror\",\"diesel\",\"republic\",\"antivirus\",\"customers\",\"atm\",\"vagina\",\"cigarettes\",\"aptitude\",\"lewis\",\"saudi\",\"puppy\",\"recovery\",\"jimmy\",\"obsessed\",\"domestic\",\"pen\",\"batch\",\"de\",\"drawing\",\"ai\",\"medium\",\"simply\",\"photoshop\",\"sms\",\"turning\",\"nadu\",\"appropriate\",\"adobe\",\"substitute\",\"fruit\",\"recipes\",\"fighter\",\"saving\",\"greater\",\"cheat\",\"routine\",\"push\",\"sherlock\",\"arguments\",\"sony\",\"import\",\"soldiers\",\"charges\",\"emotions\",\"ibm\",\"un\",\"innovations\",\"itunes\",\"consultant\",\"iims\",\"relations\",\"psychopaths\",\"existing\",\"angle\",\"clash\",\"bus\",\"australian\",\"crazy\",\"pull\",\"theories\",\"savings\",\"suit\",\"contrast\",\"calculus\",\"pi\",\"credits\",\"bluetooth\",\"himself\",\"traveling\",\"criminal\",\"xiaomi\",\"zealand\",\"seats\",\"electron\",\"script\",\"11th\",\"lessons\",\"programmers\",\"december\",\"flag\",\"singh\",\"arabic\",\"sale\",\"nfl\",\"grammar\",\"killing\",\"virgin\",\"differently\",\"poem\",\"provided\",\"automation\",\"shy\",\"translation\",\"mathematical\",\"45\",\"celebrities\",\"spring\",\"downloading\",\"dr\",\"organization\",\"majority\",\"clients\",\"hd\",\"motivate\",\"thats\",\"thesis\",\"door\",\"weakest\",\"saw\",\"canon\",\"younger\",\"costs\",\"river\",\"rings\",\"factory\",\"decent\",\"clintons\",\"holes\",\"desert\",\"divorce\",\"sold\",\"cheese\",\"atom\",\"taught\",\"minute\",\"ocean\",\"crisis\",\"represent\",\"surgical\",\"parent\",\"brexit\",\"possibility\",\"longest\",\"edit\",\"scholarship\",\"motivated\",\"chocolate\",\"faced\",\"90\",\"parallel\",\"foot\",\"examination\",\"friendly\",\"kinds\",\"wins\",\"islamic\",\"degrees\",\"registered\",\"distribution\",\"junior\",\"gave\",\"sing\",\"articles\",\"hadoop\",\"saved\",\"hero\",\"ear\",\"asks\",\"improved\",\"teenager\",\"forms\",\"wash\",\"provides\",\"washington\",\"strikes\",\"binary\",\"syria\",\"indonesia\",\"powers\",\"highly\",\"heshe\",\"happiness\",\"director\",\"citizenship\",\"knew\",\"humanity\",\"translate\",\"nba\",\"permanently\",\"soccer\",\"todays\",\"challenges\",\"barack\",\"title\",\"latin\",\"fitness\",\"genuine\",\"investor\",\"dislike\",\"scenes\",\"hacker\",\"bangladesh\",\"ebay\",\"earning\",\"dell\",\"paytm\",\"spouse\",\"bored\",\"roman\",\"official\",\"dragon\",\"park\",\"except\",\"habits\",\"quote\",\"astrology\",\"congress\",\"automatically\",\"island\",\"religions\",\"christianity\",\"supreme\",\"owner\",\"hell\",\"wikipedia\",\"cancel\",\"industries\",\"actress\",\"client\",\"visual\",\"michael\",\"remain\",\"ability\",\"concrete\",\"conflict\",\"string\",\"linear\",\"supposed\",\"engines\",\"2012\",\"\\u2018\",\"lesser\",\"traditional\",\"episodes\",\"goals\",\"tata\",\"opening\",\"target\",\"weak\",\"anonymous\",\"bjp\",\"resource\",\"concepts\",\"ruby\",\"friendship\",\"nyc\",\"pretty\",\"implement\",\"painting\",\"ill\",\"agency\",\"reverse\",\"confused\",\"italy\",\"response\",\"yellow\",\"dance\",\"contain\",\"vice\",\"editing\",\"acting\",\"weirdest\",\"feels\",\"govt\",\"accounting\",\"rise\",\"wise\",\"leaving\",\"lens\",\"artist\",\"arvind\",\"pattern\",\"scared\",\"attention\",\"airlines\",\"sky\",\"malaysia\",\"port\",\"attempt\",\"element\",\"classical\",\"shown\",\"safety\",\"including\",\"tablet\",\"la\",\"terrorism\",\"commit\",\"maps\",\"african\",\"viewed\",\"calling\",\"6s\",\"agent\",\"output\",\"justice\",\"don\",\"addiction\",\"lock\",\"vegetarian\",\"britain\",\"percent\",\"meditation\",\"ibps\",\"monthly\",\"writers\",\"forward\",\"stuff\",\"mr\",\"ready\",\"forgot\",\"flying\",\"recommended\",\"fields\",\"blind\",\"l\",\"hinduism\",\"desktop\",\"host\",\"tattoo\",\"maintain\",\"boards\",\"helpful\",\"semester\",\"load\",\"tier\",\"agree\",\"factor\",\"elon\",\"freshers\",\"sql\",\"cases\",\"exact\",\"confidence\",\"behavior\",\"hacked\",\"quotes\",\"hydrogen\",\"pakistani\",\"masturbate\",\"divided\",\"skill\",\"fine\",\"falling\",\"chess\",\"charging\",\"pages\",\"vector\",\"supporters\",\"waste\",\"sanders\",\"affordable\",\"unlock\",\"techniques\",\"wine\",\"keyboard\",\"cm\",\"wireless\",\"lawyer\",\"egg\",\"cope\",\"mindblowing\",\"recipe\",\"corruption\",\"scored\",\"secure\",\"teaching\",\"opposite\",\"educational\",\"bernie\",\"y\",\"library\",\"models\",\"kid\",\"stack\",\"separate\",\"19\",\"extremely\",\"properties\",\"cable\",\"magic\",\"removed\",\"computing\",\"hospital\",\"beer\",\"christians\",\"twice\",\"kg\",\"consulting\",\"whose\",\"serious\",\"petrol\",\"travelling\",\"revolution\",\"custom\",\"structures\",\"guide\",\"celebrate\",\"lenovo\",\"turned\",\"ielts\",\"grades\",\"fuel\",\"relative\",\"oracle\",\"academy\",\"lack\",\"passed\",\"relation\",\"values\",\"movement\",\"strategies\",\"eu\",\"emotional\",\"legs\",\"pokemon\",\"3g\",\"iran\",\"mostly\",\"jewish\",\"offered\",\"log\",\"hasnt\",\"explanation\",\"signal\",\"stores\",\"syllabus\",\"bits\",\"yoga\",\"weapons\",\"gods\",\"10000\",\"delivery\",\"gb\",\"sum\",\"letters\",\"venture\",\"selection\",\"winning\",\"35\",\"comment\",\"consequences\",\"sport\",\"items\",\"seems\",\"ring\",\"jealous\",\"laptops\",\"criteria\",\"fresh\",\"reference\",\"bitcoin\",\"infinite\",\"perform\",\"brazil\",\"density\",\"plans\",\"hosting\",\"clothing\",\"hong\",\"dying\",\"heavy\",\"steve\",\"gone\",\"damage\",\"missing\",\"ethical\",\"republican\",\"contacts\",\"activity\",\"electronic\",\"qualities\",\"piano\",\"hisher\",\"repair\",\"posts\",\"disease\",\"winter\",\"ten\",\"publish\",\"paint\",\"physically\",\"executive\",\"deposit\",\"elements\",\"xbox\",\"ceo\",\"visitors\",\"discovered\",\"tickets\",\"literature\",\"primary\",\"naturally\",\"senior\",\"u\",\"hardest\",\"debate\",\"frequency\",\"vietnam\",\"cry\",\"assistant\",\"gifts\",\"practical\",\"funny\",\"valid\",\"liberal\",\"refer\",\"beat\",\"shape\",\"institutes\",\"msc\",\"internal\",\"located\",\"significant\",\"scientists\",\"g\",\"ship\",\"proper\",\"independence\",\"added\",\"hes\",\"catch\",\"urine\",\"effectively\",\"named\",\"responsible\",\"strength\",\"whos\",\"immigration\",\"vehicle\",\"tesla\",\"kong\",\"meth\",\"england\",\"huge\",\"pizza\",\"rejected\",\"george\",\"fan\",\"salt\",\"browser\",\"sat\",\"loved\",\"fees\",\"walking\",\"symbol\",\"equity\",\"ubuntu\",\"alternatives\",\"theme\",\"virus\",\"manufacturing\",\"cutoff\",\"pure\",\"22\",\"introvert\",\"unable\",\"greek\",\"rice\",\"gst\",\"happening\",\"centre\",\"kiss\",\"prison\",\"bigger\",\"font\",\"construction\",\"exercises\",\"keeps\",\"gmat\",\"offers\",\"cross\",\"nasa\",\"unit\",\"advertising\",\"cup\",\"fixed\",\"limited\",\"billion\",\"subjects\",\"arts\",\"worlds\",\"stupid\",\"breaking\",\"funding\",\"tank\",\"generate\",\"efficient\",\"exists\",\"atheist\",\"entrepreneur\",\"direction\",\"broken\",\"offline\",\"firms\",\"station\",\"magnetic\",\"include\",\"aliens\",\"tinder\",\"logo\",\"photography\",\"worse\",\"besides\",\"path\",\"somebody\",\"interviews\",\"persons\",\"figure\",\"placed\",\"nation\",\"knows\",\"unmarried\",\"hp\",\"profitable\",\"tricks\",\"boss\",\"reply\",\"scam\",\"circle\",\"processor\",\"debt\",\"growing\",\"royal\",\"fiction\",\"department\",\"mistake\",\"weird\",\"graphics\",\"external\",\"article\",\"volume\",\"scratch\",\"chain\",\"protect\",\"storage\",\"texas\",\"liquid\",\"circuit\",\"graphic\",\"tired\",\"weather\",\"oxygen\",\"velocity\",\"dad\",\"band\",\"teachers\",\"drugs\",\"complex\",\"studio\",\"accenture\",\"leader\",\"levels\",\"goal\",\"logic\",\"acne\",\"plastic\",\"motion\",\"button\",\"peoples\",\"vision\",\"gap\",\"dollar\",\"computers\",\"stomach\",\"sources\",\"constant\",\"draw\",\"dress\",\"calculated\",\"sort\",\"3rd\",\"club\",\"channels\",\"creating\",\"candidates\",\"kejriwal\",\"broke\",\"sentences\",\"format\",\"emails\",\"raw\",\"stanford\",\"completed\",\"documents\",\"pan\",\"showing\",\"enter\",\"unknown\",\"bought\",\"router\",\"claim\",\"six\",\"technologies\",\"\\u20b9\",\"flipkart\",\"infosys\",\"mutual\",\"angry\",\"iits\",\"affected\",\"prices\",\"shares\",\"naruto\",\"processing\",\"finding\",\"democratic\",\"evolution\",\"harmful\",\"dual\",\"virtual\",\"member\",\"wave\",\"actual\",\"extra\",\"radio\",\"citizens\",\"e\",\"hr\",\"previous\",\"stopped\",\"walk\",\"redmi\",\"speaker\",\"torrent\",\"smoke\",\"mistakes\",\"flash\",\"iron\",\"entire\",\"individual\",\"express\",\"flow\",\"mode\",\"aircraft\",\"section\",\"planets\",\"10th\",\"respond\",\"easier\",\"evil\",\"percentile\",\"seeing\",\"calories\",\"upgrade\",\"professor\",\"v\",\"launch\",\"staff\",\"till\",\"silicon\",\"entry\",\"constitution\",\"century\",\"notice\",\"ie\",\"atheists\",\"tests\",\"21\",\"became\",\"kerala\",\"truly\",\"count\",\"essay\",\"papers\",\"accurate\",\"colors\",\"respect\",\"ideal\",\"rock\",\"reliance\",\"peace\",\"masturbation\",\"audio\",\"random\",\"independent\",\"colour\",\"hotels\",\"presidency\",\"generation\",\"paypal\",\"shot\",\"central\",\"released\",\"occur\",\"display\",\"industrial\",\"particular\",\"risk\",\"eg\",\"belly\",\"pet\",\"similarities\",\"organic\",\"marijuana\",\"networks\",\"aspects\",\"flat\",\"d\",\"comments\",\"nose\",\"identify\",\"rbi\",\"improvement\",\"directly\",\"framework\",\"suggestions\",\"designing\",\"brands\",\"religious\",\"influence\",\"novels\",\"statistics\",\"historical\",\"ground\",\"commerce\",\"pregnancy\",\"romantic\",\"failure\",\"wearing\",\"john\",\"apart\",\"bay\",\"symptoms\",\"200\",\"couple\",\"60\",\"canadian\",\"lie\",\"print\",\"carry\",\"gender\",\"experienced\",\"pounds\",\"reservation\",\"either\",\"stage\",\"artificial\",\"fit\",\"blogs\",\"developing\",\"environment\",\"learned\",\"copy\",\"phase\",\"bond\",\"democracy\",\"cgpa\",\"operating\",\"surface\",\"officers\",\"h1b\",\"ip\",\"workout\",\"fee\",\"elected\",\"hands\",\"largest\",\"sad\",\"shouldnt\",\"seat\",\"sister\",\"developers\",\"despite\",\"scene\",\"po\",\"diploma\",\"request\",\"empire\",\"ratio\",\"considering\",\"academic\",\"tree\",\"register\",\"advantage\",\"eligible\",\"nit\",\"shop\",\"intel\",\"funniest\",\"alternative\",\"fail\",\"ads\",\"nature\",\"miss\",\"involved\",\"overrated\",\"attend\",\"freedom\",\"dna\",\"beginners\",\"raise\",\"dry\",\"failed\",\"legally\",\"batman\",\"upload\",\"carbon\",\"regret\",\"applied\",\"points\",\"investors\",\"pick\",\"equivalent\",\"connected\",\"christmas\",\"lyrics\",\"nations\",\"caused\",\"bsc\",\"1st\",\"action\",\"activities\",\"biology\",\"hide\",\"asia\",\"takes\",\"require\",\"alive\",\"mom\",\"cycle\",\"generally\",\"campaign\",\"fair\",\"wake\",\"bit\",\"rules\",\"olympics\",\"racist\",\"areas\",\"eggs\",\"feature\",\"sap\",\"taxes\",\"ad\",\"shall\",\"theyre\",\"species\",\"pilot\",\"firm\",\"fish\",\"define\",\"doctors\",\"piece\",\"itself\",\"bang\",\"solutions\",\"iim\",\"2013\",\"wanted\",\"length\",\"burn\",\"waves\",\"bar\",\"gives\",\"forces\",\"christian\",\"anybody\",\"relationships\",\"nice\",\"wedding\",\"various\",\"brother\",\"films\",\"cream\",\"suddenly\",\"philippines\",\"fashion\",\"truth\",\"gpa\",\"cgl\",\"tall\",\"goa\",\"hacking\",\"statement\",\"reset\",\"materials\",\"played\",\"match\",\"usb\",\"novel\",\"unusual\",\"knowing\",\"selected\",\"valley\",\"chrome\",\"couples\",\"becomes\",\"died\",\"cheating\",\"community\",\"groups\",\"category\",\"pursuing\",\"writer\",\"mexico\",\"anymore\",\"sugar\",\"climate\",\"brown\",\"players\",\"ii\",\"reviews\",\"took\",\"led\",\"connection\",\"begin\",\"html\",\"changing\",\"received\",\"plants\",\"debit\",\"record\",\"revenue\",\"mars\",\"strongest\",\"members\",\"formed\",\"union\",\"thought\",\"existence\",\"kashmir\",\"gandhi\",\"pdf\",\"banned\",\"0\",\"plane\",\"treated\",\"electricity\",\"scale\",\"basis\",\"moral\",\"images\",\"methods\",\"certification\",\"voltage\",\"style\",\"base\",\"excel\",\"amazing\",\"regarding\",\"result\",\"rates\",\"hold\",\"indias\",\"airport\",\"businesses\",\"feet\",\"built\",\"linkedin\",\"signs\",\"above\",\"networking\",\"r\",\"shopping\",\"looks\",\"went\",\"placements\",\"bed\",\"experiences\",\"daughter\",\"tourist\",\"employee\",\"caste\",\"wait\",\"direct\",\"especially\",\"feed\",\"continue\",\"expected\",\"algorithm\",\"depressed\",\"shoes\",\"soon\",\"supply\",\"stress\",\"24\",\"inr\",\"foods\",\"rent\",\"architecture\",\"ban\",\"entrance\",\"actors\",\"messenger\",\"unique\",\"kolkata\",\"funds\",\"rupee\",\"promote\",\"rupees\",\"jews\",\"23\",\"cook\",\"cultural\",\"accepted\",\"hear\",\"glass\",\"road\",\"joining\",\"measure\",\"havent\",\"metal\",\"resume\",\"afraid\",\"turkey\",\"meat\",\"goes\",\"installation\",\"netflix\",\"benefit\",\"demand\",\"release\",\"produce\",\"report\",\"cover\",\"changes\",\"double\",\"2nd\",\"reaction\",\"killed\",\"steel\",\"requirements\",\"france\",\"exchange\",\"ac\",\"quantum\",\"reliable\",\"box\",\"results\",\"lives\",\"treatment\",\"4g\",\"ece\",\"probability\",\"sleeping\",\"philosophy\",\"handle\",\"forget\",\"driver\",\"demonetization\",\"algorithms\",\"trade\",\"rule\",\"muscle\",\"calls\",\"tried\",\"mental\",\"sure\",\"quit\",\"navy\",\"achieve\",\"francisco\",\"location\",\"until\",\"sense\",\"anxiety\",\"wordpress\",\"focus\",\"fact\",\"production\",\"conversation\",\"motor\",\"five\",\"attracted\",\"hit\",\"analyst\",\"moto\",\"isis\",\"chicken\",\"sector\",\"permanent\",\"along\",\"king\",\"slow\",\"candidate\",\"minutes\",\"purchase\",\"gun\",\"selling\",\"usually\",\"\\u2026\",\"fly\",\"round\",\"panel\",\"error\",\"stocks\",\"api\",\"remember\",\"africa\",\"paying\",\"hitler\",\"3d\",\"regular\",\"losing\",\"mail\",\"yahoo\",\"cheapest\",\"older\",\"concept\",\"characters\",\"definition\",\"lines\",\"pm\",\"cloud\",\"cats\",\"russian\",\"ipad\",\"korean\",\"proof\",\"battle\",\"stars\",\"stream\",\"recent\",\"typical\",\"performance\",\"harvard\",\"restaurant\",\"origin\",\"listen\",\"smell\",\"decide\",\"serve\",\"undergraduate\",\"profit\",\"situation\",\"surgery\",\"asking\",\"plant\",\"link\",\"square\",\"completing\",\"four\",\"trust\",\"payment\",\"gym\",\"andor\",\"worklife\",\"guitar\",\"elections\",\"half\",\"investing\",\"scientist\",\"street\",\"needs\",\"native\",\"thoughts\",\"reality\",\"40\",\"medicine\",\"race\",\"choice\",\"longer\",\"came\",\"applying\",\"hiring\",\"west\",\"weed\",\"hacks\",\"step\",\"sea\",\"crime\",\"devices\",\"event\",\"citizen\",\"14\",\"17\",\"ticket\",\"fund\",\"equation\",\"suicide\",\"whom\",\"met\",\"almost\",\"designer\",\"local\",\"departments\",\"khan\",\"customer\",\"banking\",\"javascript\",\"trip\",\"issue\",\"react\",\"cannot\",\"dubai\",\"wall\",\"touch\",\"parts\",\"loves\",\"clothes\",\"straight\",\"sexual\",\"active\",\"inpatient\",\"dreams\",\"protein\",\"table\",\"exercise\",\"lord\",\"mtech\",\"creative\",\"ball\",\"speaking\",\"son\",\"receive\",\"dollars\",\"domain\",\"prospects\",\"hour\",\"graduation\",\"commercial\",\"themselves\",\"factors\",\"jesus\",\"programmer\",\"recommend\",\"replace\",\"chat\",\"placement\",\"episode\",\"fastest\",\"restaurants\",\"object\",\"drivers\",\"gaming\",\"mark\",\"taste\",\"seem\",\"perfect\",\"potential\",\"trumps\",\"appear\",\"rights\",\"equal\",\"rest\",\"package\",\"meant\",\"drop\",\"cool\",\"material\",\"potter\",\"events\",\"convince\",\"completely\",\"n\",\"zero\",\"significance\",\"lower\",\"feelings\",\"followers\",\"evidence\",\"certain\",\"later\",\"original\",\"bible\",\"disorder\",\"testing\",\"via\",\"stand\",\"actor\",\"characteristics\",\"cities\",\"reach\",\"ago\",\"mbbs\",\"speech\",\"electric\",\"approach\",\"scientific\",\"root\",\"analytics\",\"below\",\"grade\",\"mains\",\"topic\",\"fun\",\"ancient\",\"adult\",\"standard\",\"ice\",\"everyday\",\"population\",\"invented\",\"european\",\"intelligent\",\"11\",\"subject\",\"rehab\",\"background\",\"giving\",\"platform\",\"flight\",\"thrones\",\"maths\",\"dc\",\"teeth\",\"mit\",\"weeks\",\"east\",\"means\",\"programs\",\"beginner\",\"heat\",\"third\",\"tea\",\"range\",\"london\",\"maximum\",\"enjoy\",\"2000\",\"cells\",\"quickly\",\"here\",\"expensive\",\"phrase\",\"partner\",\"league\",\"anime\",\"latest\",\"specific\",\"whether\",\"functions\",\"os\",\"fire\",\"saying\",\"secret\",\"13\",\"planet\",\"hole\",\"super\",\"teacher\",\"strong\",\"accounts\",\"minister\",\"database\",\"economic\",\"channel\",\"estate\",\"ram\",\"switch\",\"asian\",\"smoking\",\"branch\",\"israel\",\"18\",\"features\",\"success\",\"lead\",\"total\",\"key\",\"master\",\"ok\",\"favourite\",\"psychology\",\"pok\\u00e9mon\",\"nothing\",\"clean\",\"25\",\"politics\",\"drinking\",\"sometimes\",\"recently\",\"korea\",\"sent\",\"poor\",\"hindu\",\"hollywood\",\"survive\",\"cure\",\"property\",\"return\",\"narendra\",\"budget\",\"sports\",\"limit\",\"arent\",\"boys\",\"driving\",\"whole\",\"cash\",\"smartphone\",\"php\",\"developed\",\"ssc\",\"hot\",\"attractive\",\"tool\",\"physical\",\"ecommerce\",\"sbi\",\"morning\",\"animal\",\"multiple\",\"loan\",\"acid\",\"fresher\",\"spanish\",\"moving\",\"decision\",\"county\",\"determined\",\"becoming\",\"seo\",\"summer\",\"manage\",\"server\",\"competitive\",\"milk\",\"importance\",\"banks\",\"cheap\",\"powerful\",\"issues\",\"penis\",\"according\",\"analysis\",\"bike\",\"position\",\"western\",\"advanced\",\"campus\",\"highest\",\"front\",\"court\",\"status\",\"gravity\",\"positions\",\"comes\",\"steps\",\"complete\",\"electronics\",\"won\",\"hurt\",\"certificate\",\"temperature\",\"player\",\"someones\",\"communication\",\"million\",\"talking\",\"preparing\",\"finance\",\"cancer\",\"9\",\"harry\",\"accept\",\"2014\",\"plus\",\"born\",\"tcs\",\"license\",\"bring\",\"teach\",\"practice\",\"trading\",\"m\",\"might\",\"opportunities\",\"global\",\"wish\",\"outside\",\"attack\",\"procedure\",\"needed\",\"update\",\"coffee\",\"provider\",\"rather\",\"16\",\"allow\",\"tamil\",\"mix\",\"connect\",\"room\",\"watching\",\"deep\",\"york\",\"image\",\"birth\",\"sign\",\"birthday\",\"playing\",\"wars\",\"grads\",\"hire\",\"phones\",\"cbse\",\"details\",\"clear\",\"cricket\",\"dangerous\",\"track\",\"corporate\",\"voice\",\"upsc\",\"content\",\"okay\",\"san\",\"heart\",\"far\",\"heard\",\"prove\",\"positive\",\"moment\",\"sales\",\"opinion\",\"engineers\",\"block\",\"diet\",\"coding\",\"core\",\"baby\",\"father\",\"little\",\"large\",\"blocked\",\"distance\",\"land\",\"simple\",\"husband\",\"told\",\"traffic\",\"prevent\",\"pictures\",\"planning\",\"fear\",\"classes\",\"towards\",\"technical\",\"building\",\"trying\",\"photo\",\"early\",\"uses\",\"sydney\",\"startups\",\"act\",\"id\",\"describe\",\"12th\",\"may\",\"formula\",\"gets\",\"present\",\"wont\",\"cut\",\"treat\",\"mathematics\",\"visiting\",\"eye\",\"policy\",\"close\",\"cse\",\"suitable\",\"version\",\"tools\",\"head\",\"minimum\",\"chennai\",\"easily\",\"method\",\"intelligence\",\"gre\",\"mother\",\"doctor\",\"macbook\",\"deleted\",\"gas\",\"suggest\",\"cards\",\"files\",\"loss\",\"art\",\"easiest\",\"late\",\"among\",\"together\",\"depression\",\"higher\",\"alone\",\"economics\",\"dead\",\"growth\",\"insurance\",\"gold\",\"necessary\",\"neet\",\"blog\",\"example\",\"memory\",\"crack\",\"consider\",\"works\",\"currency\",\"recruit\",\"pursue\",\"strategy\",\"young\",\"cs\",\"projects\",\"50\",\"manager\",\"abroad\",\"schools\",\"illegal\",\"inside\",\"stories\",\"hand\",\"t\",\"greatest\",\"personality\",\"galaxy\",\"device\",\"views\",\"user\",\"chemistry\",\"cars\",\"iq\",\"prefer\",\"picture\",\"nuclear\",\"middle\",\"applications\",\"gmail\",\"laws\",\"final\",\"capital\",\"kids\",\"society\",\"fake\",\"bill\",\"save\",\"though\",\"likely\",\"determine\",\"shows\",\"character\",\"snapchat\",\"youre\",\"eyes\",\"islam\",\"marry\",\"brand\",\"yet\",\"impact\",\"speak\",\"within\",\"rich\",\"resources\",\"net\",\"non\",\"pressure\",\"changed\",\"allowed\",\"obama\",\"cold\",\"running\",\"feeling\",\"jio\",\"football\",\"gift\",\"written\",\"buying\",\"mac\",\"spend\",\"prime\",\"blue\",\"train\",\"studies\",\"negative\",\"thinking\",\"solution\",\"sun\",\"least\",\"following\",\"install\",\"else\",\"muslims\",\"camera\",\"vote\",\"linux\",\"expect\",\"german\",\"recover\",\"starting\",\"crush\",\"coming\",\"muslim\",\"modern\",\"battery\",\"provide\",\"access\",\"presidential\",\"interest\",\"dating\",\"pro\",\"likes\",\"french\",\"singapore\",\"useful\",\"already\",\"professional\",\"percentage\",\"drink\",\"created\",\"board\",\"passport\",\"structure\",\"case\",\"height\",\"microsoft\",\"break\",\"screen\",\"names\",\"chance\",\"special\",\"30\",\"skin\",\"natural\",\"color\",\"interested\",\"amount\",\"pain\",\"healthy\",\"hack\",\"messages\",\"ias\",\"gay\",\"disadvantages\",\"pass\",\"moon\",\"systems\",\"hindi\",\"financial\",\"taken\",\"yes\",\"sim\",\"pregnant\",\"faster\",\"animals\",\"internship\",\"let\",\"photos\",\"balance\",\"sound\",\"due\",\"knowledge\",\"charge\",\"message\",\"officer\",\"solar\",\"military\",\"meet\",\"option\",\"reading\",\"across\",\"overcome\",\"everyone\",\"everything\",\"wife\",\"reduce\",\"chances\",\"samsung\",\"income\",\"bollywood\",\"season\",\"europe\",\"boy\",\"currently\",\"ex\",\"smart\",\"california\",\"engine\",\"paid\",\"army\",\"contact\",\"address\",\"wants\",\"ones\",\"gain\",\"reasons\",\"avoid\",\"please\",\"note\",\"known\",\"pune\",\"film\",\"national\",\"once\",\"users\",\"porn\",\"scope\",\"twitter\",\"drug\",\"rank\",\"japan\",\"fight\",\"transfer\",\"political\",\"green\",\"news\",\"self\",\"uber\",\"basic\",\"british\",\"religion\",\"hyderabad\",\"topics\",\"explain\",\"phd\",\"eating\",\"letter\",\"calculate\",\"ive\",\"tech\",\"personal\",\"japanese\",\"check\",\"hotel\",\"wifi\",\"beautiful\",\"difficult\",\"paper\",\"languages\",\"investment\",\"develop\",\"north\",\"electrical\",\"ios\",\"alcohol\",\"exactly\",\"profile\",\"past\",\"exams\",\"ca\",\"convert\",\"vs\",\"understand\",\"care\",\"dream\",\"try\",\"americans\",\"lost\",\"chemical\",\"source\",\"b\",\"admission\",\"easy\",\"must\",\"three\",\"effect\",\"view\",\"options\",\"page\",\"away\",\"red\",\"said\",\"line\",\"short\",\"happy\",\"security\",\"dark\",\"preparation\",\"second\",\"fat\",\"matter\",\"few\",\"since\",\"role\",\"pc\",\"office\",\"team\",\"delete\",\"cell\",\"election\",\"economy\",\"term\",\"dogs\",\"text\",\"female\",\"effective\",\"brain\",\"share\",\"digital\",\"btech\",\"russia\",\"\\u201c\",\"party\",\"numbers\",\"20\",\"store\",\"male\",\"mass\",\"turn\",\"left\",\"married\",\"rs\",\"taking\",\"those\",\"password\",\"follow\",\"advice\",\"isnt\",\"15\",\"types\",\"network\",\"\\u201d\",\"week\",\"purpose\",\"related\",\"fix\",\"started\",\"courses\",\"masters\",\"grow\",\"8\",\"fast\",\"leave\",\"100\",\"often\",\"found\",\"pros\",\"marriage\",\"cons\",\"quality\",\"words\",\"kill\",\"price\",\"near\",\"modi\",\"enough\",\"search\",\"python\",\"x\",\"blood\",\"math\",\"yourself\",\"drive\",\"size\",\"star\",\"graduate\",\"majors\",\"500\",\"model\",\"studying\",\"general\",\"oil\",\"colleges\",\"area\",\"developer\",\"germany\",\"industry\",\"full\",\"training\",\"says\",\"period\",\"videos\",\"universe\",\"fall\",\"daily\",\"information\",\"foreign\",\"credit\",\"force\",\"12\",\"youve\",\"south\",\"offer\",\"set\",\"add\",\"send\",\"australia\",\"center\",\"1000\",\"famous\",\"2015\",\"lot\",\"function\",\"tax\",\"correct\",\"solve\",\"advantages\",\"coaching\",\"institute\",\"effects\",\"guys\",\"again\",\"group\",\"hours\",\"side\",\"sentence\",\"low\",\"similar\",\"plan\",\"children\",\"answers\",\"talk\",\"marks\",\"ideas\",\"theory\",\"death\",\"compared\",\"night\",\"remove\",\"dog\",\"anything\",\"single\",\"successful\",\"gate\",\"indians\",\"put\",\"problems\",\"move\",\"writing\",\"point\",\"invest\",\"asked\",\"biggest\",\"others\",\"stock\",\"notes\",\"story\",\"machine\",\"private\",\"sell\",\"seen\",\"required\",\"field\",\"file\",\"rate\",\"humans\",\"application\",\"face\",\"sites\",\"mind\",\"facts\",\"mumbai\",\"post\",\"stay\",\"child\",\"terms\",\"products\",\"control\",\"legal\",\"police\",\"didnt\",\"level\",\"worst\",\"hate\",\"visit\",\"called\",\"amazon\",\"causes\",\"health\",\"form\",\"physics\",\"iit\",\"skills\",\"times\",\"medical\",\"based\",\"list\",\"websites\",\"die\",\"part\",\"less\",\"benefits\",\"apple\",\"instead\",\"these\",\"boyfriend\",\"sleep\",\"canada\",\"reason\",\"education\",\"cause\",\"jee\",\"value\",\"today\",\"media\",\"public\",\"happened\",\"product\",\"research\",\"main\",\"behind\",\"international\",\"project\",\"uk\",\"differ\",\"7\",\"places\",\"wear\",\"order\",\"date\",\"etc\",\"small\",\"songs\",\"apps\",\"email\",\"given\",\"wrong\",\"site\",\"normal\",\"culture\",\"also\",\"civil\",\"city\",\"available\",\"house\",\"exist\",\"startup\",\"services\",\"ms\",\"both\",\"down\",\"2017\",\"run\",\"cat\",\"well\",\"space\",\"join\",\"deal\",\"games\",\"visa\",\"rid\",\"air\",\"speed\",\"popular\",\"problem\",\"support\",\"current\",\"pakistan\",\"choose\",\"build\",\"idea\",\"america\",\"whatsapp\",\"affect\",\"law\",\"technology\",\"call\",\"6\",\"universities\",\"family\",\"marketing\",\"major\",\"actually\",\"favorite\",\"light\",\"bangalore\",\"woman\",\"because\",\"type\",\"program\",\"looking\",\"living\",\"open\",\"believe\",\"month\",\"able\",\"management\",\"travel\",\"degree\",\"show\",\"interesting\",\"score\",\"months\",\"series\",\"chinese\",\"development\",\"end\",\"code\",\"design\",\"per\",\"employees\",\"review\",\"clinton\",\"common\",\"kind\",\"internet\",\"song\",\"download\",\"course\",\"parents\",\"jobs\",\"such\",\"increase\",\"java\",\"god\",\"another\",\"united\",\"girlfriend\",\"mechanical\",\"always\",\"next\",\"never\",\"around\",\"tips\",\"mba\",\"myself\",\"hillary\",\"apply\",\"answer\",\"something\",\"considered\",\"making\",\"differences\",\"market\",\"compare\",\"great\",\"keep\",\"test\",\"s\",\"win\",\"against\",\"states\",\"earn\",\"youtube\",\"worth\",\"delhi\",\"energy\",\"laptop\",\"american\",\"lose\",\"each\",\"hard\",\"makes\",\"age\",\"ask\",\"safe\",\"body\",\"power\",\"salary\",\"4\",\"watch\",\"white\",\"windows\",\"instagram\",\"history\",\"pay\",\"every\",\"last\",\"create\",\"relationship\",\"music\",\"too\",\"meaning\",\"state\",\"average\",\"earth\",\"got\",\"process\",\"class\",\"tv\",\"eat\",\"done\",\"happens\",\"days\",\"big\",\"off\",\"improve\",\"future\",\"place\",\"man\",\"human\",\"government\",\"play\",\"countries\",\"food\",\"service\",\"students\",\"weight\",\"game\",\"engineer\",\"write\",\"very\",\"interview\",\"web\",\"tell\",\"social\",\"girls\",\"video\",\"look\",\"having\",\"guy\",\"home\",\"hair\",\"usa\",\"doesnt\",\"word\",\"bank\",\"friend\",\"true\",\"experience\",\"career\",\"president\",\"question\",\"own\",\"china\",\"come\",\"under\",\"working\",\"him\",\"doing\",\"donald\",\"friends\",\"right\",\"5\",\"cost\",\"mobile\",\"even\",\"movies\",\"then\",\"c\",\"\\u2019\",\"exam\",\"men\",\"learning\",\"card\",\"war\",\"read\",\"programming\",\"black\",\"anyone\",\"high\",\"10\",\"companies\",\"car\",\"getting\",\"give\",\"important\",\"questions\",\"cant\",\"iphone\",\"website\",\"top\",\"water\",\"prepare\",\"during\",\"real\",\"say\",\"system\",\"name\",\"through\",\"two\",\"1\",\"our\",\"study\",\"3\",\"university\",\"made\",\"back\",\"happen\",\"stop\",\"student\",\"sex\",\"bad\",\"language\",\"going\",\"same\",\"before\",\"software\",\"school\",\"live\",\"country\",\"android\",\"science\",\"help\",\"she\",\"see\",\"thing\",\"women\",\"over\",\"data\",\"examples\",\"computer\",\"had\",\"ways\",\"change\",\"while\",\"book\",\"english\",\"account\",\"still\",\"movie\",\"books\",\"2016\",\"facebook\",\"free\",\"number\",\"college\",\"app\",\"2\",\"just\",\"now\",\"no\",\"trump\",\"company\",\"only\",\"old\",\"been\",\"google\",\"phone\",\"long\",\"different\",\"girl\",\"his\",\"her\",\"years\",\"really\",\"them\",\"using\",\"business\",\"need\",\"being\",\"buy\",\"day\",\"person\",\"things\",\"possible\",\"could\",\"were\",\"its\",\"love\",\"engineering\",\"im\",\"used\",\"online\",\"go\",\"year\",\"he\",\"into\",\"feel\",\"dont\",\"first\",\"up\"]]]}}},\"view\":{\"type\":\"object\",\"name\":\"CDSView\",\"id\":\"p1096\",\"attributes\":{\"filter\":{\"type\":\"object\",\"name\":\"AllIndices\",\"id\":\"p1097\"}}},\"glyph\":{\"type\":\"object\",\"name\":\"Scatter\",\"id\":\"p1092\",\"attributes\":{\"x\":{\"type\":\"field\",\"field\":\"x\"},\"y\":{\"type\":\"field\",\"field\":\"y\"},\"size\":{\"type\":\"value\",\"value\":10},\"line_color\":{\"type\":\"field\",\"field\":\"color\"},\"line_alpha\":{\"type\":\"value\",\"value\":0.25},\"fill_color\":{\"type\":\"field\",\"field\":\"color\"},\"fill_alpha\":{\"type\":\"value\",\"value\":0.25},\"hatch_color\":{\"type\":\"field\",\"field\":\"color\"},\"hatch_alpha\":{\"type\":\"value\",\"value\":0.25}}},\"nonselection_glyph\":{\"type\":\"object\",\"name\":\"Scatter\",\"id\":\"p1093\",\"attributes\":{\"x\":{\"type\":\"field\",\"field\":\"x\"},\"y\":{\"type\":\"field\",\"field\":\"y\"},\"size\":{\"type\":\"value\",\"value\":10},\"line_color\":{\"type\":\"field\",\"field\":\"color\"},\"line_alpha\":{\"type\":\"value\",\"value\":0.1},\"fill_color\":{\"type\":\"field\",\"field\":\"color\"},\"fill_alpha\":{\"type\":\"value\",\"value\":0.1},\"hatch_color\":{\"type\":\"field\",\"field\":\"color\"},\"hatch_alpha\":{\"type\":\"value\",\"value\":0.1}}},\"muted_glyph\":{\"type\":\"object\",\"name\":\"Scatter\",\"id\":\"p1094\",\"attributes\":{\"x\":{\"type\":\"field\",\"field\":\"x\"},\"y\":{\"type\":\"field\",\"field\":\"y\"},\"size\":{\"type\":\"value\",\"value\":10},\"line_color\":{\"type\":\"field\",\"field\":\"color\"},\"line_alpha\":{\"type\":\"value\",\"value\":0.2},\"fill_color\":{\"type\":\"field\",\"field\":\"color\"},\"fill_alpha\":{\"type\":\"value\",\"value\":0.2},\"hatch_color\":{\"type\":\"field\",\"field\":\"color\"},\"hatch_alpha\":{\"type\":\"value\",\"value\":0.2}}}}}],\"toolbar\":{\"type\":\"object\",\"name\":\"Toolbar\",\"id\":\"p1063\",\"attributes\":{\"tools\":[{\"type\":\"object\",\"name\":\"PanTool\",\"id\":\"p1076\"},{\"type\":\"object\",\"name\":\"WheelZoomTool\",\"id\":\"p1077\",\"attributes\":{\"renderers\":\"auto\"}},{\"type\":\"object\",\"name\":\"BoxZoomTool\",\"id\":\"p1078\",\"attributes\":{\"overlay\":{\"type\":\"object\",\"name\":\"BoxAnnotation\",\"id\":\"p1079\",\"attributes\":{\"syncable\":false,\"line_color\":\"black\",\"line_alpha\":1.0,\"line_width\":2,\"line_dash\":[4,4],\"fill_color\":\"lightgrey\",\"fill_alpha\":0.5,\"level\":\"overlay\",\"visible\":false,\"left\":{\"type\":\"number\",\"value\":\"nan\"},\"right\":{\"type\":\"number\",\"value\":\"nan\"},\"top\":{\"type\":\"number\",\"value\":\"nan\"},\"bottom\":{\"type\":\"number\",\"value\":\"nan\"},\"left_units\":\"canvas\",\"right_units\":\"canvas\",\"top_units\":\"canvas\",\"bottom_units\":\"canvas\",\"handles\":{\"type\":\"object\",\"name\":\"BoxInteractionHandles\",\"id\":\"p1085\",\"attributes\":{\"all\":{\"type\":\"object\",\"name\":\"AreaVisuals\",\"id\":\"p1084\",\"attributes\":{\"fill_color\":\"white\",\"hover_fill_color\":\"lightgray\"}}}}}}}},{\"type\":\"object\",\"name\":\"SaveTool\",\"id\":\"p1086\"},{\"type\":\"object\",\"name\":\"ResetTool\",\"id\":\"p1087\"},{\"type\":\"object\",\"name\":\"HelpTool\",\"id\":\"p1088\"},{\"type\":\"object\",\"name\":\"HoverTool\",\"id\":\"p1098\",\"attributes\":{\"renderers\":\"auto\",\"tooltips\":[[\"token\",\"@token\"]]}}],\"active_scroll\":{\"id\":\"p1077\"}}},\"left\":[{\"type\":\"object\",\"name\":\"LinearAxis\",\"id\":\"p1071\",\"attributes\":{\"ticker\":{\"type\":\"object\",\"name\":\"BasicTicker\",\"id\":\"p1072\",\"attributes\":{\"mantissas\":[1,2,5]}},\"formatter\":{\"type\":\"object\",\"name\":\"BasicTickFormatter\",\"id\":\"p1073\"},\"major_label_policy\":{\"type\":\"object\",\"name\":\"AllLabels\",\"id\":\"p1074\"}}}],\"below\":[{\"type\":\"object\",\"name\":\"LinearAxis\",\"id\":\"p1066\",\"attributes\":{\"ticker\":{\"type\":\"object\",\"name\":\"BasicTicker\",\"id\":\"p1067\",\"attributes\":{\"mantissas\":[1,2,5]}},\"formatter\":{\"type\":\"object\",\"name\":\"BasicTickFormatter\",\"id\":\"p1068\"},\"major_label_policy\":{\"type\":\"object\",\"name\":\"AllLabels\",\"id\":\"p1069\"}}}],\"center\":[{\"type\":\"object\",\"name\":\"Grid\",\"id\":\"p1070\",\"attributes\":{\"axis\":{\"id\":\"p1066\"}}},{\"type\":\"object\",\"name\":\"Grid\",\"id\":\"p1075\",\"attributes\":{\"dimension\":1,\"axis\":{\"id\":\"p1071\"}}}]}}]}};\n",
              "  const render_items = [{\"docid\":\"afce9644-7b94-441f-bf0b-6eeb3a9c53c0\",\"roots\":{\"p1055\":\"e3292d78-d3ad-48b5-beb2-fea97354aba0\"},\"root_ids\":[\"p1055\"]}];\n",
              "  void root.Bokeh.embed.embed_items_notebook(docs_json, render_items);\n",
              "  }\n",
              "  if (root.Bokeh !== undefined) {\n",
              "    embed_document(root);\n",
              "  } else {\n",
              "    let attempts = 0;\n",
              "    const timer = setInterval(function(root) {\n",
              "      if (root.Bokeh !== undefined) {\n",
              "        clearInterval(timer);\n",
              "        embed_document(root);\n",
              "      } else {\n",
              "        attempts++;\n",
              "        if (attempts > 100) {\n",
              "          clearInterval(timer);\n",
              "          console.log(\"Bokeh: ERROR: Unable to run BokehJS code because BokehJS library is missing\");\n",
              "        }\n",
              "      }\n",
              "    }, 10, root)\n",
              "  }\n",
              "})(window);"
            ],
            "application/vnd.bokehjs_exec.v0+json": ""
          },
          "metadata": {
            "application/vnd.bokehjs_exec.v0+json": {
              "id": "p1055"
            }
          }
        },
        {
          "output_type": "execute_result",
          "data": {
            "text/plain": [
              "figure(id='p1055', ...)"
            ],
            "text/html": [
              "<div style=\"display: table;\"><div style=\"display: table-row;\"><div style=\"display: table-cell;\"><b title=\"bokeh.plotting._figure.figure\">figure</b>(</div><div style=\"display: table-cell;\">id&nbsp;=&nbsp;'p1055', <span id=\"p1102\" style=\"cursor: pointer;\">&hellip;)</span></div></div><div class=\"p1101\" style=\"display: none;\"><div style=\"display: table-cell;\"></div><div style=\"display: table-cell;\">above&nbsp;=&nbsp;[],</div></div><div class=\"p1101\" style=\"display: none;\"><div style=\"display: table-cell;\"></div><div style=\"display: table-cell;\">align&nbsp;=&nbsp;'auto',</div></div><div class=\"p1101\" style=\"display: none;\"><div style=\"display: table-cell;\"></div><div style=\"display: table-cell;\">aspect_ratio&nbsp;=&nbsp;None,</div></div><div class=\"p1101\" style=\"display: none;\"><div style=\"display: table-cell;\"></div><div style=\"display: table-cell;\">aspect_scale&nbsp;=&nbsp;1,</div></div><div class=\"p1101\" style=\"display: none;\"><div style=\"display: table-cell;\"></div><div style=\"display: table-cell;\">attribution&nbsp;=&nbsp;[],</div></div><div class=\"p1101\" style=\"display: none;\"><div style=\"display: table-cell;\"></div><div style=\"display: table-cell;\">background_fill_alpha&nbsp;=&nbsp;1.0,</div></div><div class=\"p1101\" style=\"display: none;\"><div style=\"display: table-cell;\"></div><div style=\"display: table-cell;\">background_fill_color&nbsp;=&nbsp;'#ffffff',</div></div><div class=\"p1101\" style=\"display: none;\"><div style=\"display: table-cell;\"></div><div style=\"display: table-cell;\">below&nbsp;=&nbsp;[LinearAxis(id='p1066', ...)],</div></div><div class=\"p1101\" style=\"display: none;\"><div style=\"display: table-cell;\"></div><div style=\"display: table-cell;\">border_fill_alpha&nbsp;=&nbsp;1.0,</div></div><div class=\"p1101\" style=\"display: none;\"><div style=\"display: table-cell;\"></div><div style=\"display: table-cell;\">border_fill_color&nbsp;=&nbsp;'#ffffff',</div></div><div class=\"p1101\" style=\"display: none;\"><div style=\"display: table-cell;\"></div><div style=\"display: table-cell;\">center&nbsp;=&nbsp;[Grid(id='p1070', ...), Grid(id='p1075', ...)],</div></div><div class=\"p1101\" style=\"display: none;\"><div style=\"display: table-cell;\"></div><div style=\"display: table-cell;\">context_menu&nbsp;=&nbsp;None,</div></div><div class=\"p1101\" style=\"display: none;\"><div style=\"display: table-cell;\"></div><div style=\"display: table-cell;\">css_classes&nbsp;=&nbsp;[],</div></div><div class=\"p1101\" style=\"display: none;\"><div style=\"display: table-cell;\"></div><div style=\"display: table-cell;\">css_variables&nbsp;=&nbsp;{},</div></div><div class=\"p1101\" style=\"display: none;\"><div style=\"display: table-cell;\"></div><div style=\"display: table-cell;\">disabled&nbsp;=&nbsp;False,</div></div><div class=\"p1101\" style=\"display: none;\"><div style=\"display: table-cell;\"></div><div style=\"display: table-cell;\">elements&nbsp;=&nbsp;[],</div></div><div class=\"p1101\" style=\"display: none;\"><div style=\"display: table-cell;\"></div><div style=\"display: table-cell;\">extra_x_ranges&nbsp;=&nbsp;{},</div></div><div class=\"p1101\" style=\"display: none;\"><div style=\"display: table-cell;\"></div><div style=\"display: table-cell;\">extra_x_scales&nbsp;=&nbsp;{},</div></div><div class=\"p1101\" style=\"display: none;\"><div style=\"display: table-cell;\"></div><div style=\"display: table-cell;\">extra_y_ranges&nbsp;=&nbsp;{},</div></div><div class=\"p1101\" style=\"display: none;\"><div style=\"display: table-cell;\"></div><div style=\"display: table-cell;\">extra_y_scales&nbsp;=&nbsp;{},</div></div><div class=\"p1101\" style=\"display: none;\"><div style=\"display: table-cell;\"></div><div style=\"display: table-cell;\">flow_mode&nbsp;=&nbsp;'block',</div></div><div class=\"p1101\" style=\"display: none;\"><div style=\"display: table-cell;\"></div><div style=\"display: table-cell;\">frame_align&nbsp;=&nbsp;True,</div></div><div class=\"p1101\" style=\"display: none;\"><div style=\"display: table-cell;\"></div><div style=\"display: table-cell;\">frame_height&nbsp;=&nbsp;None,</div></div><div class=\"p1101\" style=\"display: none;\"><div style=\"display: table-cell;\"></div><div style=\"display: table-cell;\">frame_width&nbsp;=&nbsp;None,</div></div><div class=\"p1101\" style=\"display: none;\"><div style=\"display: table-cell;\"></div><div style=\"display: table-cell;\">height&nbsp;=&nbsp;400,</div></div><div class=\"p1101\" style=\"display: none;\"><div style=\"display: table-cell;\"></div><div style=\"display: table-cell;\">height_policy&nbsp;=&nbsp;'auto',</div></div><div class=\"p1101\" style=\"display: none;\"><div style=\"display: table-cell;\"></div><div style=\"display: table-cell;\">hidpi&nbsp;=&nbsp;True,</div></div><div class=\"p1101\" style=\"display: none;\"><div style=\"display: table-cell;\"></div><div style=\"display: table-cell;\">hold_render&nbsp;=&nbsp;False,</div></div><div class=\"p1101\" style=\"display: none;\"><div style=\"display: table-cell;\"></div><div style=\"display: table-cell;\">js_event_callbacks&nbsp;=&nbsp;{},</div></div><div class=\"p1101\" style=\"display: none;\"><div style=\"display: table-cell;\"></div><div style=\"display: table-cell;\">js_property_callbacks&nbsp;=&nbsp;{},</div></div><div class=\"p1101\" style=\"display: none;\"><div style=\"display: table-cell;\"></div><div style=\"display: table-cell;\">left&nbsp;=&nbsp;[LinearAxis(id='p1071', ...)],</div></div><div class=\"p1101\" style=\"display: none;\"><div style=\"display: table-cell;\"></div><div style=\"display: table-cell;\">lod_factor&nbsp;=&nbsp;10,</div></div><div class=\"p1101\" style=\"display: none;\"><div style=\"display: table-cell;\"></div><div style=\"display: table-cell;\">lod_interval&nbsp;=&nbsp;300,</div></div><div class=\"p1101\" style=\"display: none;\"><div style=\"display: table-cell;\"></div><div style=\"display: table-cell;\">lod_threshold&nbsp;=&nbsp;2000,</div></div><div class=\"p1101\" style=\"display: none;\"><div style=\"display: table-cell;\"></div><div style=\"display: table-cell;\">lod_timeout&nbsp;=&nbsp;500,</div></div><div class=\"p1101\" style=\"display: none;\"><div style=\"display: table-cell;\"></div><div style=\"display: table-cell;\">margin&nbsp;=&nbsp;None,</div></div><div class=\"p1101\" style=\"display: none;\"><div style=\"display: table-cell;\"></div><div style=\"display: table-cell;\">match_aspect&nbsp;=&nbsp;False,</div></div><div class=\"p1101\" style=\"display: none;\"><div style=\"display: table-cell;\"></div><div style=\"display: table-cell;\">max_height&nbsp;=&nbsp;None,</div></div><div class=\"p1101\" style=\"display: none;\"><div style=\"display: table-cell;\"></div><div style=\"display: table-cell;\">max_width&nbsp;=&nbsp;None,</div></div><div class=\"p1101\" style=\"display: none;\"><div style=\"display: table-cell;\"></div><div style=\"display: table-cell;\">min_border&nbsp;=&nbsp;5,</div></div><div class=\"p1101\" style=\"display: none;\"><div style=\"display: table-cell;\"></div><div style=\"display: table-cell;\">min_border_bottom&nbsp;=&nbsp;None,</div></div><div class=\"p1101\" style=\"display: none;\"><div style=\"display: table-cell;\"></div><div style=\"display: table-cell;\">min_border_left&nbsp;=&nbsp;None,</div></div><div class=\"p1101\" style=\"display: none;\"><div style=\"display: table-cell;\"></div><div style=\"display: table-cell;\">min_border_right&nbsp;=&nbsp;None,</div></div><div class=\"p1101\" style=\"display: none;\"><div style=\"display: table-cell;\"></div><div style=\"display: table-cell;\">min_border_top&nbsp;=&nbsp;None,</div></div><div class=\"p1101\" style=\"display: none;\"><div style=\"display: table-cell;\"></div><div style=\"display: table-cell;\">min_height&nbsp;=&nbsp;None,</div></div><div class=\"p1101\" style=\"display: none;\"><div style=\"display: table-cell;\"></div><div style=\"display: table-cell;\">min_width&nbsp;=&nbsp;None,</div></div><div class=\"p1101\" style=\"display: none;\"><div style=\"display: table-cell;\"></div><div style=\"display: table-cell;\">name&nbsp;=&nbsp;None,</div></div><div class=\"p1101\" style=\"display: none;\"><div style=\"display: table-cell;\"></div><div style=\"display: table-cell;\">outline_line_alpha&nbsp;=&nbsp;1.0,</div></div><div class=\"p1101\" style=\"display: none;\"><div style=\"display: table-cell;\"></div><div style=\"display: table-cell;\">outline_line_cap&nbsp;=&nbsp;'butt',</div></div><div class=\"p1101\" style=\"display: none;\"><div style=\"display: table-cell;\"></div><div style=\"display: table-cell;\">outline_line_color&nbsp;=&nbsp;'#e5e5e5',</div></div><div class=\"p1101\" style=\"display: none;\"><div style=\"display: table-cell;\"></div><div style=\"display: table-cell;\">outline_line_dash&nbsp;=&nbsp;[],</div></div><div class=\"p1101\" style=\"display: none;\"><div style=\"display: table-cell;\"></div><div style=\"display: table-cell;\">outline_line_dash_offset&nbsp;=&nbsp;0,</div></div><div class=\"p1101\" style=\"display: none;\"><div style=\"display: table-cell;\"></div><div style=\"display: table-cell;\">outline_line_join&nbsp;=&nbsp;'bevel',</div></div><div class=\"p1101\" style=\"display: none;\"><div style=\"display: table-cell;\"></div><div style=\"display: table-cell;\">outline_line_width&nbsp;=&nbsp;1,</div></div><div class=\"p1101\" style=\"display: none;\"><div style=\"display: table-cell;\"></div><div style=\"display: table-cell;\">output_backend&nbsp;=&nbsp;'canvas',</div></div><div class=\"p1101\" style=\"display: none;\"><div style=\"display: table-cell;\"></div><div style=\"display: table-cell;\">renderers&nbsp;=&nbsp;[GlyphRenderer(id='p1095', ...)],</div></div><div class=\"p1101\" style=\"display: none;\"><div style=\"display: table-cell;\"></div><div style=\"display: table-cell;\">reset_policy&nbsp;=&nbsp;'standard',</div></div><div class=\"p1101\" style=\"display: none;\"><div style=\"display: table-cell;\"></div><div style=\"display: table-cell;\">resizable&nbsp;=&nbsp;False,</div></div><div class=\"p1101\" style=\"display: none;\"><div style=\"display: table-cell;\"></div><div style=\"display: table-cell;\">right&nbsp;=&nbsp;[],</div></div><div class=\"p1101\" style=\"display: none;\"><div style=\"display: table-cell;\"></div><div style=\"display: table-cell;\">sizing_mode&nbsp;=&nbsp;None,</div></div><div class=\"p1101\" style=\"display: none;\"><div style=\"display: table-cell;\"></div><div style=\"display: table-cell;\">styles&nbsp;=&nbsp;{},</div></div><div class=\"p1101\" style=\"display: none;\"><div style=\"display: table-cell;\"></div><div style=\"display: table-cell;\">stylesheets&nbsp;=&nbsp;[],</div></div><div class=\"p1101\" style=\"display: none;\"><div style=\"display: table-cell;\"></div><div style=\"display: table-cell;\">subscribed_events&nbsp;=&nbsp;PropertyValueSet(),</div></div><div class=\"p1101\" style=\"display: none;\"><div style=\"display: table-cell;\"></div><div style=\"display: table-cell;\">syncable&nbsp;=&nbsp;True,</div></div><div class=\"p1101\" style=\"display: none;\"><div style=\"display: table-cell;\"></div><div style=\"display: table-cell;\">tags&nbsp;=&nbsp;[],</div></div><div class=\"p1101\" style=\"display: none;\"><div style=\"display: table-cell;\"></div><div style=\"display: table-cell;\">title&nbsp;=&nbsp;Title(id='p1062', ...),</div></div><div class=\"p1101\" style=\"display: none;\"><div style=\"display: table-cell;\"></div><div style=\"display: table-cell;\">title_location&nbsp;=&nbsp;'above',</div></div><div class=\"p1101\" style=\"display: none;\"><div style=\"display: table-cell;\"></div><div style=\"display: table-cell;\">toolbar&nbsp;=&nbsp;Toolbar(id='p1063', ...),</div></div><div class=\"p1101\" style=\"display: none;\"><div style=\"display: table-cell;\"></div><div style=\"display: table-cell;\">toolbar_inner&nbsp;=&nbsp;False,</div></div><div class=\"p1101\" style=\"display: none;\"><div style=\"display: table-cell;\"></div><div style=\"display: table-cell;\">toolbar_location&nbsp;=&nbsp;'right',</div></div><div class=\"p1101\" style=\"display: none;\"><div style=\"display: table-cell;\"></div><div style=\"display: table-cell;\">toolbar_sticky&nbsp;=&nbsp;True,</div></div><div class=\"p1101\" style=\"display: none;\"><div style=\"display: table-cell;\"></div><div style=\"display: table-cell;\">visible&nbsp;=&nbsp;True,</div></div><div class=\"p1101\" style=\"display: none;\"><div style=\"display: table-cell;\"></div><div style=\"display: table-cell;\">width&nbsp;=&nbsp;600,</div></div><div class=\"p1101\" style=\"display: none;\"><div style=\"display: table-cell;\"></div><div style=\"display: table-cell;\">width_policy&nbsp;=&nbsp;'auto',</div></div><div class=\"p1101\" style=\"display: none;\"><div style=\"display: table-cell;\"></div><div style=\"display: table-cell;\">x_range&nbsp;=&nbsp;DataRange1d(id='p1056', ...),</div></div><div class=\"p1101\" style=\"display: none;\"><div style=\"display: table-cell;\"></div><div style=\"display: table-cell;\">x_scale&nbsp;=&nbsp;LinearScale(id='p1064', ...),</div></div><div class=\"p1101\" style=\"display: none;\"><div style=\"display: table-cell;\"></div><div style=\"display: table-cell;\">y_range&nbsp;=&nbsp;DataRange1d(id='p1057', ...),</div></div><div class=\"p1101\" style=\"display: none;\"><div style=\"display: table-cell;\"></div><div style=\"display: table-cell;\">y_scale&nbsp;=&nbsp;LinearScale(id='p1065', ...))</div></div></div>\n",
              "<script>\n",
              "(function() {\n",
              "  let expanded = false;\n",
              "  const ellipsis = document.getElementById(\"p1102\");\n",
              "  ellipsis.addEventListener(\"click\", function() {\n",
              "    const rows = document.getElementsByClassName(\"p1101\");\n",
              "    for (let i = 0; i < rows.length; i++) {\n",
              "      const el = rows[i];\n",
              "      el.style.display = expanded ? \"none\" : \"table-row\";\n",
              "    }\n",
              "    ellipsis.innerHTML = expanded ? \"&hellip;)\" : \"&lsaquo;&lsaquo;&lsaquo;\";\n",
              "    expanded = !expanded;\n",
              "  });\n",
              "})();\n",
              "</script>\n"
            ]
          },
          "metadata": {},
          "execution_count": 81
        }
      ]
    }
  ],
  "metadata": {
    "colab": {
      "provenance": [],
      "include_colab_link": true
    },
    "kernelspec": {
      "display_name": "py3_research",
      "language": "python",
      "name": "python3"
    },
    "language_info": {
      "codemirror_mode": {
        "name": "ipython",
        "version": 3
      },
      "file_extension": ".py",
      "mimetype": "text/x-python",
      "name": "python",
      "nbconvert_exporter": "python",
      "pygments_lexer": "ipython3",
      "version": "3.11.2"
    },
    "widgets": {
      "application/vnd.jupyter.widget-state+json": {
        "9a1001fd56904c2cad6da2437cedc223": {
          "model_module": "@jupyter-widgets/controls",
          "model_name": "HBoxModel",
          "model_module_version": "1.5.0",
          "state": {
            "_dom_classes": [],
            "_model_module": "@jupyter-widgets/controls",
            "_model_module_version": "1.5.0",
            "_model_name": "HBoxModel",
            "_view_count": null,
            "_view_module": "@jupyter-widgets/controls",
            "_view_module_version": "1.5.0",
            "_view_name": "HBoxView",
            "box_style": "",
            "children": [
              "IPY_MODEL_168ea4fc0b77459196c39bf00302231e",
              "IPY_MODEL_146dc53f50094f2ea81bda978b952c3a",
              "IPY_MODEL_4059397cba414fcbbdd84187cfc32396"
            ],
            "layout": "IPY_MODEL_a3c3de8736e84fb1b5d1af7aac649994"
          }
        },
        "168ea4fc0b77459196c39bf00302231e": {
          "model_module": "@jupyter-widgets/controls",
          "model_name": "HTMLModel",
          "model_module_version": "1.5.0",
          "state": {
            "_dom_classes": [],
            "_model_module": "@jupyter-widgets/controls",
            "_model_module_version": "1.5.0",
            "_model_name": "HTMLModel",
            "_view_count": null,
            "_view_module": "@jupyter-widgets/controls",
            "_view_module_version": "1.5.0",
            "_view_name": "HTMLView",
            "description": "",
            "description_tooltip": null,
            "layout": "IPY_MODEL_b2bfd48aa50c4c8b8248d4c205cf806d",
            "placeholder": "​",
            "style": "IPY_MODEL_e59d9f29a9364239a1bf095a17425ddf",
            "value": "100%"
          }
        },
        "146dc53f50094f2ea81bda978b952c3a": {
          "model_module": "@jupyter-widgets/controls",
          "model_name": "FloatProgressModel",
          "model_module_version": "1.5.0",
          "state": {
            "_dom_classes": [],
            "_model_module": "@jupyter-widgets/controls",
            "_model_module_version": "1.5.0",
            "_model_name": "FloatProgressModel",
            "_view_count": null,
            "_view_module": "@jupyter-widgets/controls",
            "_view_module_version": "1.5.0",
            "_view_name": "ProgressView",
            "bar_style": "success",
            "description": "",
            "description_tooltip": null,
            "layout": "IPY_MODEL_4b91b46c6b664d569a8111ee0cd0d7e6",
            "max": 2500,
            "min": 0,
            "orientation": "horizontal",
            "style": "IPY_MODEL_9bb0f40d14054ae2817fd03aee6a170a",
            "value": 2500
          }
        },
        "4059397cba414fcbbdd84187cfc32396": {
          "model_module": "@jupyter-widgets/controls",
          "model_name": "HTMLModel",
          "model_module_version": "1.5.0",
          "state": {
            "_dom_classes": [],
            "_model_module": "@jupyter-widgets/controls",
            "_model_module_version": "1.5.0",
            "_model_name": "HTMLModel",
            "_view_count": null,
            "_view_module": "@jupyter-widgets/controls",
            "_view_module_version": "1.5.0",
            "_view_name": "HTMLView",
            "description": "",
            "description_tooltip": null,
            "layout": "IPY_MODEL_6718b75eec8b409ca2a8147315a9e72d",
            "placeholder": "​",
            "style": "IPY_MODEL_6ead59d3ee6240d0b2be71fb15458daf",
            "value": " 2500/2500 [55:34&lt;00:00,  1.37s/it]"
          }
        },
        "a3c3de8736e84fb1b5d1af7aac649994": {
          "model_module": "@jupyter-widgets/base",
          "model_name": "LayoutModel",
          "model_module_version": "1.2.0",
          "state": {
            "_model_module": "@jupyter-widgets/base",
            "_model_module_version": "1.2.0",
            "_model_name": "LayoutModel",
            "_view_count": null,
            "_view_module": "@jupyter-widgets/base",
            "_view_module_version": "1.2.0",
            "_view_name": "LayoutView",
            "align_content": null,
            "align_items": null,
            "align_self": null,
            "border": null,
            "bottom": null,
            "display": null,
            "flex": null,
            "flex_flow": null,
            "grid_area": null,
            "grid_auto_columns": null,
            "grid_auto_flow": null,
            "grid_auto_rows": null,
            "grid_column": null,
            "grid_gap": null,
            "grid_row": null,
            "grid_template_areas": null,
            "grid_template_columns": null,
            "grid_template_rows": null,
            "height": null,
            "justify_content": null,
            "justify_items": null,
            "left": null,
            "margin": null,
            "max_height": null,
            "max_width": null,
            "min_height": null,
            "min_width": null,
            "object_fit": null,
            "object_position": null,
            "order": null,
            "overflow": null,
            "overflow_x": null,
            "overflow_y": null,
            "padding": null,
            "right": null,
            "top": null,
            "visibility": null,
            "width": null
          }
        },
        "b2bfd48aa50c4c8b8248d4c205cf806d": {
          "model_module": "@jupyter-widgets/base",
          "model_name": "LayoutModel",
          "model_module_version": "1.2.0",
          "state": {
            "_model_module": "@jupyter-widgets/base",
            "_model_module_version": "1.2.0",
            "_model_name": "LayoutModel",
            "_view_count": null,
            "_view_module": "@jupyter-widgets/base",
            "_view_module_version": "1.2.0",
            "_view_name": "LayoutView",
            "align_content": null,
            "align_items": null,
            "align_self": null,
            "border": null,
            "bottom": null,
            "display": null,
            "flex": null,
            "flex_flow": null,
            "grid_area": null,
            "grid_auto_columns": null,
            "grid_auto_flow": null,
            "grid_auto_rows": null,
            "grid_column": null,
            "grid_gap": null,
            "grid_row": null,
            "grid_template_areas": null,
            "grid_template_columns": null,
            "grid_template_rows": null,
            "height": null,
            "justify_content": null,
            "justify_items": null,
            "left": null,
            "margin": null,
            "max_height": null,
            "max_width": null,
            "min_height": null,
            "min_width": null,
            "object_fit": null,
            "object_position": null,
            "order": null,
            "overflow": null,
            "overflow_x": null,
            "overflow_y": null,
            "padding": null,
            "right": null,
            "top": null,
            "visibility": null,
            "width": null
          }
        },
        "e59d9f29a9364239a1bf095a17425ddf": {
          "model_module": "@jupyter-widgets/controls",
          "model_name": "DescriptionStyleModel",
          "model_module_version": "1.5.0",
          "state": {
            "_model_module": "@jupyter-widgets/controls",
            "_model_module_version": "1.5.0",
            "_model_name": "DescriptionStyleModel",
            "_view_count": null,
            "_view_module": "@jupyter-widgets/base",
            "_view_module_version": "1.2.0",
            "_view_name": "StyleView",
            "description_width": ""
          }
        },
        "4b91b46c6b664d569a8111ee0cd0d7e6": {
          "model_module": "@jupyter-widgets/base",
          "model_name": "LayoutModel",
          "model_module_version": "1.2.0",
          "state": {
            "_model_module": "@jupyter-widgets/base",
            "_model_module_version": "1.2.0",
            "_model_name": "LayoutModel",
            "_view_count": null,
            "_view_module": "@jupyter-widgets/base",
            "_view_module_version": "1.2.0",
            "_view_name": "LayoutView",
            "align_content": null,
            "align_items": null,
            "align_self": null,
            "border": null,
            "bottom": null,
            "display": null,
            "flex": null,
            "flex_flow": null,
            "grid_area": null,
            "grid_auto_columns": null,
            "grid_auto_flow": null,
            "grid_auto_rows": null,
            "grid_column": null,
            "grid_gap": null,
            "grid_row": null,
            "grid_template_areas": null,
            "grid_template_columns": null,
            "grid_template_rows": null,
            "height": null,
            "justify_content": null,
            "justify_items": null,
            "left": null,
            "margin": null,
            "max_height": null,
            "max_width": null,
            "min_height": null,
            "min_width": null,
            "object_fit": null,
            "object_position": null,
            "order": null,
            "overflow": null,
            "overflow_x": null,
            "overflow_y": null,
            "padding": null,
            "right": null,
            "top": null,
            "visibility": null,
            "width": null
          }
        },
        "9bb0f40d14054ae2817fd03aee6a170a": {
          "model_module": "@jupyter-widgets/controls",
          "model_name": "ProgressStyleModel",
          "model_module_version": "1.5.0",
          "state": {
            "_model_module": "@jupyter-widgets/controls",
            "_model_module_version": "1.5.0",
            "_model_name": "ProgressStyleModel",
            "_view_count": null,
            "_view_module": "@jupyter-widgets/base",
            "_view_module_version": "1.2.0",
            "_view_name": "StyleView",
            "bar_color": null,
            "description_width": ""
          }
        },
        "6718b75eec8b409ca2a8147315a9e72d": {
          "model_module": "@jupyter-widgets/base",
          "model_name": "LayoutModel",
          "model_module_version": "1.2.0",
          "state": {
            "_model_module": "@jupyter-widgets/base",
            "_model_module_version": "1.2.0",
            "_model_name": "LayoutModel",
            "_view_count": null,
            "_view_module": "@jupyter-widgets/base",
            "_view_module_version": "1.2.0",
            "_view_name": "LayoutView",
            "align_content": null,
            "align_items": null,
            "align_self": null,
            "border": null,
            "bottom": null,
            "display": null,
            "flex": null,
            "flex_flow": null,
            "grid_area": null,
            "grid_auto_columns": null,
            "grid_auto_flow": null,
            "grid_auto_rows": null,
            "grid_column": null,
            "grid_gap": null,
            "grid_row": null,
            "grid_template_areas": null,
            "grid_template_columns": null,
            "grid_template_rows": null,
            "height": null,
            "justify_content": null,
            "justify_items": null,
            "left": null,
            "margin": null,
            "max_height": null,
            "max_width": null,
            "min_height": null,
            "min_width": null,
            "object_fit": null,
            "object_position": null,
            "order": null,
            "overflow": null,
            "overflow_x": null,
            "overflow_y": null,
            "padding": null,
            "right": null,
            "top": null,
            "visibility": null,
            "width": null
          }
        },
        "6ead59d3ee6240d0b2be71fb15458daf": {
          "model_module": "@jupyter-widgets/controls",
          "model_name": "DescriptionStyleModel",
          "model_module_version": "1.5.0",
          "state": {
            "_model_module": "@jupyter-widgets/controls",
            "_model_module_version": "1.5.0",
            "_model_name": "DescriptionStyleModel",
            "_view_count": null,
            "_view_module": "@jupyter-widgets/base",
            "_view_module_version": "1.2.0",
            "_view_name": "StyleView",
            "description_width": ""
          }
        }
      }
    }
  },
  "nbformat": 4,
  "nbformat_minor": 0
}